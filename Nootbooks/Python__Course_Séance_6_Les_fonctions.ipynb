{
 "cells": [
  {
   "cell_type": "markdown",
   "id": "42a14256-91c8-446e-92a7-ab6bf11055d3",
   "metadata": {
    "id": "42a14256-91c8-446e-92a7-ab6bf11055d3"
   },
   "source": [
    "# Python – Séance 6 : Les fonctions\n",
    "\n",
    "------------------------------------------------------------------------\n",
    "\n",
    "## Introduction\n",
    "\n",
    "Les fonctions sont des blocs de code réutilisables qui permettent\n",
    "d’automatiser des tâches, d’organiser un programme et de rendre le code\n",
    "plus lisible. Dans le contexte de l’urbanisme, elles facilitent le\n",
    "traitement de données, le calcul d’indicateurs et la génération de\n",
    "rapports.\n",
    "\n",
    "**Objectifs pédagogiques :**\n",
    "- Comprendre la syntaxe et l’utilité des\n",
    "fonctions en Python\n",
    "- Savoir définir, appeler et documenter une\n",
    "fonction\n",
    "- Maîtriser les notions de paramètres, arguments, et valeurs de\n",
    "retour\n",
    "- Appliquer ces concepts à des cas concrets en urbanisme\n",
    "\n",
    "## 1. Pourquoi utiliser des fonctions ?\n",
    "\n",
    "Les fonctions permettent de :\n",
    "- Réutiliser du code sans le réécrire\n",
    "-Structurer un programme en blocs logiques\n",
    "- Clarifier et documenter les\n",
    "calculs\n",
    "\n",
    "Exemple concret : calculer la densité urbaine de plusieurs villes,\n",
    "générer des rapports automatiques, etc.\n",
    "\n",
    "------------------------------------------------------------------------\n",
    "\n",
    "## 2. Définition d’une fonction\n",
    "\n",
    "### 2.1 Syntaxe de base\n",
    "\n"
   ]
  },
  {
   "cell_type": "code",
   "execution_count": 4,
   "id": "udUe_b4hyVvw",
   "metadata": {
    "id": "udUe_b4hyVvw"
   },
   "outputs": [],
   "source": [
    "def nom_de_fonction(param1, param2):\n",
    "    \"\"\"Description de la fonction.\"\"\"\n",
    "    # Instructions\n",
    "    return resultat  # optionnel"
   ]
  },
  {
   "cell_type": "markdown",
   "id": "HwEY2JK4ynaD",
   "metadata": {
    "id": "HwEY2JK4ynaD"
   },
   "source": [
    "-   `def` : mot-clé pour définir une fonction\n",
    "-   Paramètres : données d’entrée\n",
    "-   Docstring : courte description entre triple guillemets\n",
    "-   `return` : valeur(s) renvoyée(s)\n",
    "\n",
    "### 2.2 Exemple simple\n",
    "\n",
    "Prenons un exemple concret : calculer la surface d’une parcelle\n",
    "rectangulaire."
   ]
  },
  {
   "cell_type": "code",
   "execution_count": 1,
   "id": "8MFHBUOdytqi",
   "metadata": {
    "colab": {
     "base_uri": "https://localhost:8080/"
    },
    "id": "8MFHBUOdytqi",
    "outputId": "709ee3d3-4aa7-4977-b791-a1e258c00ba6"
   },
   "outputs": [
    {
     "name": "stdout",
     "output_type": "stream",
     "text": [
      "Surface : 96 km²\n"
     ]
    }
   ],
   "source": [
    "def calculer_surface(long, larg):\n",
    "    \"\"\"Calcule la surface (km²) d’une parcelle rectangulaire.\"\"\"\n",
    "    return long * larg\n",
    "\n",
    "# Exemple d'utilisation\n",
    "surface = calculer_surface(12, 8)\n",
    "print(f\"Surface : {surface} km²\")  # Surface : 96 km²"
   ]
  },
  {
   "cell_type": "markdown",
   "id": "pIrdGuz2ywvc",
   "metadata": {
    "id": "pIrdGuz2ywvc"
   },
   "source": [
    "**Exercice 1 :** Définis une fonction `calculer_perimetre` qui prend\n",
    "la longueur et la largeur d’une parcelle et retourne son périmètre.\n",
    "\n",
    "<details>\n",
    "<summary>\n",
    "Correction\n",
    "</summary>\n",
    "\n",
    "``` python\n",
    "def calculer_perimetre(long, larg):\n",
    "    \"\"\"Calcule le périmètre d’une parcelle rectangulaire.\"\"\"\n",
    "    return 2 * (long + larg)\n",
    "\n",
    "print(calculer_perimetre(12, 8))  # 40\n",
    "```\n",
    "\n",
    "</details>\n",
    "\n",
    "Avant d’utiliser une fonction, il faut la définir. Une fonction est un\n",
    "bloc de code réutilisable qui prend des paramètres (ici la longueur et\n",
    "la largeur) et effectue une opération (ici, le calcul de surface d’une\n",
    "parcelle rectangulaire). Les fonctions permettent d’automatiser des\n",
    "calculs répétitifs et d’organiser le code.\n"
   ]
  },
  {
   "cell_type": "code",
   "execution_count": 5,
   "id": "NxG6GvibnEeR",
   "metadata": {
    "id": "NxG6GvibnEeR"
   },
   "outputs": [],
   "source": []
  },
  {
   "cell_type": "markdown",
   "id": "O1N7QZZtzc38",
   "metadata": {
    "id": "O1N7QZZtzc38"
   },
   "source": [
    "Dans cet exemple :\n",
    "- `def` indique le début de la définition de la\n",
    "fonction.\n",
    "- `calculer_surface` est le nom de la fonction.\n",
    "- `long` et `larg` sont les paramètres (arguments d’entrée).\n",
    "- La chaîne triple\n",
    "guillemets `\"\"\"...\"\"\"` est appelée *docstring* : elle sert à documenter\n",
    "la fonction, c’est-à-dire à expliquer brièvement ce qu’elle fait. Cette\n",
    "documentation est accessible par le code et très utile pour\n",
    "l’utilisateur.\n",
    "- `return` indique la valeur renvoyée par la fonction\n",
    "(ici, le produit des deux paramètres).\n",
    "\n",
    "Appel et affichage du docstring :\n",
    "\n",
    "On peut accéder à la documentation d’une fonction grâce à l’attribut\n",
    "`__doc__` :"
   ]
  },
  {
   "cell_type": "code",
   "execution_count": 6,
   "id": "WoL1oUznzi3C",
   "metadata": {
    "colab": {
     "base_uri": "https://localhost:8080/"
    },
    "id": "WoL1oUznzi3C",
    "outputId": "833a8a52-adb7-42d4-ea2e-1faf4750a194"
   },
   "outputs": [
    {
     "name": "stdout",
     "output_type": "stream",
     "text": [
      "Calcule la surface (km²) d’une parcelle rectangulaire.\n"
     ]
    }
   ],
   "source": [
    "print(calculer_surface.__doc__)\n",
    "# Affiche : Calcule la surface (km²) d’une parcelle rectangulaire."
   ]
  },
  {
   "cell_type": "markdown",
   "id": "KRbbeBiCzmBU",
   "metadata": {
    "id": "KRbbeBiCzmBU"
   },
   "source": [
    "Cela permet de rappeler rapidement le but de la fonction, surtout dans\n",
    "des projets collaboratifs ou volumineux.\n",
    "\n",
    "------------------------------------------------------------------------\n",
    "\n",
    "## 3. Appel d’une fonction\n",
    "\n",
    "Pour utiliser une fonction, il suffit de l’appeler en fournissant les\n",
    "arguments attendus entre parenthèses. Le résultat de la fonction peut\n",
    "être stocké dans une variable :\n",
    "\n",
    "```python:\n",
    "resultat = nom_de_fonction(arg1, arg2)\n",
    "```\n",
    "Ici, `nom_de_fonction` est remplacé par le nom réel de la fonction, et\n",
    "`arg1`, `arg2` par les valeurs à traiter. L’appel exécute le code de la\n",
    "fonction avec ces valeurs.\n",
    "\n",
    "------------------------------------------------------------------------\n",
    "\n",
    "## 4. Valeur(s) de retour\n",
    "\n",
    "Une fonction peut renvoyer une ou plusieurs valeurs grâce à\n",
    "l’instruction `return`. Si `return` n’est pas utilisé, la fonction\n",
    "renverra automatiquement `None` (c’est-à-dire “rien”).\n",
    "\n",
    "Il est possible de retourner plusieurs valeurs en même temps, sous forme\n",
    "de tuple, liste ou dictionnaire. Cela permet de transmettre plusieurs\n",
    "résultats d’un seul coup.\n",
    "\n",
    "### Exemple : Retour de plusieurs valeurs\n",
    "\n",
    "Dans l’exemple suivant, la fonction `diagnostic_zone` calcule la densité\n",
    "d’une zone (population/surface) et, selon le résultat, attribue une\n",
    "catégorie à la zone (“très dense” ou “modérée”). Elle retourne ces deux\n",
    "informations en même temps :"
   ]
  },
  {
   "cell_type": "code",
   "execution_count": 15,
   "id": "5avnNkDxzvIT",
   "metadata": {
    "id": "5avnNkDxzvIT"
   },
   "outputs": [
    {
     "name": "stdin",
     "output_type": "stream",
     "text": [
      "Entrer la population 1522000\n",
      "Entrer la surface 155\n"
     ]
    },
    {
     "name": "stdout",
     "output_type": "stream",
     "text": [
      "le densite est : 9819.354838709678 , categorie est : modérée\n"
     ]
    }
   ],
   "source": [
    "def diagnostic_zone(pop, surf):\n",
    "    \"\"\"Retourne la densité et la catégorie de la zone.\"\"\"\n",
    "    densite = pop / surf\n",
    "    if densite > 10000:\n",
    "        categorie = \"très dense\"\n",
    "    else:\n",
    "        categorie = \"modérée\"\n",
    "    return densite, categorie\n",
    "\n",
    "pop = int(input(\"Entrer la population\"))\n",
    "surf = float(input(\"Entrer la surface\"))        \n",
    "\n",
    "\n",
    "densite, categorie = diagnostic_zone(pop, surf)\n",
    "print(f\"le densite est : {densite} , categorie est : {categorie}\")"
   ]
  },
  {
   "cell_type": "markdown",
   "id": "O0IcLOFwzyyg",
   "metadata": {
    "id": "O0IcLOFwzyyg"
   },
   "source": [
    " **Ici, `d` recevra la densité calculée et `cat` la catégorie correspondante. Cette technique est très pratique pour obtenir plusieurs résultats d’un seul appel de fonction, par exemple lors de l’analyse d’indicateurs urbains.**\n",
    "\n",
    "## 5. Portée des variables : global vs local\n",
    "\n",
    "Il existe deux types de variables dans une fonction : - **Variables\n",
    "locales** : définies à l’intérieur de la fonction, elles ne sont\n",
    "accessibles qu’à l’intérieur de celle-ci. - **Variables globales** :\n",
    "définies en dehors de toute fonction, elles sont accessibles partout\n",
    "dans le script.\n",
    "\n",
    "Exemple :"
   ]
  },
  {
   "cell_type": "code",
   "execution_count": 16,
   "id": "W0V2eGXIz2dC",
   "metadata": {
    "colab": {
     "base_uri": "https://localhost:8080/"
    },
    "id": "W0V2eGXIz2dC",
    "outputId": "a73d7f30-9232-4be3-89db-8b8ef996a052"
   },
   "outputs": [
    {
     "name": "stdout",
     "output_type": "stream",
     "text": [
      "Plus dense que la moyenne nationale\n"
     ]
    }
   ],
   "source": [
    "taux_national = 5000  # variable globale\n",
    "\n",
    "def comparer_densites(densite_zone):\n",
    "    # densite_zone et taux_national sont visibles ici\n",
    "    if densite_zone > taux_national:\n",
    "        print(\"Plus dense que la moyenne nationale\")\n",
    "    else:\n",
    "        print(\"Moins dense que la moyenne nationale\")\n",
    "\n",
    "comparer_densites(12000)"
   ]
  },
  {
   "cell_type": "markdown",
   "id": "7K18thH2z5kK",
   "metadata": {
    "id": "7K18thH2z5kK"
   },
   "source": [
    "> **Remarque** : Pour modifier une variable globale depuis l’intérieur\n",
    "> d’une fonction, il faut utiliser le mot-clé `global`.\n",
    "\n",
    "------------------------------------------------------------------------\n",
    "\n",
    "## 6. Paramètres vs arguments\n",
    "\n",
    "-   **Paramètre** : nom utilisé dans la définition de la fonction\n",
    "    (variable d’entrée).\n",
    "-   **Argument** : valeur réelle passée lors de l’appel de la fonction.\n",
    "\n",
    "Exemple :"
   ]
  },
  {
   "cell_type": "code",
   "execution_count": 27,
   "id": "Png2z8xUz9Hk",
   "metadata": {
    "colab": {
     "base_uri": "https://localhost:8080/"
    },
    "id": "Png2z8xUz9Hk",
    "outputId": "f25bec65-22d1-4d58-b6e6-83192bbd784e"
   },
   "outputs": [
    {
     "name": "stdout",
     "output_type": "stream",
     "text": [
      "Fès : 1112000 habitants\n"
     ]
    }
   ],
   "source": [
    "def afficher_population(ville, population):  # ville et population sont des paramètres\n",
    "    print(f\"{ville} : {population} habitants\")\n",
    "\n",
    "# Ici, \"Fès\" et 1112000 sont les arguments\n",
    "afficher_population(\"Fès\", 1112000)"
   ]
  },
  {
   "cell_type": "markdown",
   "id": "9NPsInwaz_69",
   "metadata": {
    "id": "9NPsInwaz_69"
   },
   "source": [
    "------------------------------------------------------------------------\n",
    "\n",
    "## 7. Arguments nommés (keyword arguments)\n",
    "\n",
    "En Python, il est possible de préciser le nom des arguments lors de\n",
    "l’appel d’une fonction, ce qui améliore la clarté et permet de changer\n",
    "l’ordre des arguments si besoin.\n",
    "\n",
    "Exemple :"
   ]
  },
  {
   "cell_type": "code",
   "execution_count": 17,
   "id": "c7BEiXg00ETN",
   "metadata": {
    "colab": {
     "base_uri": "https://localhost:8080/"
    },
    "id": "c7BEiXg00ETN",
    "outputId": "10572c4f-1134-4672-9c30-aeebd1d79975"
   },
   "outputs": [
    {
     "name": "stdout",
     "output_type": "stream",
     "text": [
      "100000\n",
      "75000\n"
     ]
    }
   ],
   "source": [
    "def cout_amenagement(superficie, tarif_m2=150):\n",
    "    \"\"\"\n",
    "    Calcule le coût d’aménagement (MAD) d’une surface en m².\n",
    "    Par défaut, tarif_m2 = 150 MAD/m².\n",
    "    \"\"\"\n",
    "    return superficie * tarif_m2\n",
    "\n",
    "# Utilisation d’un argument nommé\n",
    "cout = cout_amenagement(superficie=500, tarif_m2=200)\n",
    "print(cout)  # 100000\n",
    "cout = cout_amenagement(superficie=500)\n",
    "print(cout)  # 100000"
   ]
  },
  {
   "cell_type": "markdown",
   "id": "s4Gxrvrs0Hzq",
   "metadata": {
    "id": "s4Gxrvrs0Hzq"
   },
   "source": [
    "------------------------------------------------------------------------\n",
    "\n",
    "## 8. Arguments de longueur variable (\\*args, \\*\\*kwargs)\n",
    "\n",
    "Parfois, on ne connaît pas à l’avance le nombre d’arguments à passer à\n",
    "une fonction. On peut alors utiliser :\n",
    "- `*args` pour passer un nombre variable d'arguments positionnels à une fonction.\n",
    "- `**kwargs` pour passer un nombre variable d'arguments nommés (mot-clés) à une fonction.\n",
    "\n",
    "Exemples :\n",
    "\n",
    "**Exemple avec *args (arguments positionnels)**\n"
   ]
  },
  {
   "cell_type": "code",
   "execution_count": 18,
   "id": "EUdHVx02tKLj",
   "metadata": {
    "colab": {
     "base_uri": "https://localhost:8080/"
    },
    "id": "EUdHVx02tKLj",
    "outputId": "ca2da047-275d-4d77-ab92-a1730cce2c53"
   },
   "outputs": [
    {
     "name": "stdout",
     "output_type": "stream",
     "text": [
      "Somme : 6\n",
      "Somme : 200\n"
     ]
    }
   ],
   "source": [
    "def addition(*args):\n",
    "    total = 0\n",
    "    for nombre in args:\n",
    "        total += nombre\n",
    "    print(\"Somme :\", total)\n",
    "\n",
    "addition(1, 2, 3)           # Somme : 6\n",
    "addition(10, 20, 30, 40,10, 20, 30, 40)    # Somme : 100\n"
   ]
  },
  {
   "cell_type": "markdown",
   "id": "8FrQ4Tnetrzp",
   "metadata": {
    "id": "8FrQ4Tnetrzp"
   },
   "source": [
    "Ici, ```args``` est une liste de valeurs qu'on peut parcourir dans une boucle.\n",
    "\n",
    "**Exemple avec **kwargs (arguments nommés)**"
   ]
  },
  {
   "cell_type": "code",
   "execution_count": 28,
   "id": "_FNTXS4Ttcyd",
   "metadata": {
    "colab": {
     "base_uri": "https://localhost:8080/"
    },
    "id": "_FNTXS4Ttcyd",
    "outputId": "c022caea-4d72-41b3-d65c-0ae2a22a871e"
   },
   "outputs": [
    {
     "name": "stdout",
     "output_type": "stream",
     "text": [
      "nom : Saad\n",
      "ville : Rabat\n",
      "age : 40\n"
     ]
    }
   ],
   "source": [
    "def afficher_infos(**kwargs):\n",
    "    for cle, valeur in kwargs.items():\n",
    "        print(f\"{cle} : {valeur}\")\n",
    "\n",
    "afficher_infos(nom=\"Saad\", ville=\"Rabat\", age=40)\n"
   ]
  },
  {
   "cell_type": "code",
   "execution_count": 13,
   "id": "n1mFdwyTtDcK",
   "metadata": {
    "colab": {
     "base_uri": "https://localhost:8080/"
    },
    "id": "n1mFdwyTtDcK",
    "outputId": "3169bb53-2cde-43f9-f879-ef59c51c10c6"
   },
   "outputs": [
    {
     "name": "stdout",
     "output_type": "stream",
     "text": [
      "nom : Amine\n",
      "ville : Rabat\n",
      "age : 30\n"
     ]
    }
   ],
   "source": [
    "def afficher_infos(**kwargs):\n",
    "    for cle, valeur in kwargs.items():\n",
    "        print(f\"{cle} : {valeur}\")\n",
    "\n",
    "afficher_infos(nom=\"Amine\", ville=\"Rabat\", age=30)"
   ]
  },
  {
   "cell_type": "markdown",
   "id": "m-5Q_W6VuLDD",
   "metadata": {
    "id": "m-5Q_W6VuLDD"
   },
   "source": [
    "**Les deux ensemble**"
   ]
  },
  {
   "cell_type": "code",
   "execution_count": 14,
   "id": "5uNZwMg_0Nej",
   "metadata": {
    "colab": {
     "base_uri": "https://localhost:8080/"
    },
    "id": "5uNZwMg_0Nej",
    "outputId": "94fcc94c-5f11-43ca-a340-36e09b7a24d2"
   },
   "outputs": [
    {
     "name": "stdout",
     "output_type": "stream",
     "text": [
      "Zone : Agadir – Densité : 4218.4 hab/km²\n",
      " – Indicateur : Taux de chômage : 12%\n",
      " – Indicateur : Nombre d'écoles : 340\n",
      "Affichage détaillé activé\n",
      "Sortie en JSON demandée\n"
     ]
    }
   ],
   "source": [
    "def rapport_complet(nom_zone, population, superficie, *indicateurs, **options):\n",
    "    \"\"\"\n",
    "    - *indicateurs : liste de métriques additionnelles (ex. taux chômage, nombre d'écoles)\n",
    "    - **options : paramètres nommés (ex. format=\"JSON\", detail=True)\n",
    "    \"\"\"\n",
    "    densite = population / superficie\n",
    "    print(f\"Zone : {nom_zone} – Densité : {densite:.1f} hab/km²\")\n",
    "    for ind in indicateurs:\n",
    "        print(\" – Indicateur :\", ind)\n",
    "    if options.get(\"detail\"):\n",
    "        print(\"Affichage détaillé activé\")\n",
    "    if options.get(\"format\") == \"JSON\":\n",
    "        print(\"Sortie en JSON demandée\")\n",
    "\n",
    "rapport_complet(\n",
    "    \"Agadir\", 421844, 100,\n",
    "    \"Taux de chômage : 12%\", \"Nombre d'écoles : 340\",\n",
    "    detail=True, format=\"JSON\"\n",
    ")"
   ]
  },
  {
   "cell_type": "code",
   "execution_count": 15,
   "id": "Ut_f45la04sS",
   "metadata": {
    "id": "Ut_f45la04sS"
   },
   "outputs": [],
   "source": [
    "taux_national = 5000  # variable globale\n",
    "\n",
    "def comparer_densites(densite_zone):\n",
    "    # densite_zone et taux_national sont visibles ici\n",
    "    if densite_zone > taux_national:\n",
    "        print(\"Plus dense que la moyenne nationale\")\n",
    "    else:\n",
    "        print(\"Moins dense que la moyenne nationale\")"
   ]
  },
  {
   "cell_type": "markdown",
   "id": "DzMvezbY09RY",
   "metadata": {
    "id": "DzMvezbY09RY"
   },
   "source": [
    "Pour modifier une variable globale dans une fonction :"
   ]
  },
  {
   "cell_type": "code",
   "execution_count": 16,
   "id": "e6jz0Zdl06p6",
   "metadata": {
    "id": "e6jz0Zdl06p6"
   },
   "outputs": [],
   "source": [
    "def set_national(n):\n",
    "    global taux_national\n",
    "    taux_national = n"
   ]
  },
  {
   "cell_type": "markdown",
   "id": "KOprUdjCqOr5",
   "metadata": {
    "id": "KOprUdjCqOr5"
   },
   "source": [
    "------------------------------------------------------------------------\n",
    "\n",
    "### Bonnes pratiques\n",
    "\n",
    "-   Ordre : paramètres obligatoires, puis par défaut, puis `*args`, puis\n",
    "    `**kwargs`\n",
    "-   Privilégier des noms explicites et ajouter un docstring\n",
    "-   Valider les arguments reçus (types, bornes, etc.)\n"
   ]
  },
  {
   "cell_type": "markdown",
   "id": "o1L3YXWM1XOT",
   "metadata": {
    "id": "o1L3YXWM1XOT"
   },
   "source": [
    "\n",
    "\n",
    "------------------------------------------------------------------------\n",
    "\n",
    "## 10. Exercices pratiques\n",
    "\n",
    "Pour vous entraîner, voici quelques exercices progressifs. Prenez le\n",
    "temps de les faire avant de regarder la solution proposée.\n",
    "\n",
    "> **Exercice 1 :**   Calculer la densité urbaine de la ville de Rabat\n",
    "\n",
    ">- Densité (hab/km²) = Population / Superficie"
   ]
  },
  {
   "cell_type": "code",
   "execution_count": 31,
   "id": "YN5uvVuu1aR1",
   "metadata": {
    "colab": {
     "base_uri": "https://localhost:8080/"
    },
    "id": "YN5uvVuu1aR1",
    "outputId": "0aa59374-888c-4380-8edd-fe8ec36eedbf"
   },
   "outputs": [
    {
     "name": "stdout",
     "output_type": "stream",
     "text": [
      "Densité à Rabat : 4896.8 hab/km²\n"
     ]
    }
   ],
   "source": [
    "def calculer_densite(population, superficie):\n",
    "    \"\"\"\n",
    "    Retourne la densité (hab/km²) pour une population donnée et une superficie en km².\n",
    "    Lève une erreur si la superficie n'est pas strictement positive.\n",
    "    \"\"\"\n",
    "    if superficie <= 0:\n",
    "        raise ValueError(\"La superficie doit être strictement positive\")\n",
    "    return population / superficie\n",
    "\n",
    "rabat_pop = 577_827\n",
    "rabat_superficie = 118  # km²\n",
    "\n",
    "print(f\"Densité à Rabat : {calculer_densite(rabat_pop, rabat_superficie):.1f} hab/km²\")"
   ]
  },
  {
   "cell_type": "markdown",
   "id": "K6fZYGQl1cYW",
   "metadata": {
    "id": "K6fZYGQl1cYW"
   },
   "source": [
    "> **Exercice 2** : Calculez la densité de Casablanca (3.36M hab, 220 km²)"
   ]
  },
  {
   "cell_type": "code",
   "execution_count": 34,
   "id": "kRObKgyE1eRg",
   "metadata": {
    "id": "kRObKgyE1eRg"
   },
   "outputs": [
    {
     "name": "stdout",
     "output_type": "stream",
     "text": [
      "Densité Casablanca: 15272.7 hab/km²\n"
     ]
    }
   ],
   "source": [
    "casablanca_pop = 3_360_000\n",
    "casablanca_superficie = 220\n",
    "print(f\"Densité Casablanca: {calculer_densite(casablanca_pop, casablanca_superficie):.1f} hab/km²\")\n",
    "# Résultat : Densité Casablanca: 15272.7 hab/km²"
   ]
  },
  {
   "cell_type": "markdown",
   "id": "SRyVqPj31lE3",
   "metadata": {
    "id": "SRyVqPj31lE3"
   },
   "source": [
    "> **Exercice 3 :** Écris une fonction `classer_ville` qui prend en\n",
    "> paramètre la population d’une ville et retourne sa catégorie :\n",
    "> « Petite ville » (moins de 100 000 hab.), « Ville moyenne » (entre\n",
    "> 100 000 et 1 000 000 hab.), ou « Mégapole » (plus de 1 000 000 hab.)."
   ]
  },
  {
   "cell_type": "code",
   "execution_count": 36,
   "id": "uqJbUqKf1quQ",
   "metadata": {
    "id": "uqJbUqKf1quQ"
   },
   "outputs": [
    {
     "name": "stdout",
     "output_type": "stream",
     "text": [
      "Fès : Métropole\n",
      "Agadir : Ville moyenne\n"
     ]
    }
   ],
   "source": [
    "def classer_ville(population):\n",
    "    \"\"\"Classe les villes marocaines selon leur population\"\"\"\n",
    "    if population > 1_000_000:\n",
    "        return \"Métropole\"\n",
    "    elif population > 500_000:\n",
    "        return \"Grande ville\"\n",
    "    else:\n",
    "        return \"Ville moyenne\"\n",
    "\n",
    "# Test\n",
    "print(\"Fès :\", classer_ville(1_112_000))\n",
    "print(\"Agadir :\", classer_ville(421_844))\n",
    "# Fès : Métropole\n",
    "# Agadir : Ville moyenne"
   ]
  },
  {
   "cell_type": "markdown",
   "id": "C3gYq4ol1tsM",
   "metadata": {
    "id": "C3gYq4ol1tsM"
   },
   "source": [
    "> **Exercice 4 :** Écrire une fonction classer_ville_amelioree(population) qui renvoie « Ville moyenne »,\n",
    "> « Grande ville », « Métropole » ou « Mégapole » selon que la population\n",
    "> est ≤ 500 000, > 500 000, > 1 000 000 ou > 3 000 000 habitants."
   ]
  },
  {
   "cell_type": "code",
   "execution_count": null,
   "id": "Wlrzo-6m1vki",
   "metadata": {
    "id": "Wlrzo-6m1vki"
   },
   "outputs": [],
   "source": [
    "def classer_ville_amelioree(population):\n",
    "    if population > 3_000_000:\n",
    "        return \"Mégapole\"\n",
    "    elif population > 1_000_000:\n",
    "        return \"Métropole\"\n",
    "    elif population > 500_000:\n",
    "        return \"Grande ville\"\n",
    "    else:\n",
    "        return \"Ville moyenne\"\n",
    "\n",
    "print(\"Casablanca :\", classer_ville_amelioree(3_360_000))\n",
    "# Casablanca : Mégapole"
   ]
  },
  {
   "cell_type": "markdown",
   "id": "fMTm3HT-1xzL",
   "metadata": {
    "id": "fMTm3HT-1xzL"
   },
   "source": [
    "> **Exercice 5 :** Écris une fonction `taux_urbanisation` qui prend\n",
    "> en paramètres la population urbaine et la population totale d’une\n",
    "> région, et retourne le taux d’urbanisation (en %). Applique ensuite ta\n",
    "> fonction aux données de la région Casablanca-Settat (6 861 739\n",
    "> urbains, 7 255 000 habitants au total)."
   ]
  },
  {
   "cell_type": "code",
   "execution_count": null,
   "id": "zVG_QFTb12Fj",
   "metadata": {
    "id": "zVG_QFTb12Fj"
   },
   "outputs": [],
   "source": [
    "def taux_urbanisation(pop_urbaine, pop_totale):\n",
    "    \"\"\"Calcule le taux d'urbanisation d'une région\"\"\"\n",
    "    return (pop_urbaine / pop_totale) * 100\n",
    "\n",
    "# Données région Casablanca-Settat (2020)\n",
    "pop_urbaine = 6_861_739\n",
    "pop_totale = 7_255_000\n",
    "print(f\"Taux d'urbanisation: {taux_urbanisation(pop_urbaine, pop_totale):.1f}%\")\n",
    "# Taux d'urbanisation: 94.6%"
   ]
  },
  {
   "cell_type": "markdown",
   "id": "O40_g6bM11uE",
   "metadata": {
    "id": "O40_g6bM11uE"
   },
   "source": [
    "> **Exercice 5 :** Crée une fonction `analyse_urbaine` qui prend en paramètre une liste de populations de villes et qui :\n",
    "1. Calcule et retourne la population moyenne\n",
    "2. Identifie et retourne la ville la plus peuplée\n",
    "\n",
    "Pour aller plus loin, si tu as une liste de noms de villes associée, affiche le nom de la ville la plus peuplée.\n",
    "\n",
    "Exemple d’utilisation :\n",
    "```python\n",
    "villes = [421844, 1112000, 3360000]  # Agadir, Fès, Casablanca\n",
    "```"
   ]
  },
  {
   "cell_type": "markdown",
   "id": "4Asnbjlw1-D-",
   "metadata": {
    "id": "4Asnbjlw1-D-"
   },
   "source": [
    "**Solution exemple :**"
   ]
  },
  {
   "cell_type": "code",
   "execution_count": null,
   "id": "XifPfLWa2ASO",
   "metadata": {
    "id": "XifPfLWa2ASO"
   },
   "outputs": [],
   "source": [
    "def analyse_urbaine(populations, noms=None):\n",
    "    moyenne = sum(populations) / len(populations)\n",
    "    max_pop = max(populations)\n",
    "    idx_max = populations.index(max_pop)\n",
    "    if noms:\n",
    "        ville_max = noms[idx_max]\n",
    "        return f\"Moyenne: {moyenne:.0f} hab, Ville max: {ville_max} ({max_pop} hab)\"\n",
    "    else:\n",
    "        return f\"Moyenne: {moyenne:.0f} hab, Ville max: {max_pop} hab\"\n",
    "\n",
    "villes_maroc = [577827, 1112000, 3360000, 421844]\n",
    "noms_villes = [\"Rabat\", \"Fès\", \"Casablanca\", \"Agadir\"]\n",
    "print(analyse_urbaine(villes_maroc, noms_villes))\n",
    "# Moyenne: 1367918 hab, Ville max: Casablanca (3360000 hab)"
   ]
  },
  {
   "cell_type": "code",
   "execution_count": null,
   "id": "rZosOGj-s4dE",
   "metadata": {
    "id": "rZosOGj-s4dE"
   },
   "outputs": [],
   "source": []
  }
 ],
 "metadata": {
  "colab": {
   "provenance": []
  },
  "kernelspec": {
   "display_name": "Python 3 (ipykernel)",
   "language": "python",
   "name": "python3"
  },
  "language_info": {
   "codemirror_mode": {
    "name": "ipython",
    "version": 3
   },
   "file_extension": ".py",
   "mimetype": "text/x-python",
   "name": "python",
   "nbconvert_exporter": "python",
   "pygments_lexer": "ipython3",
   "version": "3.12.3"
  }
 },
 "nbformat": 4,
 "nbformat_minor": 5
}
