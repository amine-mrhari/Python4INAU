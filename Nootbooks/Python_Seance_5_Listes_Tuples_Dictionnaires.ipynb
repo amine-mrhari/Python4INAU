{
 "cells": [
  {
   "cell_type": "markdown",
   "id": "daOAidYSAsQY",
   "metadata": {
    "id": "daOAidYSAsQY"
   },
   "source": [
    "# Python – Séance 5 : Listes, tuples et dictionnaires\n",
    "\n",
    "------------------------------------------------------------------------\n",
    "\n",
    "## Introduction\n",
    "\n",
    "Dans l’analyse urbaine, il est fréquent de manipuler des ensembles de\n",
    "données : inventaires de quartiers, statistiques de population,\n",
    "recensements, etc. Python propose trois structures fondamentales pour\n",
    "organiser ces données : **les listes, les tuples et les dictionnaires**.\n",
    "\n",
    "**Objectifs :**\n",
    "- Comprendre la différence entre listes,\n",
    "tuples et dictionnaires\n",
    "- Savoir organiser des données urbaines avec ces\n",
    "structures\n",
    "- Manipuler, accéder et modifier ces données efficacement\n",
    "\n",
    "------------------------------------------------------------------------\n",
    "\n",
    "## 1. Les listes : organiser des collections de données\n",
    "\n",
    "Une liste est une séquence ordonnée et modifiable d’éléments. C’est la\n",
    "structure idéale pour stocker des séries de valeurs du même type :\n",
    "populations de quartiers, noms de rues, relevés de température…\n",
    "\n",
    "**Pourquoi utiliser une liste ?**\n",
    "- Pour garder l’ordre d’arrivée des\n",
    "données (ex : statistiques annuelles)\n",
    "- Pour pouvoir parcourir, trier,\n",
    "modifier ou filtrer facilement\n",
    "\n",
    "### Exemple : liste des populations de quartiers"
   ]
  },
  {
   "cell_type": "code",
   "execution_count": 18,
   "id": "9b1AZmgcAv9z",
   "metadata": {
    "id": "9b1AZmgcAv9z"
   },
   "outputs": [
    {
     "name": "stdout",
     "output_type": "stream",
     "text": [
      "3\n"
     ]
    }
   ],
   "source": [
    "populations = [12000, 34000, 21000, 5000, 5000]\n",
    "print(populations.index(5000))\n"
   ]
  },
  {
   "cell_type": "markdown",
   "id": "3mJEjLAoA0MP",
   "metadata": {
    "id": "3mJEjLAoA0MP"
   },
   "source": [
    "-   On accède à un élément par son indice : `populations[1]` renvoie\n",
    "    34000 (attention, l’indice commence à 0 !).\n",
    "-   On peut ajouter, modifier ou supprimer des éléments à tout moment.\n",
    "\n",
    "#### Fonctions utiles sur les listes"
   ]
  },
  {
   "cell_type": "code",
   "execution_count": 5,
   "id": "Up0vXCdkA3Ky",
   "metadata": {
    "id": "Up0vXCdkA3Ky"
   },
   "outputs": [],
   "source": [
    "quartiers = [\"Centre\", \"Nord\", \"Sud\"]\n",
    "quartiers.append(\"Est\")      # Ajoute un quartier à la fin\n",
    "quartiers[1] = \"Nord-Est\"    # Modifie le nom d’un quartier\n",
    "quartiers.remove(\"Sud\")      # Supprime un quartier"
   ]
  },
  {
   "cell_type": "markdown",
   "id": "3be2-JyOA6kg",
   "metadata": {
    "id": "3be2-JyOA6kg"
   },
   "source": [
    "> **Attention :** Si tu essaies d’accéder à un indice qui n’existe pas\n",
    "> (`populations[10]`), Python renverra une erreur `IndexError`. Toujours\n",
    "> vérifier la longueur de la liste avec `len(populations)` !\n",
    "\n",
    "##### Méthodes courantes à retenir\n",
    "| Méthode         | Rôle                                                   | Exemple                                   |\n",
    "|-----------------|--------------------------------------------------------|--------------------------------------------|\n",
    "| append(x)       | Ajouter un élément à la fin                            | `ma_liste.append(5)`                      |\n",
    "| insert(i, x)    | Insérer à la position i                                | `ma_liste.insert(2, \"Centre\")`           |\n",
    "| remove(x)       | Retirer la première occurrence de x                    | `ma_liste.remove(\"Sud\")`                  |\n",
    "| pop(i)          | Retirer et renvoyer l’élément à l’indice i             | `ma_liste.pop(0)`                          |\n",
    "| sort()          | Trier la liste                                         | `ma_liste.sort()`                          |\n",
    "| reverse()       | Inverser l’ordre                                       | `ma_liste.reverse()`                       |\n",
    "| count(x)        | Compter le nombre d’occurrences de x                   | `ma_liste.count(\"Est\")`                   |\n",
    "| index(x)        | Renvoyer l’indice de la première occurrence de x       | `ma_liste.index(\"Nord\")`                  |\n",
    "\n",
    "\n",
    "------------------------------------------------------------------------\n",
    "> **À retenir :** Une liste, c’est comme une “file d’attente” ou une\n",
    "> “étagère” où chaque élément a une place précise (son indice). On peut\n",
    "> changer l’ordre, ajouter ou retirer des éléments à tout moment.\n",
    "\n",
    "## 2. Les tuples : des données immuables\n",
    "\n",
    "Un tuple ressemble à une liste, mais il ne peut pas être modifié (on dit\n",
    "qu’il est *immuable*). Utilise-le pour stocker des informations fixes :\n",
    "coordonnées GPS, bornes de valeurs, couleurs standards…\n",
    "\n",
    "**Pourquoi choisir un tuple ?**\n",
    "- Pour garantir que les données restent\n",
    "inchangées (ex : coordonnées d’un point de repère)\n",
    "- Pour utiliser comme\n",
    "clé dans un dictionnaire (les listes ne sont pas autorisées comme clés)\n",
    "\n",
    "##### Méthodes courantes à retenir\n",
    "\n",
    "> Les tuples étant immuables, seules quelques méthodes sont disponibles :\n",
    "\n",
    "| Méthode         | Rôle                                   | Exemple                        |\n",
    "|-----------------|----------------------------------------|---------------------------------|\n",
    "| count(x)        | Compter les occurrences de x            | `mon_tuple.count(34.02)`        |\n",
    "| index(x)        | Renvoyer l’indice de la première occurrence de x | `mon_tuple.index(-6.83)` |\n",
    "\n"
   ]
  },
  {
   "cell_type": "markdown",
   "id": "zxlDIKXPJq9g",
   "metadata": {
    "id": "zxlDIKXPJq9g"
   },
   "source": [
    "### Exemple : coordonnées géographiques d’un quartier"
   ]
  },
  {
   "cell_type": "code",
   "execution_count": null,
   "id": "Dr1xMbA-A_tL",
   "metadata": {
    "id": "Dr1xMbA-A_tL"
   },
   "outputs": [],
   "source": [
    "coordonnees = (34.02, -6.83)  # latitude, longitude"
   ]
  },
  {
   "cell_type": "markdown",
   "id": "gpaWB4s1BDnE",
   "metadata": {
    "id": "gpaWB4s1BDnE"
   },
   "source": [
    "-   Accès par indice : `coordonnees[0]` renvoie 34.02 (latitude)\n",
    "\n",
    "> **À retenir :** Un tuple, c’est comme une “fiche plastifiée” : une\n",
    "> fois écrit, on ne peut plus le modifier. Parfait pour des données qui\n",
    "> ne doivent pas changer !\n",
    "\n",
    "> **Attention :** Si tu tentes de modifier un tuple\n",
    "> (`coordonnees[0] = 35`), Python renverra une erreur `TypeError`.\n",
    "\n",
    "------------------------------------------------------------------------\n",
    "\n",
    "## 3. Les dictionnaires : associer des clés à des valeurs\n",
    "\n",
    "Le dictionnaire permet de relier une information à une clé explicite.\n",
    "C’est l’outil idéal pour organiser des inventaires urbains : nombre\n",
    "d’équipements par quartier, population par ville, etc.\n",
    "\n",
    "**Pourquoi utiliser un dictionnaire ?**\n",
    "- Pour accéder à une donnée sans\n",
    "connaître son ordre (ex : retrouver la population d’un quartier par son\n",
    "nom)\n",
    "- Pour ajouter ou modifier des informations sans parcourir toute la\n",
    "structure\n",
    "\n",
    "##### Méthodes courantes à retenir\n",
    "| Méthode         | Rôle                                                    | Exemple                                         |\n",
    "|-----------------|---------------------------------------------------------|--------------------------------------------------|\n",
    "| get(cle)        | Obtenir la valeur associée à une clé (sans erreur)      | `equipements.get(\"Centre\")`                     |\n",
    "| keys()          | Obtenir la liste des clés                               | `equipements.keys()`                             |\n",
    "| values()        | Obtenir la liste des valeurs                            | `equipements.values()`                           |\n",
    "| items()         | Obtenir la liste des couples (clé, valeur)              | `equipements.items()`                            |\n",
    "| pop(cle)        | Retirer et renvoyer la valeur d’une clé                 | `equipements.pop(\"Est\")`                        |\n",
    "| update(dico)    | Mettre à jour le dictionnaire avec un autre             | `equipements.update({\"Sud\": 4})`                |\n",
    "| setdefault(cle, v)| Ajouter une clé avec valeur par défaut si absente     | `equipements.setdefault(\"Ouest\", 0)`            |\n",
    "| clear()         | Vider le dictionnaire                                   | `equipements.clear()`                            |\n",
    "\n",
    "### Exemple : inventaire des équipements par quartier"
   ]
  },
  {
   "cell_type": "code",
   "execution_count": 19,
   "id": "kGHaoeLCBGTg",
   "metadata": {
    "id": "kGHaoeLCBGTg"
   },
   "outputs": [],
   "source": [
    "equipements = {\n",
    "    \"Centre\": 5,\n",
    "    \"Nord-Est\": 2,\n",
    "    \"Est\": 3\n",
    "}"
   ]
  },
  {
   "cell_type": "code",
   "execution_count": 22,
   "id": "da557954-a084-47fa-9401-288b5b826251",
   "metadata": {},
   "outputs": [
    {
     "name": "stdout",
     "output_type": "stream",
     "text": [
      "0\n"
     ]
    }
   ],
   "source": [
    "print(equipements.setdefault(\"Ouest\", 0))"
   ]
  },
  {
   "cell_type": "code",
   "execution_count": 23,
   "id": "9a8dc00f-2f33-4465-9437-2d7b973e3ca0",
   "metadata": {},
   "outputs": [
    {
     "name": "stdout",
     "output_type": "stream",
     "text": [
      "dict_items([('Centre', 5), ('Est', 3), ('Ouest', 0)])\n"
     ]
    }
   ],
   "source": [
    "print(equipements.items())"
   ]
  },
  {
   "cell_type": "markdown",
   "id": "42a14256-91c8-446e-92a7-ab6bf11055d3",
   "metadata": {
    "id": "42a14256-91c8-446e-92a7-ab6bf11055d3"
   },
   "source": [
    "------------------------------------------------------------------------\n",
    "\n",
    "## Table de comparaison : listes, tuples, dictionnaires\n",
    "\n",
    "| Structure    | Définition                     | Exemple              | Modifiable | Accès  | Usage recommandé                     |\n",
    "|---------|------------------|----------------|-------|-----|--------------------|\n",
    "| Liste        | Séquence ordonnée d’éléments   | `[1, 2, 3]`          | Oui        | Indice | Séries de valeurs, collections       |\n",
    "| Tuple        | Séquence ordonnée immuable     | `(34.02, -6.83)`     | Non        | Indice | Coordonnées, bornes, données fixes   |\n",
    "| Dictionnaire | Associe des clés à des valeurs | `{\"Centre\": 5, ...}` | Oui        | Clé    | Inventaires, recherche par étiquette |\n",
    "\n",
    "> **Astuce :** Si tu veux garantir qu’une donnée ne sera jamais\n",
    "> modifiée, utilise un tuple. Si tu veux retrouver une valeur à partir\n",
    "> d’un nom, utilise un dictionnaire. Pour manipuler des listes d’objets\n",
    "> ou de mesures, la liste reste la plus flexible.\n",
    "\n",
    "------------------------------------------------------------------------"
   ]
  },
  {
   "cell_type": "markdown",
   "id": "-ZgBVp4yBRtF",
   "metadata": {
    "id": "-ZgBVp4yBRtF"
   },
   "source": [
    "-   Accès par clé : `equipements[\"Centre\"]` renvoie 5\n",
    "-   Ajout/modification : `equipements[\"Sud\"] = 4` ajoute ou modifie la\n",
    "    valeur pour “Sud”\n",
    "-   Suppression : `del equipements[\"Nord-Est\"]` retire l’entrée du\n",
    "    dictionnaire\n",
    "\n",
    "> **À retenir :** Un dictionnaire, c’est comme un “carnet d’adresses” :\n",
    "> chaque information est rangée sous une étiquette (clé) unique.\n",
    "> Pratique pour retrouver rapidement une valeur à partir de son nom !\n",
    "\n",
    "> **Attention :** Si tu demandes une clé qui n’existe pas\n",
    "> (`equipements[\"Ouest\"]`), Python renverra une erreur `KeyError`.\n",
    "> Utilise `equipements.get(\"Ouest\")` pour obtenir `None` si la clé est\n",
    "> absente.\n",
    "\n",
    "------------------------------------------------------------------------\n",
    "\n",
    "## 4. Exercices pratiques\n",
    "\n",
    "### Exercice 1 : Statistiques sur les quartiers\n",
    "\n",
    "> Crée une liste contenant les populations de 5 quartiers. Calcule la\n",
    "> population totale et la moyenne.\n",
    "\n",
    "<details>\n",
    "<summary>\n",
    "Correction\n",
    "</summary>\n",
    "\n",
    "``` python\n",
    "populations = [12000, 34000, 21000, 5000, 18000]\n",
    "totale = sum(populations)\n",
    "moyenne = totale / len(populations)\n",
    "print(f\"Population totale : {totale}\")\n",
    "print(f\"Population moyenne : {moyenne}\")\n",
    "```\n",
    "\n",
    "</details>\n",
    "\n",
    "### Exercice 2 : Inventaire des équipements\n",
    "\n",
    "> Crée un dictionnaire associant chaque quartier à un nombre\n",
    "> d’équipements. Ajoute un quartier, modifie un autre, supprime-en un.\n",
    "\n",
    "<details>\n",
    "<summary>\n",
    "Correction\n",
    "</summary>\n",
    "\n",
    "``` python\n",
    "equipements = {\"Centre\": 5, \"Nord\": 2, \"Sud\": 3}\n",
    "equipements[\"Est\"] = 4  # Ajout\n",
    "equipements[\"Nord\"] = 3  # Modification\n",
    "del equipements[\"Sud\"]   # Suppression\n",
    "print(equipements)\n",
    "```\n",
    "\n",
    "</details>\n",
    "\n",
    "### Exercice 3 : Coordonnées fixes\n",
    "\n",
    "> Stocke les coordonnées (latitude, longitude) de trois quartiers sous\n",
    "> forme de tuples dans une liste. Affiche la latitude du deuxième\n",
    "> quartier.\n",
    "\n",
    "<details>\n",
    "<summary>\n",
    "Correction\n",
    "</summary>\n",
    "\n",
    "``` python\n",
    "coordonnees = [ (34.02, -6.83), (34.05, -6.80), (34.01, -6.78) ]\n",
    "print(f\"Latitude du 2e quartier : {coordonnees[1][0]}\")\n",
    "```\n",
    "\n",
    "</details>\n",
    "\n",
    "------------------------------------------------------------------------\n",
    "\n",
    "## 5. Pour aller plus loin\n",
    "\n",
    "### 5.1 Dictionnaires imbriqués\n",
    "\n",
    "Un dictionnaire peut contenir d’autres dictionnaires ou listes : c’est\n",
    "très utile pour représenter des inventaires urbains complexes.\n",
    "\n",
    "#### Exemple : inventaire complet d’une ville"
   ]
  },
  {
   "cell_type": "code",
   "execution_count": 24,
   "id": "e06b8421-ea8f-4815-8778-79848acfeab6",
   "metadata": {},
   "outputs": [
    {
     "name": "stdout",
     "output_type": "stream",
     "text": [
      "Population totale : 90000\n",
      "Population moyenne : 18000.0\n"
     ]
    }
   ],
   "source": [
    "populations = [12000, 34000, 21000, 5000, 18000]\n",
    "totale = sum(populations)\n",
    "moyenne = totale / len(populations)\n",
    "print(f\"Population totale : {totale}\")\n",
    "print(f\"Population moyenne : {moyenne}\")"
   ]
  },
  {
   "cell_type": "code",
   "execution_count": 25,
   "id": "0b2e5750-3673-4918-9337-224ea64f4220",
   "metadata": {},
   "outputs": [
    {
     "name": "stdout",
     "output_type": "stream",
     "text": [
      "Population totale : 90000\n",
      "Population moyenne : 18000.0\n"
     ]
    }
   ],
   "source": [
    "populations = [12000, 34000, 21000, 5000, 18000]\n",
    "totale=0\n",
    "for p in populations:\n",
    "    totale += p\n",
    "\n",
    "moyenne = totale / len(populations)\n",
    "print(f\"Population totale : {totale}\")\n",
    "print(f\"Population moyenne : {moyenne}\")"
   ]
  },
  {
   "cell_type": "code",
   "execution_count": null,
   "id": "b4RUvikNBXDT",
   "metadata": {
    "id": "b4RUvikNBXDT"
   },
   "outputs": [],
   "source": [
    "ville = {\n",
    "    \"Centre\": {\"population\": 12000, \"equipements\": 5, \"coordonnees\": (34.02, -6.83)},\n",
    "    \"Nord-Est\": {\"population\": 34000, \"equipements\": 2, \"coordonnees\": (34.05, -6.80)},\n",
    "    \"Est\": {\"population\": 21000, \"equipements\": 3, \"coordonnees\": (34.01, -6.78)}\n",
    "}\n",
    "# Accès à la population du quartier Centre :\n",
    "print(ville[\"Centre\"][\"population\"])  # 12000"
   ]
  },
  {
   "cell_type": "markdown",
   "id": "BJiPabYNBZeA",
   "metadata": {
    "id": "BJiPabYNBZeA"
   },
   "source": [
    "### 5.2 Statistiques sur des listes de dictionnaires\n",
    "\n",
    "Pour manipuler des jeux de données structurés, on utilise souvent une\n",
    "liste de dictionnaires :\n"
   ]
  },
  {
   "cell_type": "code",
   "execution_count": null,
   "id": "vJGck4-4BeCB",
   "metadata": {
    "id": "vJGck4-4BeCB"
   },
   "outputs": [],
   "source": [
    "quartiers = [\n",
    "    {\"nom\": \"Centre\", \"population\": 12000, \"equipements\": 5},\n",
    "    {\"nom\": \"Nord-Est\", \"population\": 34000, \"equipements\": 2},\n",
    "    {\"nom\": \"Est\", \"population\": 21000, \"equipements\": 3}\n",
    "]\n",
    "# Calcul de la population totale\n",
    "pop_totale = sum(q[\"population\"] for q in quartiers)\n",
    "print(f\"Population totale : {pop_totale}\")\n",
    "# Quartier le mieux équipé\n",
    "max_eq = max(quartiers, key=lambda q: q[\"equipements\"])\n",
    "print(f\"Quartier le mieux équipé : {max_eq['nom']} ({max_eq['equipements']} équipements)\")"
   ]
  },
  {
   "cell_type": "markdown",
   "id": "F1xVfYGQBhjN",
   "metadata": {
    "id": "F1xVfYGQBhjN"
   },
   "source": [
    "### 5.3 Conversion entre listes, tuples et dictionnaires\n",
    "\n",
    "-   `list(mon_tuple)` convertit un tuple en liste\n",
    "-   `tuple(ma_liste)` convertit une liste en tuple\n",
    "-   `dict(liste_de_tuples)` convertit une liste de couples clé/valeur en\n",
    "    dictionnaire\n",
    "\n",
    "------------------------------------------------------------------------\n",
    "## Exercice de synthèse : Mini-projet urbain\n",
    "\n",
    "> **Objectif :** Mobiliser listes, tuples et dictionnaires pour\n",
    "> organiser et analyser des données urbaines de façon structurée.\n",
    "\n",
    "### Énoncé\n",
    "\n",
    "1.  Crée une **liste** appelée `quartiers` contenant 4\n",
    "    **dictionnaires**. Chaque dictionnaire représente un quartier et\n",
    "    doit contenir :\n",
    "    -   `nom` (str)\n",
    "    -   `population` (int)\n",
    "    -   `equipements` (liste des équipements sous forme de chaînes de\n",
    "        caractères)\n",
    "    -   `coordonnees` (tuple de latitude, longitude)\n",
    "2.  Ajoute un équipement à la liste d’équipements du quartier “Centre”.\n",
    "3.  Calcule la population totale de la ville.\n",
    "4.  Affiche le nom du quartier le plus dense en équipements (celui qui a\n",
    "    la plus longue liste d’équipements).\n",
    "5.  Crée un **dictionnaire** `pop_par_quartier` associant chaque nom de\n",
    "    quartier à sa population (conversion liste → dictionnaire).\n",
    "6.  Affiche la latitude du quartier “Est”.\n"
   ]
  },
  {
   "cell_type": "code",
   "execution_count": 5,
   "id": "4p3-CwNdB9Bq",
   "metadata": {
    "colab": {
     "base_uri": "https://localhost:8080/"
    },
    "id": "4p3-CwNdB9Bq",
    "outputId": "de6d6a58-c673-4dfe-cedd-a39a9b2bc140"
   },
   "outputs": [
    {
     "name": "stdout",
     "output_type": "stream",
     "text": [
      "Population totale : 85000\n",
      "Quartier le plus dense en équipements : Centre\n",
      "Population par quartier : {'Centre': 12000, 'Nord-Est': 34000, 'Est': 21000, 'Sud': 18000}\n",
      "Latitude du quartier Est : 34.01\n"
     ]
    }
   ],
   "source": []
  },
  {
   "cell_type": "code",
   "execution_count": null,
   "id": "aBk6rZqulFdJ",
   "metadata": {
    "id": "aBk6rZqulFdJ"
   },
   "outputs": [],
   "source": []
  }
 ],
 "metadata": {
  "colab": {
   "provenance": []
  },
  "kernelspec": {
   "display_name": "Python 3 (ipykernel)",
   "language": "python",
   "name": "python3"
  },
  "language_info": {
   "codemirror_mode": {
    "name": "ipython",
    "version": 3
   },
   "file_extension": ".py",
   "mimetype": "text/x-python",
   "name": "python",
   "nbconvert_exporter": "python",
   "pygments_lexer": "ipython3",
   "version": "3.12.7"
  }
 },
 "nbformat": 4,
 "nbformat_minor": 5
}
