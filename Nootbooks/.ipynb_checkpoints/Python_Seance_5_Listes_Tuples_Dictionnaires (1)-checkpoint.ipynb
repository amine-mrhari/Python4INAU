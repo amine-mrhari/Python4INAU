{
  "cells": [
    {
      "cell_type": "markdown",
      "source": [
        "# Python – Séance 5 : Listes, tuples et dictionnaires\n",
        "\n",
        "------------------------------------------------------------------------\n",
        "\n",
        "## Introduction\n",
        "\n",
        "Dans l’analyse urbaine, il est fréquent de manipuler des ensembles de\n",
        "données : inventaires de quartiers, statistiques de population,\n",
        "recensements, etc. Python propose trois structures fondamentales pour\n",
        "organiser ces données : **les listes, les tuples et les dictionnaires**.\n",
        "\n",
        "**Objectifs :**\n",
        "- Comprendre la différence entre listes,\n",
        "tuples et dictionnaires\n",
        "- Savoir organiser des données urbaines avec ces\n",
        "structures\n",
        "- Manipuler, accéder et modifier ces données efficacement\n",
        "\n",
        "------------------------------------------------------------------------\n",
        "\n",
        "## 1. Les listes : organiser des collections de données\n",
        "\n",
        "Une liste est une séquence ordonnée et modifiable d’éléments. C’est la\n",
        "structure idéale pour stocker des séries de valeurs du même type :\n",
        "populations de quartiers, noms de rues, relevés de température…\n",
        "\n",
        "**Pourquoi utiliser une liste ?**\n",
        "- Pour garder l’ordre d’arrivée des\n",
        "données (ex : statistiques annuelles)\n",
        "- Pour pouvoir parcourir, trier,\n",
        "modifier ou filtrer facilement\n",
        "\n",
        "### Exemple : liste des populations de quartiers"
      ],
      "metadata": {
        "id": "daOAidYSAsQY"
      },
      "id": "daOAidYSAsQY"
    },
    {
      "cell_type": "code",
      "source": [
        "populations = [12000, 34000, 21000, 5000]"
      ],
      "metadata": {
        "id": "9b1AZmgcAv9z"
      },
      "id": "9b1AZmgcAv9z",
      "execution_count": null,
      "outputs": []
    },
    {
      "cell_type": "markdown",
      "source": [
        "-   On accède à un élément par son indice : `populations[1]` renvoie\n",
        "    34000 (attention, l’indice commence à 0 !).\n",
        "-   On peut ajouter, modifier ou supprimer des éléments à tout moment.\n",
        "\n",
        "#### Fonctions utiles sur les listes"
      ],
      "metadata": {
        "id": "3mJEjLAoA0MP"
      },
      "id": "3mJEjLAoA0MP"
    },
    {
      "cell_type": "code",
      "source": [
        "quartiers = [\"Centre\", \"Nord\", \"Sud\"]\n",
        "quartiers.append(\"Est\")      # Ajoute un quartier à la fin\n",
        "quartiers[1] = \"Nord-Est\"    # Modifie le nom d’un quartier\n",
        "quartiers.remove(\"Sud\")      # Supprime un quartier"
      ],
      "metadata": {
        "id": "Up0vXCdkA3Ky"
      },
      "id": "Up0vXCdkA3Ky",
      "execution_count": null,
      "outputs": []
    },
    {
      "cell_type": "markdown",
      "source": [
        "> **Attention :** Si tu essaies d’accéder à un indice qui n’existe pas\n",
        "> (`populations[10]`), Python renverra une erreur `IndexError`. Toujours\n",
        "> vérifier la longueur de la liste avec `len(populations)` !\n",
        "\n",
        "##### Méthodes courantes à retenir\n",
        "| Méthode         | Rôle                                                   | Exemple                                   |\n",
        "|-----------------|--------------------------------------------------------|--------------------------------------------|\n",
        "| append(x)       | Ajouter un élément à la fin                            | `ma_liste.append(5)`                      |\n",
        "| insert(i, x)    | Insérer à la position i                                | `ma_liste.insert(2, \"Centre\")`           |\n",
        "| remove(x)       | Retirer la première occurrence de x                    | `ma_liste.remove(\"Sud\")`                  |\n",
        "| pop(i)          | Retirer et renvoyer l’élément à l’indice i             | `ma_liste.pop(0)`                          |\n",
        "| sort()          | Trier la liste                                         | `ma_liste.sort()`                          |\n",
        "| reverse()       | Inverser l’ordre                                       | `ma_liste.reverse()`                       |\n",
        "| count(x)        | Compter le nombre d’occurrences de x                   | `ma_liste.count(\"Est\")`                   |\n",
        "| index(x)        | Renvoyer l’indice de la première occurrence de x       | `ma_liste.index(\"Nord\")`                  |\n",
        "\n",
        "\n",
        "------------------------------------------------------------------------\n",
        "> **À retenir :** Une liste, c’est comme une “file d’attente” ou une\n",
        "> “étagère” où chaque élément a une place précise (son indice). On peut\n",
        "> changer l’ordre, ajouter ou retirer des éléments à tout moment.\n",
        "\n",
        "## 2. Les tuples : des données immuables\n",
        "\n",
        "Un tuple ressemble à une liste, mais il ne peut pas être modifié (on dit\n",
        "qu’il est *immuable*). Utilise-le pour stocker des informations fixes :\n",
        "coordonnées GPS, bornes de valeurs, couleurs standards…\n",
        "\n",
        "**Pourquoi choisir un tuple ?**\n",
        "- Pour garantir que les données restent\n",
        "inchangées (ex : coordonnées d’un point de repère)\n",
        "- Pour utiliser comme\n",
        "clé dans un dictionnaire (les listes ne sont pas autorisées comme clés)\n",
        "\n",
        "##### Méthodes courantes à retenir\n",
        "\n",
        "> Les tuples étant immuables, seules quelques méthodes sont disponibles :\n",
        "\n",
        "| Méthode         | Rôle                                   | Exemple                        |\n",
        "|-----------------|----------------------------------------|---------------------------------|\n",
        "| count(x)        | Compter les occurrences de x            | `mon_tuple.count(34.02)`        |\n",
        "| index(x)        | Renvoyer l’indice de la première occurrence de x | `mon_tuple.index(-6.83)` |\n",
        "\n"
      ],
      "metadata": {
        "id": "3be2-JyOA6kg"
      },
      "id": "3be2-JyOA6kg"
    },
    {
      "cell_type": "markdown",
      "source": [
        "### Exemple : coordonnées géographiques d’un quartier"
      ],
      "metadata": {
        "id": "zxlDIKXPJq9g"
      },
      "id": "zxlDIKXPJq9g"
    },
    {
      "cell_type": "code",
      "source": [
        "coordonnees = (34.02, -6.83)  # latitude, longitude"
      ],
      "metadata": {
        "id": "Dr1xMbA-A_tL"
      },
      "id": "Dr1xMbA-A_tL",
      "execution_count": null,
      "outputs": []
    },
    {
      "cell_type": "markdown",
      "source": [
        "-   Accès par indice : `coordonnees[0]` renvoie 34.02 (latitude)\n",
        "\n",
        "> **À retenir :** Un tuple, c’est comme une “fiche plastifiée” : une\n",
        "> fois écrit, on ne peut plus le modifier. Parfait pour des données qui\n",
        "> ne doivent pas changer !\n",
        "\n",
        "> **Attention :** Si tu tentes de modifier un tuple\n",
        "> (`coordonnees[0] = 35`), Python renverra une erreur `TypeError`.\n",
        "\n",
        "------------------------------------------------------------------------\n",
        "\n",
        "## 3. Les dictionnaires : associer des clés à des valeurs\n",
        "\n",
        "Le dictionnaire permet de relier une information à une clé explicite.\n",
        "C’est l’outil idéal pour organiser des inventaires urbains : nombre\n",
        "d’équipements par quartier, population par ville, etc.\n",
        "\n",
        "**Pourquoi utiliser un dictionnaire ?**\n",
        "- Pour accéder à une donnée sans\n",
        "connaître son ordre (ex : retrouver la population d’un quartier par son\n",
        "nom)\n",
        "- Pour ajouter ou modifier des informations sans parcourir toute la\n",
        "structure\n",
        "\n",
        "##### Méthodes courantes à retenir\n",
        "| Méthode         | Rôle                                                    | Exemple                                         |\n",
        "|-----------------|---------------------------------------------------------|--------------------------------------------------|\n",
        "| get(cle)        | Obtenir la valeur associée à une clé (sans erreur)      | `equipements.get(\"Centre\")`                     |\n",
        "| keys()          | Obtenir la liste des clés                               | `equipements.keys()`                             |\n",
        "| values()        | Obtenir la liste des valeurs                            | `equipements.values()`                           |\n",
        "| items()         | Obtenir la liste des couples (clé, valeur)              | `equipements.items()`                            |\n",
        "| pop(cle)        | Retirer et renvoyer la valeur d’une clé                 | `equipements.pop(\"Est\")`                        |\n",
        "| update(dico)    | Mettre à jour le dictionnaire avec un autre             | `equipements.update({\"Sud\": 4})`                |\n",
        "| setdefault(cle, v)| Ajouter une clé avec valeur par défaut si absente     | `equipements.setdefault(\"Ouest\", 0)`            |\n",
        "| clear()         | Vider le dictionnaire                                   | `equipements.clear()`                            |\n",
        "\n",
        "### Exemple : inventaire des équipements par quartier"
      ],
      "metadata": {
        "id": "gpaWB4s1BDnE"
      },
      "id": "gpaWB4s1BDnE"
    },
    {
      "cell_type": "code",
      "source": [
        "equipements = {\n",
        "    \"Centre\": 5,\n",
        "    \"Nord-Est\": 2,\n",
        "    \"Est\": 3\n",
        "}"
      ],
      "metadata": {
        "id": "kGHaoeLCBGTg"
      },
      "id": "kGHaoeLCBGTg",
      "execution_count": null,
      "outputs": []
    },
    {
      "cell_type": "markdown",
      "metadata": {
        "id": "42a14256-91c8-446e-92a7-ab6bf11055d3"
      },
      "source": [
        "------------------------------------------------------------------------\n",
        "\n",
        "## Table de comparaison : listes, tuples, dictionnaires\n",
        "\n",
        "| Structure    | Définition                     | Exemple              | Modifiable | Accès  | Usage recommandé                     |\n",
        "|---------|------------------|----------------|-------|-----|--------------------|\n",
        "| Liste        | Séquence ordonnée d’éléments   | `[1, 2, 3]`          | Oui        | Indice | Séries de valeurs, collections       |\n",
        "| Tuple        | Séquence ordonnée immuable     | `(34.02, -6.83)`     | Non        | Indice | Coordonnées, bornes, données fixes   |\n",
        "| Dictionnaire | Associe des clés à des valeurs | `{\"Centre\": 5, ...}` | Oui        | Clé    | Inventaires, recherche par étiquette |\n",
        "\n",
        "> **Astuce :** Si tu veux garantir qu’une donnée ne sera jamais\n",
        "> modifiée, utilise un tuple. Si tu veux retrouver une valeur à partir\n",
        "> d’un nom, utilise un dictionnaire. Pour manipuler des listes d’objets\n",
        "> ou de mesures, la liste reste la plus flexible.\n",
        "\n",
        "------------------------------------------------------------------------"
      ],
      "id": "42a14256-91c8-446e-92a7-ab6bf11055d3"
    },
    {
      "cell_type": "markdown",
      "source": [
        "-   Accès par clé : `equipements[\"Centre\"]` renvoie 5\n",
        "-   Ajout/modification : `equipements[\"Sud\"] = 4` ajoute ou modifie la\n",
        "    valeur pour “Sud”\n",
        "-   Suppression : `del equipements[\"Nord-Est\"]` retire l’entrée du\n",
        "    dictionnaire\n",
        "\n",
        "> **À retenir :** Un dictionnaire, c’est comme un “carnet d’adresses” :\n",
        "> chaque information est rangée sous une étiquette (clé) unique.\n",
        "> Pratique pour retrouver rapidement une valeur à partir de son nom !\n",
        "\n",
        "> **Attention :** Si tu demandes une clé qui n’existe pas\n",
        "> (`equipements[\"Ouest\"]`), Python renverra une erreur `KeyError`.\n",
        "> Utilise `equipements.get(\"Ouest\")` pour obtenir `None` si la clé est\n",
        "> absente.\n",
        "\n",
        "------------------------------------------------------------------------\n",
        "\n",
        "## 4. Exercices pratiques\n",
        "\n",
        "### Exercice 1 : Statistiques sur les quartiers\n",
        "\n",
        "> Crée une liste contenant les populations de 5 quartiers. Calcule la\n",
        "> population totale et la moyenne.\n",
        "\n",
        "<details>\n",
        "<summary>\n",
        "Correction\n",
        "</summary>\n",
        "\n",
        "``` python\n",
        "populations = [12000, 34000, 21000, 5000, 18000]\n",
        "totale = sum(populations)\n",
        "moyenne = totale / len(populations)\n",
        "print(f\"Population totale : {totale}\")\n",
        "print(f\"Population moyenne : {moyenne}\")\n",
        "```\n",
        "\n",
        "</details>\n",
        "\n",
        "### Exercice 2 : Inventaire des équipements\n",
        "\n",
        "> Crée un dictionnaire associant chaque quartier à un nombre\n",
        "> d’équipements. Ajoute un quartier, modifie un autre, supprime-en un.\n",
        "\n",
        "<details>\n",
        "<summary>\n",
        "Correction\n",
        "</summary>\n",
        "\n",
        "``` python\n",
        "equipements = {\"Centre\": 5, \"Nord\": 2, \"Sud\": 3}\n",
        "equipements[\"Est\"] = 4  # Ajout\n",
        "equipements[\"Nord\"] = 3  # Modification\n",
        "del equipements[\"Sud\"]   # Suppression\n",
        "print(equipements)\n",
        "```\n",
        "\n",
        "</details>\n",
        "\n",
        "### Exercice 3 : Coordonnées fixes\n",
        "\n",
        "> Stocke les coordonnées (latitude, longitude) de trois quartiers sous\n",
        "> forme de tuples dans une liste. Affiche la latitude du deuxième\n",
        "> quartier.\n",
        "\n",
        "<details>\n",
        "<summary>\n",
        "Correction\n",
        "</summary>\n",
        "\n",
        "``` python\n",
        "coordonnees = [ (34.02, -6.83), (34.05, -6.80), (34.01, -6.78) ]\n",
        "print(f\"Latitude du 2e quartier : {coordonnees[1][0]}\")\n",
        "```\n",
        "\n",
        "</details>\n",
        "\n",
        "------------------------------------------------------------------------\n",
        "\n",
        "## 5. Pour aller plus loin\n",
        "\n",
        "### 5.1 Dictionnaires imbriqués\n",
        "\n",
        "Un dictionnaire peut contenir d’autres dictionnaires ou listes : c’est\n",
        "très utile pour représenter des inventaires urbains complexes.\n",
        "\n",
        "#### Exemple : inventaire complet d’une ville"
      ],
      "metadata": {
        "id": "-ZgBVp4yBRtF"
      },
      "id": "-ZgBVp4yBRtF"
    },
    {
      "cell_type": "code",
      "source": [
        "ville = {\n",
        "    \"Centre\": {\"population\": 12000, \"equipements\": 5, \"coordonnees\": (34.02, -6.83)},\n",
        "    \"Nord-Est\": {\"population\": 34000, \"equipements\": 2, \"coordonnees\": (34.05, -6.80)},\n",
        "    \"Est\": {\"population\": 21000, \"equipements\": 3, \"coordonnees\": (34.01, -6.78)}\n",
        "}\n",
        "# Accès à la population du quartier Centre :\n",
        "print(ville[\"Centre\"][\"population\"])  # 12000"
      ],
      "metadata": {
        "id": "b4RUvikNBXDT"
      },
      "id": "b4RUvikNBXDT",
      "execution_count": null,
      "outputs": []
    },
    {
      "cell_type": "markdown",
      "source": [
        "### 5.2 Statistiques sur des listes de dictionnaires\n",
        "\n",
        "Pour manipuler des jeux de données structurés, on utilise souvent une\n",
        "liste de dictionnaires :\n"
      ],
      "metadata": {
        "id": "BJiPabYNBZeA"
      },
      "id": "BJiPabYNBZeA"
    },
    {
      "cell_type": "code",
      "source": [
        "quartiers = [\n",
        "    {\"nom\": \"Centre\", \"population\": 12000, \"equipements\": 5},\n",
        "    {\"nom\": \"Nord-Est\", \"population\": 34000, \"equipements\": 2},\n",
        "    {\"nom\": \"Est\", \"population\": 21000, \"equipements\": 3}\n",
        "]\n",
        "# Calcul de la population totale\n",
        "pop_totale = sum(q[\"population\"] for q in quartiers)\n",
        "print(f\"Population totale : {pop_totale}\")\n",
        "# Quartier le mieux équipé\n",
        "max_eq = max(quartiers, key=lambda q: q[\"equipements\"])\n",
        "print(f\"Quartier le mieux équipé : {max_eq['nom']} ({max_eq['equipements']} équipements)\")"
      ],
      "metadata": {
        "id": "vJGck4-4BeCB"
      },
      "id": "vJGck4-4BeCB",
      "execution_count": null,
      "outputs": []
    },
    {
      "cell_type": "markdown",
      "source": [
        "### 5.3 Conversion entre listes, tuples et dictionnaires\n",
        "\n",
        "-   `list(mon_tuple)` convertit un tuple en liste\n",
        "-   `tuple(ma_liste)` convertit une liste en tuple\n",
        "-   `dict(liste_de_tuples)` convertit une liste de couples clé/valeur en\n",
        "    dictionnaire\n",
        "\n",
        "------------------------------------------------------------------------\n",
        "## Exercice de synthèse : Mini-projet urbain\n",
        "\n",
        "> **Objectif :** Mobiliser listes, tuples et dictionnaires pour\n",
        "> organiser et analyser des données urbaines de façon structurée.\n",
        "\n",
        "### Énoncé\n",
        "\n",
        "1.  Crée une **liste** appelée `quartiers` contenant 4\n",
        "    **dictionnaires**. Chaque dictionnaire représente un quartier et\n",
        "    doit contenir :\n",
        "    -   `nom` (str)\n",
        "    -   `population` (int)\n",
        "    -   `equipements` (liste des équipements sous forme de chaînes de\n",
        "        caractères)\n",
        "    -   `coordonnees` (tuple de latitude, longitude)\n",
        "2.  Ajoute un équipement à la liste d’équipements du quartier “Centre”.\n",
        "3.  Calcule la population totale de la ville.\n",
        "4.  Affiche le nom du quartier le plus dense en équipements (celui qui a\n",
        "    la plus longue liste d’équipements).\n",
        "5.  Crée un **dictionnaire** `pop_par_quartier` associant chaque nom de\n",
        "    quartier à sa population (conversion liste → dictionnaire).\n",
        "6.  Affiche la latitude du quartier “Est”.\n"
      ],
      "metadata": {
        "id": "F1xVfYGQBhjN"
      },
      "id": "F1xVfYGQBhjN"
    },
    {
      "cell_type": "code",
      "source": [
        "# Liste des quartiers avec leurs informations\n",
        "quartiers = [\n",
        "    {\n",
        "        \"nom\": \"Centre\",\n",
        "        \"population\": 12000,\n",
        "        \"equipements\": [\"école\", \"marché\"],\n",
        "        \"coordonnees\": (34.02, -6.83)\n",
        "    },\n",
        "    {\n",
        "        \"nom\": \"Nord-Est\",\n",
        "        \"population\": 34000,\n",
        "        \"equipements\": [\"hôpital\"],\n",
        "        \"coordonnees\": (34.05, -6.80)\n",
        "    },\n",
        "    {\n",
        "        \"nom\": \"Est\",\n",
        "        \"population\": 21000,\n",
        "        \"equipements\": [\"parc\", \"bibliothèque\", \"école\"],\n",
        "        \"coordonnees\": (34.01, -6.78)\n",
        "    },\n",
        "    {\n",
        "        \"nom\": \"Sud\",\n",
        "        \"population\": 18000,\n",
        "        \"equipements\": [\"marché\", \"mosquée\"],\n",
        "        \"coordonnees\": (34.00, -6.81)\n",
        "    }\n",
        "]\n",
        "\n",
        "# Étape 2 : Ajouter un équipement au quartier \"Centre\"\n",
        "for quartier in quartiers:\n",
        "    if quartier[\"nom\"] == \"Centre\":\n",
        "        quartier[\"equipements\"].append(\"bibliothèque\")\n",
        "\n",
        "# Étape 3 : Calculer la population totale\n",
        "population_totale = 0\n",
        "for quartier in quartiers:\n",
        "    population_totale += quartier[\"population\"]\n",
        "\n",
        "print(\"Population totale :\", population_totale)\n",
        "\n",
        "# Étape 4 : Trouver le quartier avec le plus d'équipements\n",
        "quartier_plus_equipe = None\n",
        "nombre_max_equipements = 0\n",
        "\n",
        "for quartier in quartiers:\n",
        "    nombre_equipements = len(quartier[\"equipements\"])\n",
        "    if nombre_equipements > nombre_max_equipements:\n",
        "        quartier_plus_equipe = quartier\n",
        "        nombre_max_equipements = nombre_equipements\n",
        "\n",
        "print(\"Quartier le plus dense en équipements :\", quartier_plus_equipe[\"nom\"])\n",
        "\n",
        "# Étape 5 : Créer un dictionnaire avec nom → population\n",
        "populations = {}\n",
        "for quartier in quartiers:\n",
        "    nom = quartier[\"nom\"]\n",
        "    population = quartier[\"population\"]\n",
        "    populations[nom] = population\n",
        "\n",
        "print(\"Population par quartier :\", populations)\n",
        "\n",
        "# Étape 6 : Afficher la latitude du quartier \"Est\"\n",
        "for quartier in quartiers:\n",
        "    if quartier[\"nom\"] == \"Est\":\n",
        "        latitude = quartier[\"coordonnees\"][0]\n",
        "        print(\"Latitude du quartier Est :\", latitude)\n"
      ],
      "metadata": {
        "colab": {
          "base_uri": "https://localhost:8080/"
        },
        "id": "4p3-CwNdB9Bq",
        "outputId": "de6d6a58-c673-4dfe-cedd-a39a9b2bc140"
      },
      "id": "4p3-CwNdB9Bq",
      "execution_count": 5,
      "outputs": [
        {
          "output_type": "stream",
          "name": "stdout",
          "text": [
            "Population totale : 85000\n",
            "Quartier le plus dense en équipements : Centre\n",
            "Population par quartier : {'Centre': 12000, 'Nord-Est': 34000, 'Est': 21000, 'Sud': 18000}\n",
            "Latitude du quartier Est : 34.01\n"
          ]
        }
      ]
    },
    {
      "cell_type": "code",
      "source": [],
      "metadata": {
        "id": "aBk6rZqulFdJ"
      },
      "id": "aBk6rZqulFdJ",
      "execution_count": null,
      "outputs": []
    }
  ],
  "nbformat": 4,
  "nbformat_minor": 5,
  "metadata": {
    "colab": {
      "provenance": []
    },
    "language_info": {
      "name": "python"
    },
    "kernelspec": {
      "name": "python3",
      "display_name": "Python 3"
    }
  }
}