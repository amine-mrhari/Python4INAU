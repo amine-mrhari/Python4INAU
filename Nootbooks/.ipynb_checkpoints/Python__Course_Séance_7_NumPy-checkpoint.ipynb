{
  "cells": [
    {
      "cell_type": "markdown",
      "source": [
        "![cropped-LOGO-INAU-HD-header-V1[1].png](data:image/png;base64,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)"
      ],
      "metadata": {
        "id": "K4x1at1-YS0G"
      },
      "id": "K4x1at1-YS0G"
    },
    {
      "cell_type": "markdown",
      "source": [
        "\n",
        "# Séance 7 : NumPy\n",
        "\n",
        "\n",
        "## Objectifs d’apprentissage\n",
        "\n",
        "À la fin de ce cours, vous serez capable de :\n",
        "- Comprendre les\n",
        "concepts fondamentaux des tableaux NumPy\n",
        "- Créer et manipuler\n",
        "efficacement des tableaux multidimensionnels\n",
        "- Appliquer des opérations\n",
        "mathématiques et statistiques sur des ensembles de données\n",
        "- Utiliser\n",
        "les fonctionnalités d’algèbre linéaire de NumPy\n",
        "- Résoudre des problèmes\n",
        "concrets d’analyse urbaine avec NumPy\n",
        "\n",
        "## Prérequis\n",
        "\n",
        "-   Connaissance de base de Python (variables, boucles, fonctions,\n",
        "    listes)\n",
        "-   Notions de mathématiques (algèbre linéaire, statistiques)\n",
        "-   Aucune expérience préalable avec NumPy n’est requise\n",
        "\n",
        "## Structure du cours\n",
        "\n",
        "1.  [Introduction à NumPy](#1-introduction-à-numpy) - Découvrez pourquoi\n",
        "    NumPy est essentiel pour le calcul scientifique\n",
        "2.  [Les tableaux NumPy (ndarray)](#2-les-tableaux-numpy-ndarray) -\n",
        "    Apprenez à créer et manipuler des tableaux multidimensionnels\n",
        "3.  [Création de tableaux](#3-création-de-tableaux) - Maîtrisez les\n",
        "    différentes méthodes de création de tableaux\n",
        "4.  [Indexation et découpage](#4-indexation-et-découpage) - Accédez et\n",
        "    modifiez efficacement les données\n",
        "5.  [Opérations mathématiques](#5-opérations-mathématiques-de-base) -\n",
        "    Effectuez des calculs sur des tableaux entiers\n",
        "6.  [Manipulation de tableaux](#6-manipulation-de-tableaux) -\n",
        "    Redimensionnez, concaténez et divisez des tableaux\n",
        "7.  [Algèbre linéaire](#7-algèbre-linéaire-avec-numpy) - Utilisez les\n",
        "    fonctions d’algèbre linéaire avancées\n",
        "8.  [Exercices pratiques](#8-exercices-pratiques) - Appliquez vos\n",
        "    connaissances à des problèmes concrets"
      ],
      "metadata": {
        "id": "S7gb6mZ-vGn8"
      },
      "id": "S7gb6mZ-vGn8"
    },
    {
      "cell_type": "markdown",
      "source": [
        "# 1. Introduction à NumPy\n",
        "\n",
        "![numpylogo.svg](data:image/svg+xml;base64,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)\n",
        "\n",
        "\n",
        "## 1.1 Qu’est-ce que NumPy ?\n",
        "\n",
        "NumPy (Numerical Python) est la pierre angulaire de l’écosystème\n",
        "scientifique en Python. C’est une bibliothèque open-source qui offre des\n",
        "structures de données et des fonctions optimisées pour le calcul\n",
        "numérique haute performance.\n",
        "\n",
        "### Caractéristiques principales :\n",
        "\n",
        "-   **ndarray** : Un objet tableau multidimensionnel homogène (tous les\n",
        "    éléments du même type) qui permet des opérations vectorisées\n",
        "-   **Fonctions mathématiques** : Une vaste collection de fonctions\n",
        "    mathématiques optimisées pour opérer sur des tableaux\n",
        "-   **Outils avancés** : Pour l’algèbre linéaire, les transformations de\n",
        "    Fourier, la génération de nombres aléatoires, etc.\n",
        "-   **Interopérabilité** : Peut s’interfacer facilement avec du code\n",
        "    C/C++ et Fortran"
      ],
      "metadata": {
        "id": "W5AEjXuhXh37"
      },
      "id": "W5AEjXuhXh37"
    },
    {
      "cell_type": "markdown",
      "source": [
        "### 1.2 Pourquoi NumPy est-il essentiel ?\n",
        "\n",
        "#### Performance inégalée\n",
        "\n",
        "-   **Opérations vectorisées** : Exécute des opérations sur des tableaux\n",
        "    entiers sans boucles explicites\n",
        "-   **Implémentation en C** : Le code critique est écrit en C pour des\n",
        "    performances optimales\n",
        "-   **Accélération matérielle** : Peut utiliser des bibliothèques\n",
        "    optimisées comme BLAS/LAPACK\n",
        "\n",
        "#### Productivité accrue\n",
        "\n",
        "-   **Syntaxe intuitive** : Opérations mathématiques naturelles sur des\n",
        "    tableaux entiers\n",
        "-   **Moins de code** : Remplace les boucles par des opérations\n",
        "    vectorielles\n",
        "-   **Documentation complète** : Une vaste communauté et de nombreuses\n",
        "    ressources d’apprentissage\n",
        "\n",
        "#### Pour l’analyse urbaine\n",
        "\n",
        "-   **Gestion des données géospatiales** : Manipulation efficace des\n",
        "    données de localisation\n",
        "-   **Calculs statistiques** : Analyse des tendances démographiques et\n",
        "    urbaines\n",
        "-   **Simulations** : Modélisation des flux de trafic, de la propagation\n",
        "    urbaine, etc.\n",
        "\n",
        "### 1.3 Installation et configuration\n",
        "\n",
        "#### Installation de base"
      ],
      "metadata": {
        "id": "l-eT7S7wX2Pe"
      },
      "id": "l-eT7S7wX2Pe"
    },
    {
      "cell_type": "code",
      "source": [
        "!pip install numpy\n",
        "\n",
        "# Pour les utilisateurs d'Anaconda (recommandé pour les sciences des données)\n",
        "# conda install numpy"
      ],
      "metadata": {
        "colab": {
          "base_uri": "https://localhost:8080/"
        },
        "id": "wJozDRt_X5M5",
        "outputId": "ab9893dc-3b1b-4ae0-ed89-73f7b60ab5b5"
      },
      "id": "wJozDRt_X5M5",
      "execution_count": null,
      "outputs": [
        {
          "output_type": "stream",
          "name": "stdout",
          "text": [
            "Requirement already satisfied: numpy in /usr/local/lib/python3.11/dist-packages (2.0.2)\n"
          ]
        }
      ]
    },
    {
      "cell_type": "markdown",
      "source": [
        "#### Vérification de l’installation\n"
      ],
      "metadata": {
        "id": "KKGBCqAyX-J4"
      },
      "id": "KKGBCqAyX-J4"
    },
    {
      "cell_type": "code",
      "source": [
        "import numpy\n",
        "print(\"Version de NumPy :\", numpy.__version__)"
      ],
      "metadata": {
        "colab": {
          "base_uri": "https://localhost:8080/"
        },
        "id": "oMhecAQSYEjY",
        "outputId": "1247a09d-7151-4e65-b5d7-6b9e88d7a4b9"
      },
      "id": "oMhecAQSYEjY",
      "execution_count": null,
      "outputs": [
        {
          "output_type": "stream",
          "name": "stdout",
          "text": [
            "Version de NumPy : 2.0.2\n"
          ]
        }
      ]
    },
    {
      "cell_type": "code",
      "source": [
        "print(\"Configuration de NumPy :\")\n",
        "print(numpy.show_config())"
      ],
      "metadata": {
        "colab": {
          "base_uri": "https://localhost:8080/"
        },
        "id": "AZhf5SSafAv_",
        "outputId": "5f7b6105-1b72-4ce9-e159-4d5720a0e548"
      },
      "id": "AZhf5SSafAv_",
      "execution_count": null,
      "outputs": [
        {
          "output_type": "stream",
          "name": "stdout",
          "text": [
            "Configuration de NumPy :\n",
            "Build Dependencies:\n",
            "  blas:\n",
            "    detection method: pkgconfig\n",
            "    found: true\n",
            "    include directory: /opt/_internal/cpython-3.11.8/lib/python3.11/site-packages/scipy_openblas64/include\n",
            "    lib directory: /opt/_internal/cpython-3.11.8/lib/python3.11/site-packages/scipy_openblas64/lib\n",
            "    name: scipy-openblas\n",
            "    openblas configuration: OpenBLAS 0.3.27  USE64BITINT DYNAMIC_ARCH NO_AFFINITY\n",
            "      Zen MAX_THREADS=64\n",
            "    pc file directory: /project/.openblas\n",
            "    version: 0.3.27\n",
            "  lapack:\n",
            "    detection method: pkgconfig\n",
            "    found: true\n",
            "    include directory: /opt/_internal/cpython-3.11.8/lib/python3.11/site-packages/scipy_openblas64/include\n",
            "    lib directory: /opt/_internal/cpython-3.11.8/lib/python3.11/site-packages/scipy_openblas64/lib\n",
            "    name: scipy-openblas\n",
            "    openblas configuration: OpenBLAS 0.3.27  USE64BITINT DYNAMIC_ARCH NO_AFFINITY\n",
            "      Zen MAX_THREADS=64\n",
            "    pc file directory: /project/.openblas\n",
            "    version: 0.3.27\n",
            "Compilers:\n",
            "  c:\n",
            "    commands: cc\n",
            "    linker: ld.bfd\n",
            "    name: gcc\n",
            "    version: 10.2.1\n",
            "  c++:\n",
            "    commands: c++\n",
            "    linker: ld.bfd\n",
            "    name: gcc\n",
            "    version: 10.2.1\n",
            "  cython:\n",
            "    commands: cython\n",
            "    linker: cython\n",
            "    name: cython\n",
            "    version: 3.0.11\n",
            "Machine Information:\n",
            "  build:\n",
            "    cpu: x86_64\n",
            "    endian: little\n",
            "    family: x86_64\n",
            "    system: linux\n",
            "  host:\n",
            "    cpu: x86_64\n",
            "    endian: little\n",
            "    family: x86_64\n",
            "    system: linux\n",
            "Python Information:\n",
            "  path: /tmp/build-env-zm_4loqi/bin/python\n",
            "  version: '3.11'\n",
            "SIMD Extensions:\n",
            "  baseline:\n",
            "  - SSE\n",
            "  - SSE2\n",
            "  - SSE3\n",
            "  found:\n",
            "  - SSSE3\n",
            "  - SSE41\n",
            "  - POPCNT\n",
            "  - SSE42\n",
            "  - AVX\n",
            "  - F16C\n",
            "  - FMA3\n",
            "  - AVX2\n",
            "  not found:\n",
            "  - AVX512F\n",
            "  - AVX512CD\n",
            "  - AVX512_KNL\n",
            "  - AVX512_KNM\n",
            "  - AVX512_SKX\n",
            "  - AVX512_CLX\n",
            "  - AVX512_CNL\n",
            "  - AVX512_ICL\n",
            "\n",
            "None\n"
          ]
        }
      ]
    },
    {
      "cell_type": "markdown",
      "source": [
        "#### Environnements recommandés\n",
        "\n",
        "1.  **Jupyter Notebook** : Idéal pour l’exploration interactive\n",
        "2.  **VS Code** avec l’extension Python\n",
        "3.  **PyCharm** pour les projets plus importants\n",
        "\n",
        "### 1.4 Premiers pas avec NumPy\n",
        "\n",
        "#### Importation standard"
      ],
      "metadata": {
        "id": "wuMqQgFlYHW8"
      },
      "id": "wuMqQgFlYHW8"
    },
    {
      "cell_type": "code",
      "source": [
        "import numpy as np  # Convention de la communauté"
      ],
      "metadata": {
        "id": "uUn6GDGDYNMu"
      },
      "id": "uUn6GDGDYNMu",
      "execution_count": null,
      "outputs": []
    },
    {
      "cell_type": "markdown",
      "source": [
        "#### Comparaison avec les listes Python"
      ],
      "metadata": {
        "id": "5kVJHjA6YPqh"
      },
      "id": "5kVJHjA6YPqh"
    },
    {
      "cell_type": "code",
      "source": [
        "import time\n",
        "\n",
        "# Création d'une liste de 1 million de nombres\n",
        "liste = list(range(1, 1000001))\n",
        "\n",
        "# Mesure du temps pour calculer la somme des carrés\n",
        "start = time.time()\n",
        "somme = sum([x**2 for x in liste])  # Utilisation d'une liste en compréhension\n",
        "end = time.time()\n",
        "temps_liste = end - start\n",
        "print(f\"Temps avec liste Python: {temps_liste:.6f} secondes\")\n",
        "\n",
        "# NumPy\n",
        "import numpy as np\n",
        "\n",
        "# Création d'un tableau NumPy équivalent\n",
        "tableau = np.arange(1, 1000001)  # arange est similaire à range mais retourne un tableau NumPy\n",
        "\n",
        "# Mesure du temps pour le même calcul\n",
        "start = time.time()\n",
        "somme_carres = np.sum(tableau**2)  # Opération vectorisée\n",
        "end = time.time()\n",
        "temps_numpy = end - start\n",
        "print(f\"Temps avec NumPy: {temps_numpy:.6f} secondes\")\n",
        "print(f\"Ratio de vitesse: {temps_liste/temps_numpy:.1f}x plus rapide\")"
      ],
      "metadata": {
        "colab": {
          "base_uri": "https://localhost:8080/"
        },
        "id": "nnh97FuEYTFW",
        "outputId": "df58e68d-c383-43b7-a7fe-53c5d3a093f0"
      },
      "id": "nnh97FuEYTFW",
      "execution_count": null,
      "outputs": [
        {
          "output_type": "stream",
          "name": "stdout",
          "text": [
            "Temps avec liste Python: 0.111091 secondes\n",
            "Temps avec NumPy: 0.002469 secondes\n",
            "Ratio de vitesse: 45.0x plus rapide\n"
          ]
        }
      ]
    },
    {
      "cell_type": "markdown",
      "source": [
        "#### Avantages de l’approche NumPy\n",
        "\n",
        "-   **Lisibilité** : Le code est plus concis et expressif\n",
        "-   **Performance** : Jusqu’à 100x plus rapide que les listes Python\n",
        "    pour les opérations numériques\n",
        "-   **Fonctionnalités** : Accès à des centaines de fonctions\n",
        "    mathématiques optimisées"
      ],
      "metadata": {
        "id": "xttt4xa4hpDH"
      },
      "id": "xttt4xa4hpDH"
    },
    {
      "cell_type": "markdown",
      "source": [
        "\n",
        "### 1.5 Quand utiliser NumPy ?\n",
        "\n",
        "#### Cas d’utilisation idéaux\n",
        "\n",
        "-   Manipulation de grandes matrices ou tableaux de données\n",
        "-   Opérations mathématiques complexes sur des ensembles de données\n",
        "-   Traitement d’images ou de signaux\n",
        "-   Simulations numériques et modélisation mathématique\n",
        "-   Apprentissage automatique et science des données\n",
        "\n",
        "#### Alternatives à considérer\n",
        "\n",
        "-   **Pour les données tabulaires** : Pandas (construit sur NumPy)\n",
        "-   **Pour le calcul symbolique** : SymPy\n",
        "-   **Pour les tableaux épars** : SciPy.sparse\n",
        "\n",
        "### 1.6 Ressources complémentaires\n",
        "\n",
        "-   [Documentation officielle de NumPy](https://numpy.org/doc/stable/)\n",
        "-   [Tutoriel NumPy\n",
        "    officiel](https://numpy.org/doc/stable/user/quickstart.html)\n",
        "-   [100 exercices NumPy](https://github.com/rougier/numpy-100)"
      ],
      "metadata": {
        "id": "ddb2CfX3Ybpk"
      },
      "id": "ddb2CfX3Ybpk"
    },
    {
      "cell_type": "markdown",
      "source": [
        "## 2. Les tableaux NumPy (ndarray)\n",
        "\n",
        "## 2.1 Introduction aux tableaux NumPy\n",
        "\n",
        "### 2.1.1 Qu’est-ce qu’un ndarray ?\n",
        "\n",
        "Le ndarray (n-dimensional array) est la structure de données\n",
        "fondamentale de NumPy. C’est un tableau multidimensionnel homogène (tous\n",
        "les éléments ont le même type) qui permet des opérations vectorisées.\n",
        "\n",
        "### 2.1.2 Avantages par rapport aux listes Python\n",
        "\n",
        "-   **Performance** : Opérations beaucoup plus rapides grâce à\n",
        "    l’implémentation en C\n",
        "-   **Moins de mémoire** : Stockage plus efficace des données\n",
        "-   **Opérations vectorisées** : Opérations mathématiques sur des\n",
        "    tableaux entiers sans boucles\n",
        "-   **Fonctions mathématiques optimisées** : Large bibliothèque de\n",
        "    fonctions numériques\n",
        "\n",
        "## 2.2 Création d’un tableau simple\n",
        "\n",
        "### 2.2.1 À partir d’une liste Python\n",
        "La méthode la plus courante pour créer un tableau NumPy est de convertir une liste Python :"
      ],
      "metadata": {
        "id": "N7LNoQpvYgfk"
      },
      "id": "N7LNoQpvYgfk"
    },
    {
      "cell_type": "code",
      "source": [
        "import numpy as np\n",
        "\n",
        "# Création d'une liste Python\n",
        "liste = [1, 2, 3, 4, 5]\n",
        "\n",
        "# Conversion en tableau NumPy\n",
        "arr = np.array(liste)\n",
        "\n",
        "print(\"Tableau 1D:\", arr)"
      ],
      "metadata": {
        "colab": {
          "base_uri": "https://localhost:8080/"
        },
        "id": "d5jEeLR7Ynfw",
        "outputId": "22c0a2ab-c440-42d4-99c4-54b31b1d890d"
      },
      "id": "d5jEeLR7Ynfw",
      "execution_count": null,
      "outputs": [
        {
          "output_type": "stream",
          "name": "stdout",
          "text": [
            "Tableau 1D: [1 2 3 4 5]\n"
          ]
        }
      ]
    },
    {
      "cell_type": "code",
      "source": [
        "print(\"Type de l'objet:\", type(arr))  # <class 'numpy.ndarray'>"
      ],
      "metadata": {
        "colab": {
          "base_uri": "https://localhost:8080/"
        },
        "id": "pj1QGNYH0HFk",
        "outputId": "f9bc85f5-327f-4d27-f7f6-d5871fb9514c"
      },
      "id": "pj1QGNYH0HFk",
      "execution_count": null,
      "outputs": [
        {
          "output_type": "stream",
          "name": "stdout",
          "text": [
            "Type de l'objet: <class 'numpy.ndarray'>\n"
          ]
        }
      ]
    },
    {
      "cell_type": "code",
      "source": [
        "print(\"Dimensions (shape):\", arr.shape)  # (5,) - tuple représentant les dimensions"
      ],
      "metadata": {
        "colab": {
          "base_uri": "https://localhost:8080/"
        },
        "id": "tBWNIgny0JMa",
        "outputId": "2895b512-98c0-4544-ed4a-564c7e77d317"
      },
      "id": "tBWNIgny0JMa",
      "execution_count": null,
      "outputs": [
        {
          "output_type": "stream",
          "name": "stdout",
          "text": [
            "Dimensions (shape): (5,)\n"
          ]
        }
      ]
    },
    {
      "cell_type": "code",
      "source": [
        "print(\"Nombre de dimensions (ndim):\", arr.ndim)  # 1 dimension"
      ],
      "metadata": {
        "colab": {
          "base_uri": "https://localhost:8080/"
        },
        "id": "inD7zLqH0LfO",
        "outputId": "20a8bc8f-7789-4a1e-d1b3-de77b5bb4ec4"
      },
      "id": "inD7zLqH0LfO",
      "execution_count": null,
      "outputs": [
        {
          "output_type": "stream",
          "name": "stdout",
          "text": [
            "Nombre de dimensions (ndim): 1\n"
          ]
        }
      ]
    },
    {
      "cell_type": "code",
      "source": [
        "print(\"Nombre total d'éléments (size):\", arr.size)  # 5 éléments"
      ],
      "metadata": {
        "colab": {
          "base_uri": "https://localhost:8080/"
        },
        "id": "frS1i3uV0Ngj",
        "outputId": "9adb9d6c-21b7-4546-a548-cbfe88f7b861"
      },
      "id": "frS1i3uV0Ngj",
      "execution_count": null,
      "outputs": [
        {
          "output_type": "stream",
          "name": "stdout",
          "text": [
            "Nombre total d'éléments (size): 5\n"
          ]
        }
      ]
    },
    {
      "cell_type": "code",
      "source": [
        "print(\"Type des éléments (dtype):\", arr.dtype)  # int64 (entier 64 bits)"
      ],
      "metadata": {
        "colab": {
          "base_uri": "https://localhost:8080/"
        },
        "id": "zl9i8-s30PV-",
        "outputId": "87656bbf-544a-44dc-a3b8-9cc44f05958a"
      },
      "id": "zl9i8-s30PV-",
      "execution_count": null,
      "outputs": [
        {
          "output_type": "stream",
          "name": "stdout",
          "text": [
            "Type des éléments (dtype): int64\n"
          ]
        }
      ]
    },
    {
      "cell_type": "code",
      "source": [
        "print(\"Taille en octets par élément:\", arr.itemsize, \"octets\")"
      ],
      "metadata": {
        "colab": {
          "base_uri": "https://localhost:8080/"
        },
        "id": "qCvIscoI0RZK",
        "outputId": "60155474-970c-4c15-fb63-08672599a67f"
      },
      "id": "qCvIscoI0RZK",
      "execution_count": null,
      "outputs": [
        {
          "output_type": "stream",
          "name": "stdout",
          "text": [
            "Taille en octets par élément: 8 octets\n"
          ]
        }
      ]
    },
    {
      "cell_type": "code",
      "source": [
        "print(\"Taille totale en mémoire:\", arr.nbytes, \"octets\")  # 5 éléments * 8 octets"
      ],
      "metadata": {
        "colab": {
          "base_uri": "https://localhost:8080/"
        },
        "id": "hvmAtuYf0TPE",
        "outputId": "be8407ca-2216-41ac-98bf-ba6385a20985"
      },
      "id": "hvmAtuYf0TPE",
      "execution_count": null,
      "outputs": [
        {
          "output_type": "stream",
          "name": "stdout",
          "text": [
            "Taille totale en mémoire: 40 octets\n"
          ]
        }
      ]
    },
    {
      "cell_type": "markdown",
      "source": [
        "### 2.2.2 Spécification du type de données"
      ],
      "metadata": {
        "id": "MMaT6VVHYqnR"
      },
      "id": "MMaT6VVHYqnR"
    },
    {
      "cell_type": "code",
      "source": [
        "# Création avec un type de données spécifique\n",
        "arr_float = np.array([1, 2.5, 3.7, 4], dtype=np.float32)\n",
        "print(\"\\nTableau avec type float32:\", arr_float)"
      ],
      "metadata": {
        "colab": {
          "base_uri": "https://localhost:8080/"
        },
        "id": "FoybwBzQYtGc",
        "outputId": "64de1ff1-2ed0-4bf4-d79a-f570ba28320f"
      },
      "id": "FoybwBzQYtGc",
      "execution_count": null,
      "outputs": [
        {
          "output_type": "stream",
          "name": "stdout",
          "text": [
            "\n",
            "Tableau avec type float32: [1.  2.5 3.7 4. ]\n"
          ]
        }
      ]
    },
    {
      "cell_type": "code",
      "source": [
        "print(\"Type des éléments:\", arr_float.dtype)"
      ],
      "metadata": {
        "colab": {
          "base_uri": "https://localhost:8080/"
        },
        "id": "YgHRyR9e0bGf",
        "outputId": "4fd9329a-8cd5-46d6-d51b-a3037fde693f"
      },
      "id": "YgHRyR9e0bGf",
      "execution_count": null,
      "outputs": [
        {
          "output_type": "stream",
          "name": "stdout",
          "text": [
            "Type des éléments: float32\n"
          ]
        }
      ]
    },
    {
      "cell_type": "markdown",
      "source": [
        "## 2.3 Tableaux multidimensionnels\n",
        "\n",
        "### 2.3.1 Tableaux 2D (matrices)"
      ],
      "metadata": {
        "id": "D0EBOFWQYv3b"
      },
      "id": "D0EBOFWQYv3b"
    },
    {
      "cell_type": "code",
      "source": [
        "# Création d'une matrice 2x3\n",
        "matrice = np.array([[1, 2, 3], [4, 5, 6]])\n",
        "\n",
        "print(\"\\nTableau 2D (matrice):\")\n",
        "print(matrice)"
      ],
      "metadata": {
        "colab": {
          "base_uri": "https://localhost:8080/"
        },
        "id": "Smoo96obYyr3",
        "outputId": "d2433d66-c4e5-4d44-e08f-bc72cb5b2ebd"
      },
      "id": "Smoo96obYyr3",
      "execution_count": null,
      "outputs": [
        {
          "output_type": "stream",
          "name": "stdout",
          "text": [
            "\n",
            "Tableau 2D (matrice):\n",
            "[[1 2 3]\n",
            " [4 5 6]]\n"
          ]
        }
      ]
    },
    {
      "cell_type": "code",
      "source": [
        "print(\"Dimensions (shape):\", matrice.shape)  # (2, 3) - 2 lignes, 3 colonnes"
      ],
      "metadata": {
        "colab": {
          "base_uri": "https://localhost:8080/"
        },
        "id": "VzwWp3sylzKi",
        "outputId": "d9fe410d-09cf-423a-9667-f925fb8fbfac"
      },
      "id": "VzwWp3sylzKi",
      "execution_count": null,
      "outputs": [
        {
          "output_type": "stream",
          "name": "stdout",
          "text": [
            "Dimensions (shape): (2, 3)\n"
          ]
        }
      ]
    },
    {
      "cell_type": "code",
      "source": [
        "print(\"Nombre de dimensions (ndim):\", matrice.ndim)  # 2 dimensions\n"
      ],
      "metadata": {
        "colab": {
          "base_uri": "https://localhost:8080/"
        },
        "id": "BnK9G70Dl1--",
        "outputId": "00acff56-6b84-481e-92cf-e503cd783994"
      },
      "id": "BnK9G70Dl1--",
      "execution_count": null,
      "outputs": [
        {
          "output_type": "stream",
          "name": "stdout",
          "text": [
            "Nombre de dimensions (ndim): 2\n"
          ]
        }
      ]
    },
    {
      "cell_type": "code",
      "source": [
        "print(\"Nombre total d'éléments (size):\", matrice.size)  # 6 éléments\n"
      ],
      "metadata": {
        "colab": {
          "base_uri": "https://localhost:8080/"
        },
        "id": "Sor3p8e9l4Yf",
        "outputId": "ec7a59b7-0400-4b9f-9c42-512813d31613"
      },
      "id": "Sor3p8e9l4Yf",
      "execution_count": null,
      "outputs": [
        {
          "output_type": "stream",
          "name": "stdout",
          "text": [
            "Nombre total d'éléments (size): 6\n"
          ]
        }
      ]
    },
    {
      "cell_type": "code",
      "source": [
        "# itemsize : taille en octets d'un seul élément du tableau\n",
        "print(\"Taille par élément (itemsize):\", matrice.itemsize, \"octets\")"
      ],
      "metadata": {
        "colab": {
          "base_uri": "https://localhost:8080/"
        },
        "id": "JBa0ncJQl6f0",
        "outputId": "9d7c682e-fb4b-43c9-b74f-60a0f9dee317"
      },
      "id": "JBa0ncJQl6f0",
      "execution_count": null,
      "outputs": [
        {
          "output_type": "stream",
          "name": "stdout",
          "text": [
            "Taille par élément (itemsize): 8 octets\n"
          ]
        }
      ]
    },
    {
      "cell_type": "code",
      "source": [
        "# nbytes : taille totale en octets occupée par le tableau (size * itemsize)\n",
        "print(\"Taille totale (nbytes):\", matrice.nbytes, \"octets\")"
      ],
      "metadata": {
        "colab": {
          "base_uri": "https://localhost:8080/"
        },
        "id": "fnr3e75Kl8o_",
        "outputId": "42eeb6ff-5e56-4ba1-e0de-a3f549779511"
      },
      "id": "fnr3e75Kl8o_",
      "execution_count": null,
      "outputs": [
        {
          "output_type": "stream",
          "name": "stdout",
          "text": [
            "Taille totale (nbytes): 48 octets\n"
          ]
        }
      ]
    },
    {
      "cell_type": "code",
      "source": [
        "# shape : tuple représentant les dimensions du tableau\n",
        "print(\"Forme (shape):\", matrice.shape, \"(lignes, colonnes)\")"
      ],
      "metadata": {
        "colab": {
          "base_uri": "https://localhost:8080/"
        },
        "id": "WwODxpmEl-re",
        "outputId": "79b0d7a5-be45-48d3-d520-28a614077b26"
      },
      "id": "WwODxpmEl-re",
      "execution_count": null,
      "outputs": [
        {
          "output_type": "stream",
          "name": "stdout",
          "text": [
            "Forme (shape): (2, 3) (lignes, colonnes)\n"
          ]
        }
      ]
    },
    {
      "cell_type": "code",
      "source": [
        "# dtype : type des éléments du tableau\n",
        "print(\"Type des éléments (dtype):\", matrice.dtype)"
      ],
      "metadata": {
        "colab": {
          "base_uri": "https://localhost:8080/"
        },
        "id": "l13PHIyBmAd9",
        "outputId": "0db664b2-5cb0-4913-dd2f-2d44a7254c02"
      },
      "id": "l13PHIyBmAd9",
      "execution_count": null,
      "outputs": [
        {
          "output_type": "stream",
          "name": "stdout",
          "text": [
            "Type des éléments (dtype): int64\n"
          ]
        }
      ]
    },
    {
      "cell_type": "markdown",
      "source": [
        "# 3. Création de tableaux\n",
        "\n",
        "## 3.1 Introduction aux méthodes de création\n",
        "\n",
        "NumPy offre plusieurs méthodes pour créer des tableaux, chacune adaptée\n",
        "à des besoins spécifiques.\n",
        "\n",
        "## 3.2 Tableaux prédéfinis\n",
        "\n",
        "### 3.2.1 Tableaux de zéros : `np.zeros()`"
      ],
      "metadata": {
        "id": "tG2fCd87Y2gz"
      },
      "id": "tG2fCd87Y2gz"
    },
    {
      "cell_type": "code",
      "source": [
        "# Crée un tableau rempli de zéros\n",
        "# Syntaxe : np.zeros(forme, dtype=float, order='C')\n",
        "\n",
        "# Exemple 1 : Vecteur de zéros (1D)\n",
        "vecteur_zeros = np.zeros(5)\n",
        "print(\"Vecteur de zéros (1D):\\n\", vecteur_zeros)\n",
        "\n"
      ],
      "metadata": {
        "colab": {
          "base_uri": "https://localhost:8080/"
        },
        "id": "s0epl-heY5zJ",
        "outputId": "bdb3e680-f660-49b9-c557-42f56173fd1a"
      },
      "id": "s0epl-heY5zJ",
      "execution_count": null,
      "outputs": [
        {
          "output_type": "stream",
          "name": "stdout",
          "text": [
            "Vecteur de zéros (1D):\n",
            " [0. 0. 0. 0. 0.]\n"
          ]
        }
      ]
    },
    {
      "cell_type": "code",
      "source": [
        "# Exemple 2 : Matrice de zéros (2D)\n",
        "matrice_zeros = np.zeros((3, 4))  # 3 lignes, 4 colonnes\n",
        "print(\"\\nMatrice de zéros (3x4):\\n\", matrice_zeros)"
      ],
      "metadata": {
        "colab": {
          "base_uri": "https://localhost:8080/"
        },
        "id": "_kYxMPmtmFd5",
        "outputId": "7d6316e9-c700-44a1-b864-66d4a61094c3"
      },
      "id": "_kYxMPmtmFd5",
      "execution_count": null,
      "outputs": [
        {
          "output_type": "stream",
          "name": "stdout",
          "text": [
            "\n",
            "Matrice de zéros (3x4):\n",
            " [[0. 0. 0. 0.]\n",
            " [0. 0. 0. 0.]\n",
            " [0. 0. 0. 0.]]\n"
          ]
        }
      ]
    },
    {
      "cell_type": "code",
      "source": [
        "# Exemple 3 : Avec un type de données spécifique\n",
        "zeros_entiers = np.zeros((2, 3), dtype=np.int32)\n",
        "print(\"\\nMatrice d'entiers zéros (2x3):\\n\", zeros_entiers)"
      ],
      "metadata": {
        "colab": {
          "base_uri": "https://localhost:8080/"
        },
        "id": "uMKR0FqkmHX9",
        "outputId": "93f7fc4e-118b-43d5-cb4a-e2ef2f769a61"
      },
      "id": "uMKR0FqkmHX9",
      "execution_count": null,
      "outputs": [
        {
          "output_type": "stream",
          "name": "stdout",
          "text": [
            "\n",
            "Matrice d'entiers zéros (2x3):\n",
            " [[0 0 0]\n",
            " [0 0 0]]\n"
          ]
        }
      ]
    },
    {
      "cell_type": "markdown",
      "source": [
        "**Cas d’utilisation en urbanisme :**\n",
        "- Initialisation de grilles pour\n",
        "des simulations urbaines\n",
        "- Création de masques pour le traitement\n",
        "d’images satellitaires\n",
        "- Préparation de tableaux pour stocker les\n",
        "résultats de calculs\n",
        "\n",
        "### 3.2.2 Tableaux de uns : `np.ones()`"
      ],
      "metadata": {
        "id": "CkAmrPJoY9qL"
      },
      "id": "CkAmrPJoY9qL"
    },
    {
      "cell_type": "code",
      "source": [
        "# Crée un tableau rempli de uns\n",
        "# Syntaxe : np.ones(forme, dtype=None, order='C')\n",
        "\n",
        "# Exemple 1 : Vecteur de uns (1D)\n",
        "vecteur_uns = np.ones(4)\n",
        "print(\"\\nVecteur de uns (1D):\\n\", vecteur_uns)"
      ],
      "metadata": {
        "colab": {
          "base_uri": "https://localhost:8080/"
        },
        "id": "Vscb3u6YZECe",
        "outputId": "9e038871-f169-4f99-f40e-9ac65de703fc"
      },
      "id": "Vscb3u6YZECe",
      "execution_count": null,
      "outputs": [
        {
          "output_type": "stream",
          "name": "stdout",
          "text": [
            "\n",
            "Vecteur de uns (1D):\n",
            " [1. 1. 1. 1.]\n"
          ]
        }
      ]
    },
    {
      "cell_type": "code",
      "source": [
        "# Exemple 2 : Matrice de uns (2D)\n",
        "matrice_uns = np.ones((2, 3))  # 2 lignes, 3 colonnes\n",
        "print(\"\\nMatrice de uns (2x3):\\n\", matrice_uns)\n",
        "\n"
      ],
      "metadata": {
        "colab": {
          "base_uri": "https://localhost:8080/"
        },
        "id": "1z_IK1ZlmMyZ",
        "outputId": "a1ad5df0-feb4-4d8f-b76d-4fe3b62890c9"
      },
      "id": "1z_IK1ZlmMyZ",
      "execution_count": null,
      "outputs": [
        {
          "output_type": "stream",
          "name": "stdout",
          "text": [
            "\n",
            "Matrice de uns (2x3):\n",
            " [[1. 1. 1.]\n",
            " [1. 1. 1.]]\n"
          ]
        }
      ]
    },
    {
      "cell_type": "code",
      "source": [
        "# Exemple 3 : Avec un type de données spécifique\n",
        "uns_booleens = np.ones((2, 2), dtype=bool)\n",
        "print(\"\\nMatrice booléenne de True (2x2):\\n\", uns_booleens)"
      ],
      "metadata": {
        "colab": {
          "base_uri": "https://localhost:8080/"
        },
        "id": "gjC1QH60mOtj",
        "outputId": "a5a6c5a9-0e61-4fb7-ab58-271316a5f701"
      },
      "id": "gjC1QH60mOtj",
      "execution_count": null,
      "outputs": [
        {
          "output_type": "stream",
          "name": "stdout",
          "text": [
            "\n",
            "Matrice booléenne de True (2x2):\n",
            " [[ True  True]\n",
            " [ True  True]]\n"
          ]
        }
      ]
    },
    {
      "cell_type": "markdown",
      "source": [
        "**Applications pratiques :**\n",
        "- Initialisation de matrices de\n",
        "pondération\n",
        "- Création de masques pour des opérations de sélection\n",
        "-\n",
        "Initialisation de tableaux avant des opérations de multiplication\n",
        "\n",
        "### 3.2.3 Matrice identité : `np.eye()` et `np.identity()`"
      ],
      "metadata": {
        "id": "gxrD_exDZImG"
      },
      "id": "gxrD_exDZImG"
    },
    {
      "cell_type": "code",
      "source": [
        "# np.eye() crée une matrice avec des 1 sur la diagonale et des 0 ailleurs\n",
        "# np.identity() est un cas particulier de np.eye() pour des matrices carrées\n",
        "\n",
        "# Exemple 1 : Matrice identité 3x3\n",
        "identite = np.eye(3)\n",
        "print(\"\\nMatrice identité 3x3:\\n\", identite)"
      ],
      "metadata": {
        "colab": {
          "base_uri": "https://localhost:8080/"
        },
        "id": "2xDaExyiZMd3",
        "outputId": "c3693386-14b6-44ec-fc9f-dfaef902b77e"
      },
      "id": "2xDaExyiZMd3",
      "execution_count": null,
      "outputs": [
        {
          "output_type": "stream",
          "name": "stdout",
          "text": [
            "\n",
            "Matrice identité 3x3:\n",
            " [[1. 0. 0.]\n",
            " [0. 1. 0.]\n",
            " [0. 0. 1.]]\n"
          ]
        }
      ]
    },
    {
      "cell_type": "code",
      "source": [
        "# Exemple 2 : Matrice avec décalage de la diagonale\n",
        "matrice_diag = np.eye(3, 4, k=1)  # k=1 décale la diagonale d'un cran vers la droite\n",
        "print(\"\\nMatrice avec diagonale décalée (3x4):\\n\", matrice_diag)\n"
      ],
      "metadata": {
        "colab": {
          "base_uri": "https://localhost:8080/"
        },
        "id": "yv36KCiPmakg",
        "outputId": "268e4e38-e854-4ce6-8aa1-7a3b201ae3fe"
      },
      "id": "yv36KCiPmakg",
      "execution_count": null,
      "outputs": [
        {
          "output_type": "stream",
          "name": "stdout",
          "text": [
            "\n",
            "Matrice avec diagonale décalée (3x4):\n",
            " [[0. 1. 0. 0.]\n",
            " [0. 0. 1. 0.]\n",
            " [0. 0. 0. 1.]]\n"
          ]
        }
      ]
    },
    {
      "cell_type": "code",
      "source": [
        "# Exemple 3 : Matrice identité avec type de données spécifique\n",
        "identite_entiers = np.identity(3, dtype=np.int8)\n",
        "print(\"\\nMatrice identité avec entiers 8 bits:\\n\", identite_entiers)"
      ],
      "metadata": {
        "colab": {
          "base_uri": "https://localhost:8080/"
        },
        "id": "ozzNZ6qkmdKW",
        "outputId": "5eacc3f5-c959-41e3-a8fd-8e0179b1ac47"
      },
      "id": "ozzNZ6qkmdKW",
      "execution_count": null,
      "outputs": [
        {
          "output_type": "stream",
          "name": "stdout",
          "text": [
            "\n",
            "Matrice identité avec entiers 8 bits:\n",
            " [[1 0 0]\n",
            " [0 1 0]\n",
            " [0 0 1]]\n"
          ]
        }
      ]
    },
    {
      "cell_type": "markdown",
      "source": [
        "**En algèbre linéaire :**\n",
        "- Élément neutre pour la multiplication\n",
        "matricielle\n",
        "- Utilisée dans les calculs de matrices inverses\n",
        "- Base pour\n",
        "les transformations linéaires\n",
        "\n",
        "### 3.2.4 Tableaux de constantes : `np.full()`"
      ],
      "metadata": {
        "id": "2uCn8kofZQSk"
      },
      "id": "2uCn8kofZQSk"
    },
    {
      "cell_type": "code",
      "source": [
        "# Crée un tableau rempli d'une valeur constante spécifiée\n",
        "# Syntaxe : np.full(forme, valeur_remplissage, dtype=None, order='C')\n",
        "\n",
        "# Exemple 1 : Matrice remplie d'une constante\n",
        "constante = np.full((2, 3), 7.5)\n",
        "print(\"\\nMatrice 2x3 remplie de 7.5:\\n\", constante)"
      ],
      "metadata": {
        "colab": {
          "base_uri": "https://localhost:8080/"
        },
        "id": "xjreBt2rZTK4",
        "outputId": "031f5dcd-7a45-4dcd-f7ff-fc5cc900f5a8"
      },
      "id": "xjreBt2rZTK4",
      "execution_count": null,
      "outputs": [
        {
          "output_type": "stream",
          "name": "stdout",
          "text": [
            "\n",
            "Matrice 2x3 remplie de 7.5:\n",
            " [[7.5 7.5 7.5]\n",
            " [7.5 7.5 7.5]]\n"
          ]
        }
      ]
    },
    {
      "cell_type": "code",
      "source": [
        "# Exemple 2 : Tableau 3D avec une valeur spécifique\n",
        "cube = np.full((2, 2, 2), True)  # Tableau booléen 3D\n",
        "print(\"\\nCube booléen 2x2x2 de True:\\n\", cube)"
      ],
      "metadata": {
        "colab": {
          "base_uri": "https://localhost:8080/"
        },
        "id": "4s-mmE6umonV",
        "outputId": "22338b33-997c-4897-a033-f6ddc2e997b6"
      },
      "id": "4s-mmE6umonV",
      "execution_count": null,
      "outputs": [
        {
          "output_type": "stream",
          "name": "stdout",
          "text": [
            "\n",
            "Cube booléen 2x2x2 de True:\n",
            " [[[ True  True]\n",
            "  [ True  True]]\n",
            "\n",
            " [[ True  True]\n",
            "  [ True  True]]]\n"
          ]
        }
      ]
    },
    {
      "cell_type": "code",
      "source": [
        "# Exemple 3 : Initialisation avec des chaînes de caractères\n",
        "etiquettes = np.full((3, 2), \"Vide\")\n",
        "print(\"\\nTableau de chaînes de caractères:\\n\", etiquettes)"
      ],
      "metadata": {
        "colab": {
          "base_uri": "https://localhost:8080/"
        },
        "id": "XsYCQZ-Amqvu",
        "outputId": "a2db4f7d-f35e-4dd1-8c90-4c9f0264cf09"
      },
      "id": "XsYCQZ-Amqvu",
      "execution_count": null,
      "outputs": [
        {
          "output_type": "stream",
          "name": "stdout",
          "text": [
            "\n",
            "Tableau de chaînes de caractères:\n",
            " [['Vide' 'Vide']\n",
            " ['Vide' 'Vide']\n",
            " ['Vide' 'Vide']]\n"
          ]
        }
      ]
    },
    {
      "cell_type": "markdown",
      "source": [
        "**Utilisations avancées :**\n",
        "- Initialisation de tableaux avec des\n",
        "valeurs par défaut\n",
        "- Création de masques avec des valeurs spécifiques\n",
        "-\n",
        "Préparation de tableaux pour des algorithmes itératifs\n",
        "\n",
        "### 3.2.5 Tableaux de nombres aléatoires\n",
        "\n",
        "NumPy fournit plusieurs fonctions pour générer des tableaux de nombres\n",
        "aléatoires via le module `random`."
      ],
      "metadata": {
        "id": "dDHTi1N1ZW6m"
      },
      "id": "dDHTi1N1ZW6m"
    },
    {
      "cell_type": "code",
      "source": [
        "# Initialisation du générateur de nombres aléatoires (pour la reproductibilité)\n",
        "np.random.seed(42)  # Toujours définir une graine pour la reproductibilité\n",
        "\n",
        "# 1. Nombres flottants uniformément répartis entre 0 et 1\n",
        "aleatoire = np.random.random((2, 3))\n",
        "print(\"\\nNombres aléatoires entre 0 et 1 (2x3):\\n\", aleatoire)"
      ],
      "metadata": {
        "colab": {
          "base_uri": "https://localhost:8080/"
        },
        "id": "Hy3Kx0ZMZZ5m",
        "outputId": "3dcdaa1b-b873-4e94-abe4-402ba8cf2359"
      },
      "id": "Hy3Kx0ZMZZ5m",
      "execution_count": null,
      "outputs": [
        {
          "output_type": "stream",
          "name": "stdout",
          "text": [
            "\n",
            "Nombres aléatoires entre 0 et 1 (2x3):\n",
            " [[0.37454012 0.95071431 0.73199394]\n",
            " [0.59865848 0.15601864 0.15599452]]\n"
          ]
        }
      ]
    },
    {
      "cell_type": "code",
      "source": [
        "# 2. Nombres entiers dans un intervalle\n",
        "entiers_aleatoires = np.random.randint(1, 101, size=(3, 4))  # Entre 1 et 100\n",
        "print(\"\\nNombres entiers aléatoires (3x4) entre 1 et 100:\\n\", entiers_aleatoires)"
      ],
      "metadata": {
        "colab": {
          "base_uri": "https://localhost:8080/"
        },
        "id": "KXHHPBkeqDTY",
        "outputId": "99180c1a-4b8c-4dea-ff31-d215c847b030"
      },
      "id": "KXHHPBkeqDTY",
      "execution_count": null,
      "outputs": [
        {
          "output_type": "stream",
          "name": "stdout",
          "text": [
            "\n",
            "Nombres entiers aléatoires (3x4) entre 1 et 100:\n",
            " [[ 75  75  88 100]\n",
            " [ 24   3  22  53]\n",
            " [  2  88  30  38]]\n"
          ]
        }
      ]
    },
    {
      "cell_type": "code",
      "source": [
        "# 3. Distribution normale (moyenne=0, écart-type=1 par défaut)\n",
        "loi_normale = np.random.normal(0, 1, (2, 2))  # (moyenne, écart-type, forme)\n",
        "print(\"\\nNombres suivant une loi normale (2x2):\\n\", loi_normale)"
      ],
      "metadata": {
        "colab": {
          "base_uri": "https://localhost:8080/"
        },
        "id": "4I3zNjmYqFv1",
        "outputId": "7bab1b97-49f6-4195-f253-2b7c1b4e03b3"
      },
      "id": "4I3zNjmYqFv1",
      "execution_count": null,
      "outputs": [
        {
          "output_type": "stream",
          "name": "stdout",
          "text": [
            "\n",
            "Nombres suivant une loi normale (2x2):\n",
            " [[-1.56180686  2.0017371 ]\n",
            " [-0.10539193  1.78082921]]\n"
          ]
        }
      ]
    },
    {
      "cell_type": "code",
      "source": [
        "# 4. Choix aléatoire dans un tableau\n",
        "villes = np.array(['Rabat', 'Casablanca', 'Agadir', 'Marrakech', 'Ouarzazate'])\n",
        "echantillon = np.random.choice(villes, size=3, replace=False)\n",
        "print(\"\\nÉchantillon aléatoire de villes:\\n\", echantillon)"
      ],
      "metadata": {
        "colab": {
          "base_uri": "https://localhost:8080/"
        },
        "id": "ZRcKCtH4qIyT",
        "outputId": "2972b058-c79b-4eb0-dcde-8671f0082b30"
      },
      "id": "ZRcKCtH4qIyT",
      "execution_count": null,
      "outputs": [
        {
          "output_type": "stream",
          "name": "stdout",
          "text": [
            "\n",
            "Échantillon aléatoire de villes:\n",
            " ['Marrakech' 'Casablanca' 'Agadir']\n"
          ]
        }
      ]
    },
    {
      "cell_type": "markdown",
      "source": [
        "**Applications en analyse urbaine :**\n",
        "- Simulation de données de\n",
        "population ou de trafic\n",
        "- Génération de scénarios aléatoires pour\n",
        "l’analyse de sensibilité\n",
        "- Création de jeux de données synthétiques pour\n",
        "les tests\n",
        "\n",
        "### 3.2.6 Tableaux vides : `np.empty()`"
      ],
      "metadata": {
        "id": "Zysp0EAEZeDW"
      },
      "id": "Zysp0EAEZeDW"
    },
    {
      "cell_type": "code",
      "source": [
        "# Crée un tableau non initialisé (contenu aléatoire)\n",
        "# Plus rapide que zeros() ou ones() car n'initialise pas les valeurs\n",
        "# Syntaxe : np.empty(forme, dtype=float)\n",
        "\n",
        "# Exemple 1 : Tableau vide 1D\n",
        "vide = np.empty(5)\n",
        "print(\"\\nTableau vide 1D (contenu non initialisé):\\n\", vide)"
      ],
      "metadata": {
        "colab": {
          "base_uri": "https://localhost:8080/"
        },
        "id": "CiuEY8uGZhua",
        "outputId": "bb5e8a0c-0aac-4139-e196-70098f17388a"
      },
      "id": "CiuEY8uGZhua",
      "execution_count": null,
      "outputs": [
        {
          "output_type": "stream",
          "name": "stdout",
          "text": [
            "\n",
            "Tableau vide 1D (contenu non initialisé):\n",
            " [0.0e+000 4.9e-324 9.9e-324 2.0e-323 1.5e-323]\n"
          ]
        }
      ]
    },
    {
      "cell_type": "code",
      "source": [
        "# Exemple 2 : Matrice vide 2D avec un type spécifique\n",
        "matrice_vide = np.empty((2, 3), dtype=np.int32)\n",
        "print(\"\\nMatrice vide 2x3 (entiers 32 bits):\\n\", matrice_vide)\n",
        "\n",
        "# Attention : Le contenu est non initialisé et peut contenir n'importe quelle valeur\n",
        "# Toujours remplir le tableau avant de l'utiliser !"
      ],
      "metadata": {
        "colab": {
          "base_uri": "https://localhost:8080/"
        },
        "id": "ePMV6Wt3sav5",
        "outputId": "7466c819-6bf1-4e81-e9aa-52b8d6881005"
      },
      "id": "ePMV6Wt3sav5",
      "execution_count": null,
      "outputs": [
        {
          "output_type": "stream",
          "name": "stdout",
          "text": [
            "\n",
            "Matrice vide 2x3 (entiers 32 bits):\n",
            " [[         0 1072693248          0]\n",
            " [1072693248          0 1072693248]]\n"
          ]
        }
      ]
    },
    {
      "cell_type": "markdown",
      "source": [
        "**Quand utiliser empty() ?**\n",
        "- Lorsque vous allez remplir toutes les\n",
        "valeurs du tableau de toute façon\n",
        "- Pour des raisons de performance dans\n",
        "des boucles serrées\n",
        "- Lors de la création de tableaux très grands où\n",
        "l’initialisation serait coûteuse\n",
        "\n",
        "## 3.3 Séquences et plages numériques\n",
        "\n",
        "### 3.3.1 Introduction aux séquences numériques\n",
        "\n",
        "Les séquences numériques sont fondamentales en analyse numérique et en\n",
        "simulation. NumPy propose plusieurs fonctions pour générer des séquences\n",
        "de nombres selon différents schémas.\n",
        "\n",
        "### 3.3.2 La fonction `np.arange()`\n",
        "\n",
        "Similaire à la fonction native `range()` de Python, mais retourne un\n",
        "tableau NumPy."
      ],
      "metadata": {
        "id": "rappcgLgZp2v"
      },
      "id": "rappcgLgZp2v"
    },
    {
      "cell_type": "code",
      "source": [
        "# Syntaxe générale : np.arange([début, ]fin[, pas], dtype=None)\n",
        "# - début : Valeur de départ (incluse, par défaut 0)\n",
        "# - fin : Valeur de fin (exclue)\n",
        "# - pas : Incrément entre les valeurs (par défaut 1)\n",
        "# - dtype : Type de données du tableau résultant\n",
        "\n",
        "# Exemple 1 : Séquence de base (similaire à range())\n",
        "seq_simple = np.arange(5)  # 0 à 4\n",
        "print(\"Séquence simple (0 à 4):\", seq_simple)"
      ],
      "metadata": {
        "colab": {
          "base_uri": "https://localhost:8080/"
        },
        "id": "EFzns7MwZsla",
        "outputId": "9ac03d43-315e-4f17-a3c7-08777ed8d264"
      },
      "id": "EFzns7MwZsla",
      "execution_count": null,
      "outputs": [
        {
          "output_type": "stream",
          "name": "stdout",
          "text": [
            "Séquence simple (0 à 4): [0 1 2 3 4]\n"
          ]
        }
      ]
    },
    {
      "cell_type": "code",
      "source": [
        "# Exemple 2 : Avec début et fin explicites\n",
        "seq_etendue = np.arange(2, 8)  # 2 à 7\n",
        "print(\"Séquence de 2 à 7:\", seq_etendue)"
      ],
      "metadata": {
        "colab": {
          "base_uri": "https://localhost:8080/"
        },
        "id": "edGky8TTtKMf",
        "outputId": "0cd67b96-9359-48b6-a537-6dacaaccf4e1"
      },
      "id": "edGky8TTtKMf",
      "execution_count": null,
      "outputs": [
        {
          "output_type": "stream",
          "name": "stdout",
          "text": [
            "Séquence de 2 à 7: [2 3 4 5 6 7]\n"
          ]
        }
      ]
    },
    {
      "cell_type": "code",
      "source": [
        "# Exemple 3 : Avec un pas spécifique\n",
        "seq_pas = np.arange(0, 10, 2)  # Nombres pairs de 0 à 8\n",
        "print(\"Nombres pairs de 0 à 8:\", seq_pas)"
      ],
      "metadata": {
        "colab": {
          "base_uri": "https://localhost:8080/"
        },
        "id": "u2stFrQZtMLe",
        "outputId": "be0becb3-ecc7-4033-f028-f41de410f33a"
      },
      "id": "u2stFrQZtMLe",
      "execution_count": null,
      "outputs": [
        {
          "output_type": "stream",
          "name": "stdout",
          "text": [
            "Nombres pairs de 0 à 8: [0 2 4 6 8]\n"
          ]
        }
      ]
    },
    {
      "cell_type": "code",
      "source": [
        "# Exemple 4 : Avec des nombres décimaux\n",
        "seq_decimale = np.arange(0, 1, 0.2)  # De 0 à 1 (exclu) par pas de 0.2\n",
        "print(\"Séquence décimale:\", seq_decimale)"
      ],
      "metadata": {
        "colab": {
          "base_uri": "https://localhost:8080/"
        },
        "id": "7LKunkyStOLC",
        "outputId": "a97cfb47-1140-4beb-c803-c588e75a03a4"
      },
      "id": "7LKunkyStOLC",
      "execution_count": null,
      "outputs": [
        {
          "output_type": "stream",
          "name": "stdout",
          "text": [
            "Séquence décimale: [0.  0.2 0.4 0.6 0.8]\n"
          ]
        }
      ]
    },
    {
      "cell_type": "code",
      "source": [
        "# Exemple 5 : Avec un type de données spécifique\n",
        "seq_entiers = np.arange(0, 5, dtype=np.float32)\n",
        "print(\"Séquence avec type float32:\", seq_entiers.dtype, \"\\n\", seq_entiers)"
      ],
      "metadata": {
        "colab": {
          "base_uri": "https://localhost:8080/"
        },
        "id": "enWiiXeMtQLq",
        "outputId": "43f6d00e-4380-4af9-d0ec-2deec89d713e"
      },
      "id": "enWiiXeMtQLq",
      "execution_count": null,
      "outputs": [
        {
          "output_type": "stream",
          "name": "stdout",
          "text": [
            "Séquence avec type float32: float32 \n",
            " [0. 1. 2. 3. 4.]\n"
          ]
        }
      ]
    },
    {
      "cell_type": "markdown",
      "source": [
        "**Applications en urbanisme :**\n",
        "- Création de grilles de coordonnées\n",
        "pour la modélisation urbaine\n",
        "- Génération d’intervalles de temps pour\n",
        "les séries temporelles (trafic, pollution, etc.)\n",
        "- Définition de plages\n",
        "de valeurs pour les paramètres de simulation\n",
        "- Création d’échelles pour\n",
        "les calculs d’intervalles de confiance\n",
        "\n",
        "**Points d’attention :**\n",
        "- Le comportement avec des nombres à virgule\n",
        "flottante peut parfois être imprévisible en raison des erreurs\n",
        "d’arrondi\n",
        "- Pour des séquences avec un nombre spécifique de points,\n",
        "préférez `linspace`\n",
        "- Utilisez `dtype` pour contrôler la précision des\n",
        "calculs\n",
        "\n",
        "### 3.3.3 La fonction `np.linspace()`\n",
        "\n",
        "Contrairement à `arange` qui utilise un pas fixe, `linspace` génère un\n",
        "nombre spécifique de points équidistants entre deux valeurs, en incluant\n",
        "les deux extrémités."
      ],
      "metadata": {
        "id": "H8fiYuTVZwpd"
      },
      "id": "H8fiYuTVZwpd"
    },
    {
      "cell_type": "code",
      "source": [
        "# Syntaxe : np.linspace(début, fin, num=50, endpoint=True, retstep=False, dtype=None, axis=0)\n",
        "# - début : Valeur de départ\n",
        "# - fin : Valeur de fin (incluse si endpoint=True)\n",
        "# - num : Nombre d'échantillons à générer (par défaut 50)\n",
        "# - endpoint : Si True (défaut), fin est incluse dans la séquence\n",
        "# - retstep : Si True, retourne également l'incrément entre les valeurs\n",
        "\n",
        "# Exemple 1 : Séquence de base\n",
        "seq_lin = np.linspace(0, 10, 5)  # 5 points entre 0 et 10 (inclus)\n",
        "print(\"5 points entre 0 et 10:\", seq_lin)"
      ],
      "metadata": {
        "colab": {
          "base_uri": "https://localhost:8080/"
        },
        "id": "6TnnvCy-Z3C2",
        "outputId": "c96dd45d-c0c2-4427-f925-0b666e510f89"
      },
      "id": "6TnnvCy-Z3C2",
      "execution_count": null,
      "outputs": [
        {
          "output_type": "stream",
          "name": "stdout",
          "text": [
            "5 points entre 0 et 10: [ 0.   2.5  5.   7.5 10. ]\n"
          ]
        }
      ]
    },
    {
      "cell_type": "code",
      "source": [
        "# Exemple 2 : Sans inclure la fin\n",
        "seq_sans_fin = np.linspace(0, 10, 5, endpoint=False)\n",
        "print(\"5 points entre 0 et 10 (fin exclue):\", seq_sans_fin)"
      ],
      "metadata": {
        "colab": {
          "base_uri": "https://localhost:8080/"
        },
        "id": "IBIdlxIJt0F7",
        "outputId": "1a3c4a4f-c1d6-4e9f-c2bf-af8887df7a86"
      },
      "id": "IBIdlxIJt0F7",
      "execution_count": null,
      "outputs": [
        {
          "output_type": "stream",
          "name": "stdout",
          "text": [
            "5 points entre 0 et 10 (fin exclue): [0. 2. 4. 6. 8.]\n"
          ]
        }
      ]
    },
    {
      "cell_type": "code",
      "source": [
        "# Exemple 3 : Récupérer l'incrément entre les valeurs\n",
        "seq_inc, pas = np.linspace(0, 10, 5, retstep=True)\n",
        "print(f\"Séquence: {seq_inc}, Pas: {pas}\")"
      ],
      "metadata": {
        "colab": {
          "base_uri": "https://localhost:8080/"
        },
        "id": "vX71XsCBt2Ju",
        "outputId": "e5861608-3549-4d35-ab76-897c1c59ef7d"
      },
      "id": "vX71XsCBt2Ju",
      "execution_count": null,
      "outputs": [
        {
          "output_type": "stream",
          "name": "stdout",
          "text": [
            "Séquence: [ 0.   2.5  5.   7.5 10. ], Pas: 2.5\n"
          ]
        }
      ]
    },
    {
      "cell_type": "code",
      "source": [
        "# Exemple 4 : Avec des types de données spécifiques\n",
        "seq_entiers = np.linspace(0, 10, 6, dtype=np.int32)\n",
        "print(\"Séquence d'entiers:\", seq_entiers)"
      ],
      "metadata": {
        "colab": {
          "base_uri": "https://localhost:8080/"
        },
        "id": "dq3gQIpit4ON",
        "outputId": "9ba98c47-81fd-45a0-e9bf-fd9d568d93dc"
      },
      "id": "dq3gQIpit4ON",
      "execution_count": null,
      "outputs": [
        {
          "output_type": "stream",
          "name": "stdout",
          "text": [
            "Séquence d'entiers: [ 0  2  4  6  8 10]\n"
          ]
        }
      ]
    },
    {
      "cell_type": "markdown",
      "source": [
        "**Applications en urbanisme :**\n",
        "- Création d’échelles pour les\n",
        "graphiques et les visualisations\n",
        "- Discrétisation d’intervalles continus\n",
        "pour l’analyse numérique\n",
        "- Génération de points d’échantillonnage pour\n",
        "les mesures environnementales\n",
        "- Définition de seuils et de plages pour\n",
        "l’analyse de données géospatiales\n",
        "\n",
        "**Comparaison arange vs linspace :**\n",
        "\n",
        "| Caractéristique     | `arange`                         | `linspace`                               |\n",
        "|-------------------|---------------------------|---------------------------|\n",
        "| Contrôle            | Pas entre les valeurs            | Nombre total de points                   |\n",
        "| Inclusion de la fin | Non (comme range)                | Oui (par défaut)                         |\n",
        "| Précision numérique | Peut avoir des erreurs d’arrondi | Plus précis pour les points équidistants |\n",
        "| Utilisation typique | Quand le pas est connu           | Quand le nombre de points est connu      |\n",
        "\n",
        "### 3.3.4 Autres fonctions de séquence utiles\n",
        "\n",
        "#### `np.logspace()`\n",
        "\n",
        "Génère des nombres uniformément répartis sur une échelle logarithmique."
      ],
      "metadata": {
        "id": "epmvbTwfZ7Di"
      },
      "id": "epmvbTwfZ7Di"
    },
    {
      "cell_type": "code",
      "source": [
        "# Syntaxe : np.logspace(début, fin, num=50, endpoint=True, base=10.0, dtype=None, axis=0)\n",
        "\n",
        "# Exemple : 5 points entre 10^1 et 10^3 (échelle logarithmique en base 10)\n",
        "log_seq = np.logspace(1, 3, 5)\n",
        "print(\"\\nSéquence logarithmique (base 10):\", log_seq)\n",
        "\n",
        "# Application : Échelles de fréquence pour l'analyse des vibrations dans les bâtiments"
      ],
      "metadata": {
        "colab": {
          "base_uri": "https://localhost:8080/"
        },
        "id": "V8legvzOaCYy",
        "outputId": "61688861-9bf9-41b3-e481-82930f35948f"
      },
      "id": "V8legvzOaCYy",
      "execution_count": null,
      "outputs": [
        {
          "output_type": "stream",
          "name": "stdout",
          "text": [
            "\n",
            "Séquence logarithmique (base 10): [  10.           31.6227766   100.          316.22776602 1000.        ]\n"
          ]
        }
      ]
    },
    {
      "cell_type": "markdown",
      "source": [
        "#### `np.geomspace()`\n",
        "\n",
        "Similaire à `logspace` mais spécifie directement les limites plutôt que\n",
        "les exposants."
      ],
      "metadata": {
        "id": "TH5H-ef8aGda"
      },
      "id": "TH5H-ef8aGda"
    },
    {
      "cell_type": "code",
      "source": [
        "# Syntaxe : np.geomspace(début, fin, num=50, endpoint=True, dtype=None, axis=0)\n",
        "\n",
        "# Exemple : 5 points entre 1 et 1000 sur une échelle géométrique\n",
        "geom_seq = np.geomspace(1, 1000, 5)\n",
        "print(\"Séquence géométrique:\", geom_seq)\n",
        "\n",
        "# Application : Échelles pour les analyses de distribution des tailles de parcelles"
      ],
      "metadata": {
        "colab": {
          "base_uri": "https://localhost:8080/"
        },
        "id": "4ZWfn5PJaJgk",
        "outputId": "73560827-081b-46c0-c30a-dcf2e685b214"
      },
      "id": "4ZWfn5PJaJgk",
      "execution_count": null,
      "outputs": [
        {
          "output_type": "stream",
          "name": "stdout",
          "text": [
            "Séquence géométrique: [   1.            5.62341325   31.6227766   177.827941   1000.        ]\n"
          ]
        }
      ]
    },
    {
      "cell_type": "markdown",
      "source": [
        "### 3.3.5 Exercices pratiques\n",
        "\n",
        "1.  **Exercice 1** : Créez une séquence de températures en degrés\n",
        "    Celsius de 0°C à 100°C par pas de 10°C, puis convertissez-la en\n",
        "    degrés Fahrenheit (F = C \\* 9/5 + 32).\n",
        "\n",
        "2.  **Exercice 2** : Générez 20 points équidistants entre 0 et π\n",
        "    (utilisez `np.pi`), puis calculez le sinus de chaque point.\n",
        "\n",
        "3.  **Exercice 3** : Créez une échelle logarithmique de fréquences de\n",
        "    100 Hz à 10 kHz avec 6 points par décade.\n",
        "\n",
        "4.  **Exercice 4** : Comparez les résultats de `np.arange(0, 1.1, 0.1)`\n",
        "    et `np.linspace(0, 1, 11)`. Quelles différences observez-vous ?"
      ],
      "metadata": {
        "id": "5V-lhbIHvj2l"
      },
      "id": "5V-lhbIHvj2l"
    },
    {
      "cell_type": "code",
      "source": [
        "import numpy as np\n",
        "\n",
        "# 1. Exercice 1 : Températures Celsius -> Fahrenheit\n",
        "celsius = np.arange(0, 101, 10)\n",
        "fahrenheit = celsius * 9 / 5 + 32\n",
        "print(\"Températures en °C :\\n\", celsius)\n",
        "print(\"Températures en °F :\\n\", fahrenheit)"
      ],
      "metadata": {
        "colab": {
          "base_uri": "https://localhost:8080/"
        },
        "id": "HWibXV1zvltQ",
        "outputId": "72917329-7af9-43ba-ae2a-ecbf7c8835f1"
      },
      "id": "HWibXV1zvltQ",
      "execution_count": null,
      "outputs": [
        {
          "output_type": "stream",
          "name": "stdout",
          "text": [
            "Températures en °C :\n",
            " [  0  10  20  30  40  50  60  70  80  90 100]\n",
            "Températures en °F :\n",
            " [ 32.  50.  68.  86. 104. 122. 140. 158. 176. 194. 212.]\n"
          ]
        }
      ]
    },
    {
      "cell_type": "code",
      "source": [
        "# 2. Exercice 2 : Points entre 0 et π, calcul du sinus\n",
        "points = np.linspace(0, np.pi, 20)\n",
        "sinus = np.sin(points)\n",
        "print(\"\\nPoints entre 0 et π :\\n\", points)\n",
        "print(\"Sinus des points :\\n\", sinus)"
      ],
      "metadata": {
        "colab": {
          "base_uri": "https://localhost:8080/"
        },
        "id": "C30Ur-PUv8Lw",
        "outputId": "e2ef20fe-e6b4-490a-a5e7-5ca6685c6b36"
      },
      "id": "C30Ur-PUv8Lw",
      "execution_count": null,
      "outputs": [
        {
          "output_type": "stream",
          "name": "stdout",
          "text": [
            "\n",
            "Points entre 0 et π :\n",
            " [0.         0.16534698 0.33069396 0.49604095 0.66138793 0.82673491\n",
            " 0.99208189 1.15742887 1.32277585 1.48812284 1.65346982 1.8188168\n",
            " 1.98416378 2.14951076 2.31485774 2.48020473 2.64555171 2.81089869\n",
            " 2.97624567 3.14159265]\n",
            "Sinus des points :\n",
            " [0.00000000e+00 1.64594590e-01 3.24699469e-01 4.75947393e-01\n",
            " 6.14212713e-01 7.35723911e-01 8.37166478e-01 9.15773327e-01\n",
            " 9.69400266e-01 9.96584493e-01 9.96584493e-01 9.69400266e-01\n",
            " 9.15773327e-01 8.37166478e-01 7.35723911e-01 6.14212713e-01\n",
            " 4.75947393e-01 3.24699469e-01 1.64594590e-01 1.22464680e-16]\n"
          ]
        }
      ]
    },
    {
      "cell_type": "code",
      "source": [
        "# 3. Exercice 3 : Échelle logarithmique de 100 Hz à 10 kHz\n",
        "log_freq = np.logspace(np.log10(100), np.log10(10000), num=13)  # 6 points par décade → 2 décades → 6*2+1 = 13\n",
        "print(\"\\nFréquences log-spaced (Hz) :\\n\", log_freq)"
      ],
      "metadata": {
        "colab": {
          "base_uri": "https://localhost:8080/"
        },
        "id": "JMmfH72zv-kQ",
        "outputId": "e7b8668d-7c48-4dc6-e504-99929ef39217"
      },
      "id": "JMmfH72zv-kQ",
      "execution_count": null,
      "outputs": [
        {
          "output_type": "stream",
          "name": "stdout",
          "text": [
            "\n",
            "Fréquences log-spaced (Hz) :\n",
            " [  100.           146.77992676   215.443469     316.22776602\n",
            "   464.15888336   681.29206906  1000.          1467.79926762\n",
            "  2154.43469003  3162.27766017  4641.58883361  6812.92069058\n",
            " 10000.        ]\n"
          ]
        }
      ]
    },
    {
      "cell_type": "code",
      "source": [
        "# 4. Exercice 4 : Comparaison arange vs linspace\n",
        "a = np.arange(0, 1.1, 0.1)\n",
        "b = np.linspace(0, 1, 11)\n",
        "\n",
        "print(\"\\nnp.arange(0, 1.1, 0.1) :\", a)\n",
        "print(\"np.linspace(0, 1, 11)  :\", b)"
      ],
      "metadata": {
        "colab": {
          "base_uri": "https://localhost:8080/"
        },
        "id": "VATYjZ84wBYA",
        "outputId": "cd1760a7-e9a1-403a-b5cc-3290ef698344"
      },
      "id": "VATYjZ84wBYA",
      "execution_count": null,
      "outputs": [
        {
          "output_type": "stream",
          "name": "stdout",
          "text": [
            "\n",
            "np.arange(0, 1.1, 0.1) : [0.  0.1 0.2 0.3 0.4 0.5 0.6 0.7 0.8 0.9 1. ]\n",
            "np.linspace(0, 1, 11)  : [0.  0.1 0.2 0.3 0.4 0.5 0.6 0.7 0.8 0.9 1. ]\n"
          ]
        }
      ]
    },
    {
      "cell_type": "code",
      "source": [
        "# Vérifions s'ils sont identiques\n",
        "print(\"Égalité exacte :\", np.array_equal(a, b))\n",
        "print(\"Différence (petite erreur possible) :\", np.setdiff1d(a, b))"
      ],
      "metadata": {
        "colab": {
          "base_uri": "https://localhost:8080/"
        },
        "id": "i__xkpF2wGv6",
        "outputId": "528705a1-3feb-46f3-a76a-c950258d92c6"
      },
      "id": "i__xkpF2wGv6",
      "execution_count": null,
      "outputs": [
        {
          "output_type": "stream",
          "name": "stdout",
          "text": [
            "Égalité exacte : True\n",
            "Différence (petite erreur possible) : []\n"
          ]
        }
      ]
    },
    {
      "cell_type": "markdown",
      "source": [
        "\n",
        "## 3.4 Grilles 2D et 3D\n",
        "\n",
        "### 3.4.1 Introduction aux grilles de coordonnées\n",
        "\n",
        "Les grilles de coordonnées sont essentielles pour de nombreuses\n",
        "applications scientifiques et techniques, notamment en urbanisme pour la\n",
        "modélisation de surfaces, l’analyse spatiale et la visualisation de\n",
        "données géographiques.\n",
        "\n",
        "### 3.4.2 La fonction `np.meshgrid()`\n",
        "\n",
        "`meshgrid` crée des grilles de coordonnées à partir de vecteurs 1D,\n",
        "permettant d’évaluer des fonctions sur une grille 2D ou 3D."
      ],
      "metadata": {
        "id": "-N13LVxqaOYu"
      },
      "id": "-N13LVxqaOYu"
    },
    {
      "cell_type": "code",
      "source": [
        "# Syntaxe générale :\n",
        "# np.meshgrid(*xi, copy=True, sparse=False, indexing='xy')\n",
        "# - *xi : séquences 1D représentant les coordonnées des points de grille\n",
        "# - indexing : 'xy' (défaut) ou 'ij' pour l'ordre des axes\n",
        "# - sparse : si True, retourne des grilles éparses (utiles pour les grandes grilles)\n",
        "# - copy : si False, retourne des vues des tableaux d'origine\n",
        "\n",
        "# Exemple 1 : Grille 2D de base\n",
        "# Création de deux vecteurs 1D\n",
        "x = np.linspace(0, 5, 3)  # 3 points entre 0 et 5\n",
        "y = np.linspace(0, 5, 4)  # 4 points entre 0 et 5\n",
        "\n",
        "# Création de la grille 2D (indexing='xy' par défaut)\n",
        "X, Y = np.meshgrid(x, y)\n",
        "\n",
        "print(\"Vecteur x:\", x)\n",
        "print(\"Vecteur y:\", y)\n",
        "print(\"\\nGrille X (coordonnées x répétées):\\n\", X)\n",
        "print(\"\\nGrille Y (coordonnées y répétées):\\n\", Y)\n",
        "\n",
        "# Format de sortie avec indexing='xy' (défaut) :\n",
        "# X = [[0.  2.5 5. ]\n",
        "#      [0.  2.5 5. ]\n",
        "#      [0.  2.5 5. ]\n",
        "#      [0.  2.5 5. ]]\n",
        "# Y = [[0.  0.  0. ]\n",
        "#      [1.7 1.7 1.7]\n",
        "#      [3.3 3.3 3.3]\n",
        "#      [5.  5.  5. ]]"
      ],
      "metadata": {
        "colab": {
          "base_uri": "https://localhost:8080/"
        },
        "id": "ly2XqBGqaTEj",
        "outputId": "98842c1f-d1f5-4995-a05d-76b3c2469cfc"
      },
      "id": "ly2XqBGqaTEj",
      "execution_count": null,
      "outputs": [
        {
          "output_type": "stream",
          "name": "stdout",
          "text": [
            "Vecteur x: [0.  2.5 5. ]\n",
            "Vecteur y: [0.         1.66666667 3.33333333 5.        ]\n",
            "\n",
            "Grille X (coordonnées x répétées):\n",
            " [[0.  2.5 5. ]\n",
            " [0.  2.5 5. ]\n",
            " [0.  2.5 5. ]\n",
            " [0.  2.5 5. ]]\n",
            "\n",
            "Grille Y (coordonnées y répétées):\n",
            " [[0.         0.         0.        ]\n",
            " [1.66666667 1.66666667 1.66666667]\n",
            " [3.33333333 3.33333333 3.33333333]\n",
            " [5.         5.         5.        ]]\n"
          ]
        }
      ]
    },
    {
      "cell_type": "code",
      "source": [
        "# Exemple 2 : Indexation alternative (indexing='ij')\n",
        "X_ij, Y_ij = np.meshgrid(x, y, indexing='ij')\n",
        "print(\"\\nAvec indexing='ij':\")\n",
        "print(\"X_ij:\\n\", X_ij)\n",
        "print(\"Y_ij:\\n\", Y_ij)\n"
      ],
      "metadata": {
        "colab": {
          "base_uri": "https://localhost:8080/"
        },
        "id": "mlFBR-iIwp0p",
        "outputId": "8f82cbf3-8f84-4d6f-9069-adb6f6492f0b"
      },
      "id": "mlFBR-iIwp0p",
      "execution_count": null,
      "outputs": [
        {
          "output_type": "stream",
          "name": "stdout",
          "text": [
            "\n",
            "Avec indexing='ij':\n",
            "X_ij:\n",
            " [[0.  0.  0.  0. ]\n",
            " [2.5 2.5 2.5 2.5]\n",
            " [5.  5.  5.  5. ]]\n",
            "Y_ij:\n",
            " [[0.         1.66666667 3.33333333 5.        ]\n",
            " [0.         1.66666667 3.33333333 5.        ]\n",
            " [0.         1.66666667 3.33333333 5.        ]]\n"
          ]
        }
      ]
    },
    {
      "cell_type": "code",
      "source": [
        "\n",
        "# Exemple 3 : Grille éparse (utile pour les grandes grilles)\n",
        "X_sparse, Y_sparse = np.meshgrid(x, y, sparse=True)\n",
        "print(\"\\nGrille éparse X:\", X_sparse.shape)\n",
        "print(\"Grille éparse Y:\", Y_sparse.shape)"
      ],
      "metadata": {
        "colab": {
          "base_uri": "https://localhost:8080/"
        },
        "id": "Do6TpaRiwtE4",
        "outputId": "00f03fd2-9ba6-4702-f7d6-49e87983e28f"
      },
      "id": "Do6TpaRiwtE4",
      "execution_count": null,
      "outputs": [
        {
          "output_type": "stream",
          "name": "stdout",
          "text": [
            "\n",
            "Grille éparse X: (1, 3)\n",
            "Grille éparse Y: (4, 1)\n"
          ]
        }
      ]
    },
    {
      "cell_type": "markdown",
      "source": [
        "### 3.4.3 Applications pratiques avec `meshgrid`\n",
        "\n",
        "#### Calcul de fonctions sur une grille"
      ],
      "metadata": {
        "id": "aGaYWWpraStY"
      },
      "id": "aGaYWWpraStY"
    },
    {
      "cell_type": "code",
      "source": [
        "# Exemple : Calcul de la distance à l'origine pour chaque point de la grille\n",
        "# Utilisation de la grille précédente (X, Y)\n",
        "distances = np.sqrt(X**2 + Y**2)\n",
        "print(\"\\nDistance à l'origine pour chaque point de la grille:\")\n",
        "print(np.round(distances, 2))"
      ],
      "metadata": {
        "colab": {
          "base_uri": "https://localhost:8080/"
        },
        "id": "q0-Huz2kaZjM",
        "outputId": "41c462bb-6551-452b-d88c-b8d0f2f59a44"
      },
      "id": "q0-Huz2kaZjM",
      "execution_count": null,
      "outputs": [
        {
          "output_type": "stream",
          "name": "stdout",
          "text": [
            "\n",
            "Distance à l'origine pour chaque point de la grille:\n",
            "[[0.   2.5  5.  ]\n",
            " [1.67 3.   5.27]\n",
            " [3.33 4.17 6.01]\n",
            " [5.   5.59 7.07]]\n"
          ]
        }
      ]
    },
    {
      "cell_type": "code",
      "source": [
        "# Visualisation des coordonnées des points de la grille\n",
        "print(\"\\nCoordonnées des points (x, y, distance):\")\n",
        "for i in range(len(y)):\n",
        "    for j in range(len(x)):\n",
        "        print(f\"({X[i,j]:.1f}, {Y[i,j]:.1f}): {distances[i,j]:.2f}\", end=\" | \")\n",
        "    print()"
      ],
      "metadata": {
        "colab": {
          "base_uri": "https://localhost:8080/"
        },
        "id": "r8vk37v2w6xN",
        "outputId": "c473910b-dc26-4952-fe2a-0a4b020147cc"
      },
      "id": "r8vk37v2w6xN",
      "execution_count": null,
      "outputs": [
        {
          "output_type": "stream",
          "name": "stdout",
          "text": [
            "\n",
            "Coordonnées des points (x, y, distance):\n",
            "(0.0, 0.0): 0.00 | (2.5, 0.0): 2.50 | (5.0, 0.0): 5.00 | \n",
            "(0.0, 1.7): 1.67 | (2.5, 1.7): 3.00 | (5.0, 1.7): 5.27 | \n",
            "(0.0, 3.3): 3.33 | (2.5, 3.3): 4.17 | (5.0, 3.3): 6.01 | \n",
            "(0.0, 5.0): 5.00 | (2.5, 5.0): 5.59 | (5.0, 5.0): 7.07 | \n"
          ]
        }
      ]
    },
    {
      "cell_type": "markdown",
      "source": [
        "#### Visualisation 3D d’une surface"
      ],
      "metadata": {
        "id": "qgBeLjcmaccQ"
      },
      "id": "qgBeLjcmaccQ"
    },
    {
      "cell_type": "code",
      "source": [
        "import matplotlib.pyplot as plt\n",
        "from mpl_toolkits.mplot3d import Axes3D\n",
        "\n",
        "# Création d'une grille plus fine pour une meilleure visualisation\n",
        "x = np.linspace(-5, 5, 50)\n",
        "y = np.linspace(-5, 5, 50)\n",
        "X, Y = np.meshgrid(x, y)\n",
        "\n",
        "# Calcul d'une fonction sur la grille (par exemple, une selle de cheval)\n",
        "Z = X**2 - Y**2\n",
        "\n",
        "# Tracé de la surface 3D\n",
        "fig = plt.figure(figsize=(10, 8))\n",
        "ax = fig.add_subplot(111, projection='3d')\n",
        "surf = ax.plot_surface(X, Y, Z, cmap='viridis', edgecolor='none')\n",
        "ax.set_xlabel('Axe X')\n",
        "ax.set_ylabel('Axe Y')\n",
        "ax.set_zlabel('Valeur')\n",
        "ax.set_title('Surface 3D d\\'une fonction sur une grille')\n",
        "fig.colorbar(surf, shrink=0.5, aspect=5)\n",
        "plt.tight_layout()\n",
        "plt.show()"
      ],
      "metadata": {
        "colab": {
          "base_uri": "https://localhost:8080/",
          "height": 807
        },
        "id": "J91S1aILaiFx",
        "outputId": "11fef5d4-9f63-4246-f36a-fc2b90d45011"
      },
      "id": "J91S1aILaiFx",
      "execution_count": null,
      "outputs": [
        {
          "output_type": "display_data",
          "data": {
            "text/plain": [
              "<Figure size 1000x800 with 2 Axes>"
            ],
            "image/png": "[encoded data removed]"
          },
          "metadata": {}
        }
      ]
    },
    {
      "cell_type": "markdown",
      "source": [
        "### 3.4.4 Grilles 3D avec `np.mgrid` et `np.ogrid`\n",
        "\n",
        "Pour les applications en 3D, NumPy fournit des outils pratiques pour\n",
        "créer des grilles multidimensionnelles.\n"
      ],
      "metadata": {
        "id": "mlqWE_pzak65"
      },
      "id": "mlqWE_pzak65"
    },
    {
      "cell_type": "code",
      "source": [
        "# Création d'une grille 3D avec np.mgrid (grille dense)\n",
        "# La syntaxe [début:fin:pasj] est équivalente à np.linspace(début, fin, pas)\n",
        "x, y, z = np.mgrid[0:5:2, 0:5:3, 0:5:4]  # Grille 3D 3x4x5\n",
        "print(\"\\nForme de la grille 3D:\", x.shape, y.shape, z.shape)"
      ],
      "metadata": {
        "colab": {
          "base_uri": "https://localhost:8080/"
        },
        "id": "laQE6vfRan9d",
        "outputId": "f5359a90-f055-48b7-f865-22c1f4637ec2"
      },
      "id": "laQE6vfRan9d",
      "execution_count": null,
      "outputs": [
        {
          "output_type": "stream",
          "name": "stdout",
          "text": [
            "\n",
            "Forme de la grille 3D: (3, 2, 2) (3, 2, 2) (3, 2, 2)\n"
          ]
        }
      ]
    },
    {
      "cell_type": "code",
      "source": [
        "# Pour des grilles plus grandes, utiliser np.ogrid (grille éparse)\n",
        "x_sparse, y_sparse, z_sparse = np.ogrid[0:5:20j, 0:5:30j, 0:5:40j]  # 20x30x40 points\n",
        "print(\"Forme de la grille éparse 3D:\", x_sparse.shape, y_sparse.shape, z_sparse.shape)"
      ],
      "metadata": {
        "colab": {
          "base_uri": "https://localhost:8080/"
        },
        "id": "RC-Q3Aay0_yV",
        "outputId": "c2030748-3493-48d1-c976-c1bf02e8da3c"
      },
      "id": "RC-Q3Aay0_yV",
      "execution_count": null,
      "outputs": [
        {
          "output_type": "stream",
          "name": "stdout",
          "text": [
            "Forme de la grille éparse 3D: (20, 1, 1) (1, 30, 1) (1, 1, 40)\n"
          ]
        }
      ]
    },
    {
      "cell_type": "code",
      "source": [
        "# Conversion en grille dense si nécessaire\n",
        "X, Y, Z = np.broadcast_arrays(x_sparse, y_sparse, z_sparse)\n",
        "print(\"Forme après conversion en grille dense:\", X.shape, Y.shape, Z.shape)"
      ],
      "metadata": {
        "colab": {
          "base_uri": "https://localhost:8080/"
        },
        "id": "onzJANbS1CDx",
        "outputId": "899cf0d0-e9a7-4ef8-80b3-83aaae7aba46"
      },
      "id": "onzJANbS1CDx",
      "execution_count": null,
      "outputs": [
        {
          "output_type": "stream",
          "name": "stdout",
          "text": [
            "Forme après conversion en grille dense: (20, 30, 40) (20, 30, 40) (20, 30, 40)\n"
          ]
        }
      ]
    },
    {
      "cell_type": "markdown",
      "source": [
        "### 3.4.5 Applications en urbanisme\n",
        "\n",
        "Les grilles de coordonnées sont particulièrement utiles pour :\n",
        "\n",
        "1.  **Modélisation de surfaces** :\n",
        "    -   Modélisation du relief et du terrain\n",
        "    -   Cartographie des niveaux de pollution atmosphérique\n",
        "    -   Analyse des îlots de chaleur urbains\n",
        "2.  **Analyse spatiale** :\n",
        "    -   Calcul des zones d’influence (buffers)\n",
        "    -   Interpolation de données spatiales\n",
        "    -   Analyse de visibilité et d’ensoleillement\n",
        "3.  **Simulations** :\n",
        "    -   Propagation de la pollution sonore\n",
        "    -   Modélisation des écoulements d’eau\n",
        "    -   Simulation de la dispersion des polluants\n",
        "4.  **Visualisation** :\n",
        "    -   Création de cartes de densité\n",
        "    -   Représentation 3D des données urbaines\n",
        "    -   Cartographie thématique\n",
        "\n",
        "### 3.4.6 Bonnes pratiques et performances\n",
        "\n",
        "1.  **Gestion de la mémoire** :\n",
        "    -   Utilisez `sparse=True` ou `ogrid` pour les grandes grilles\n",
        "    -   Supprimez les tableaux temporaires quand ils ne sont plus\n",
        "        nécessaires\n",
        "    -   Utilisez des types de données appropriés (par exemple, `float32`\n",
        "        au lieu de `float64` si la précision le permet)\n",
        "2.  **Optimisation des calculs** :\n",
        "    -   Vectorisez les opérations sur les grilles\n",
        "    -   Utilisez le broadcasting plutôt que les boucles\n",
        "    -   Profitez des opérations universelles de NumPy\n",
        "3.  **Visualisation efficace** :\n",
        "    -   Pour les grandes grilles, envisagez un sous-échantillonnage pour\n",
        "        la visualisation\n",
        "    -   Utilisez des cartes de couleurs appropriées pour le type de\n",
        "        données\n",
        "    -   Ajoutez des barres de couleur et des légendes pour améliorer la\n",
        "        lisibilité\n",
        "\n",
        "\n",
        "\n",
        "\n"
      ],
      "metadata": {
        "id": "fH8DfoDAaszL"
      },
      "id": "fH8DfoDAaszL"
    },
    {
      "cell_type": "markdown",
      "source": [
        "### 3.3 Tableaux vides et non initialisés"
      ],
      "metadata": {
        "id": "plX1swWgxRUY"
      },
      "id": "plX1swWgxRUY"
    },
    {
      "cell_type": "code",
      "source": [
        "# np.empty(forme) : Crée un tableau sans initialiser ses valeurs\n",
        "# Plus rapide que zeros() mais contient des valeurs aléatoires (déchets mémoire)\n",
        "tableau_vide = np.empty((2, 3))\n",
        "print(\"\\nTableau non initialisé (contenu aléatoire):\\n\", tableau_vide)\n",
        "\n",
        "# Utilisation typique :\n",
        "# 1. Créer un tableau vide\n",
        "resultats = np.empty(100)\n",
        "# 2. Remplir les valeurs plus tard (par exemple dans une boucle)\n",
        "for i in range(100):\n",
        "    resultats[i] = i**2  # Calcul coûteux"
      ],
      "metadata": {
        "colab": {
          "base_uri": "https://localhost:8080/"
        },
        "id": "fAvPUY5lawNB",
        "outputId": "d8001f4c-df35-49d1-b97d-b793ffa3b794"
      },
      "id": "fAvPUY5lawNB",
      "execution_count": null,
      "outputs": [
        {
          "output_type": "stream",
          "name": "stdout",
          "text": [
            "\n",
            "Tableau non initialisé (contenu aléatoire):\n",
            " [[0.0e+000 4.9e-324 9.9e-324]\n",
            " [1.5e-323 2.0e-323 2.5e-323]]\n"
          ]
        }
      ]
    },
    {
      "cell_type": "markdown",
      "source": [
        "\n",
        "## 4. Indexation et découpage\n",
        "\n",
        "### Indexation de base\n",
        "L’indexation dans NumPy permet d’accéder et de modifier des éléments\n",
        "spécifiques d’un tableau. Pour les tableaux multidimensionnels, on\n",
        "utilise des indices séparés par des virgules."
      ],
      "metadata": {
        "id": "iFKlOSk2ay2Q"
      },
      "id": "iFKlOSk2ay2Q"
    },
    {
      "cell_type": "code",
      "source": [
        "arr = np.array([1, 2, 3, 4, 5])\n",
        "print(\"Premier élément:\", arr[0])\n",
        "print(\"Dernier élément:\", arr[-1])"
      ],
      "metadata": {
        "colab": {
          "base_uri": "https://localhost:8080/"
        },
        "id": "eLfnosURa1iV",
        "outputId": "255383fb-26c1-428e-b702-e430ae246bf3"
      },
      "id": "eLfnosURa1iV",
      "execution_count": null,
      "outputs": [
        {
          "output_type": "stream",
          "name": "stdout",
          "text": [
            "Premier élément: 1\n",
            "Dernier élément: 5\n"
          ]
        }
      ]
    },
    {
      "cell_type": "code",
      "source": [
        "# Pour les tableaux multidimensionnels\n",
        "matrice = np.array([[1, 2, 3], [4, 5, 6], [7, 8, 9]])\n",
        "matrice"
      ],
      "metadata": {
        "colab": {
          "base_uri": "https://localhost:8080/"
        },
        "id": "j5Y1b-eTLxwc",
        "outputId": "d22852db-a691-48e8-824f-118636a0e68b"
      },
      "id": "j5Y1b-eTLxwc",
      "execution_count": null,
      "outputs": [
        {
          "output_type": "execute_result",
          "data": {
            "text/plain": [
              "array([[1, 2, 3],\n",
              "       [4, 5, 6],\n",
              "       [7, 8, 9]])"
            ]
          },
          "metadata": {},
          "execution_count": 155
        }
      ]
    },
    {
      "cell_type": "code",
      "source": [
        "print(\"\\nÉlément (1,2):\", matrice[1, 2])"
      ],
      "metadata": {
        "colab": {
          "base_uri": "https://localhost:8080/"
        },
        "id": "JADqWKutMA-t",
        "outputId": "7e7b26ff-574a-42a2-b4a6-8ebad5eb5cc5"
      },
      "id": "JADqWKutMA-t",
      "execution_count": null,
      "outputs": [
        {
          "output_type": "stream",
          "name": "stdout",
          "text": [
            "\n",
            "Élément (1,2): 6\n"
          ]
        }
      ]
    },
    {
      "cell_type": "markdown",
      "source": [
        "\n",
        "### Découpage (slicing)"
      ],
      "metadata": {
        "id": "-zBlfyJHa4PU"
      },
      "id": "-zBlfyJHa4PU"
    },
    {
      "cell_type": "code",
      "source": [
        "# Découpage 1D\n",
        "print(\"Éléments 1 à 3:\", arr[1:4])\n",
        "print(\"Un élément sur deux:\", arr[::2])\n"
      ],
      "metadata": {
        "colab": {
          "base_uri": "https://localhost:8080/"
        },
        "id": "wcgmUEtka6U8",
        "outputId": "fed8fc07-e003-4730-f806-0da4d93fc3b2"
      },
      "id": "wcgmUEtka6U8",
      "execution_count": null,
      "outputs": [
        {
          "output_type": "stream",
          "name": "stdout",
          "text": [
            "Éléments 1 à 3: [2 3 4]\n",
            "Un élément sur deux: [1 3 5]\n"
          ]
        }
      ]
    },
    {
      "cell_type": "code",
      "source": [
        "# Découpage 2D\n",
        "print(\"\\nPremière ligne:\", matrice[0, :])\n",
        "print(\"Dernière colonne:\", matrice[:, -1])\n",
        "print(\"Sous-matrice 2x2 en haut à gauche:\\n\", matrice[:2, :2])"
      ],
      "metadata": {
        "colab": {
          "base_uri": "https://localhost:8080/"
        },
        "id": "nwJ_U3tgL4Df",
        "outputId": "69acccd5-2dd6-4906-9f82-505993e0b28c"
      },
      "id": "nwJ_U3tgL4Df",
      "execution_count": null,
      "outputs": [
        {
          "output_type": "stream",
          "name": "stdout",
          "text": [
            "\n",
            "Première ligne: [1 2 3]\n",
            "Dernière colonne: [3 6 9]\n",
            "Sous-matrice 2x2 en haut à gauche:\n",
            " [[1 2]\n",
            " [4 5]]\n"
          ]
        }
      ]
    },
    {
      "cell_type": "markdown",
      "source": [
        "### Indexation booléenne"
      ],
      "metadata": {
        "id": "zfSYtsRSa8di"
      },
      "id": "zfSYtsRSa8di"
    },
    {
      "cell_type": "code",
      "source": [
        "# Création d'un masque booléen\n",
        "masque = arr > 2\n",
        "print(\"Masque booléen:\", masque)"
      ],
      "metadata": {
        "colab": {
          "base_uri": "https://localhost:8080/"
        },
        "id": "Byc9XGP6a-wz",
        "outputId": "5dec465e-688f-46f5-fd9d-51cf47109c5d"
      },
      "id": "Byc9XGP6a-wz",
      "execution_count": null,
      "outputs": [
        {
          "output_type": "stream",
          "name": "stdout",
          "text": [
            "Masque booléen: [False False  True  True  True]\n"
          ]
        }
      ]
    },
    {
      "cell_type": "code",
      "source": [
        "print(\"Éléments > 2:\", arr[masque])"
      ],
      "metadata": {
        "colab": {
          "base_uri": "https://localhost:8080/"
        },
        "id": "m7DNI-i8MQri",
        "outputId": "566953aa-236b-434e-a7cb-8d9e007ff129"
      },
      "id": "m7DNI-i8MQri",
      "execution_count": null,
      "outputs": [
        {
          "output_type": "stream",
          "name": "stdout",
          "text": [
            "Éléments > 2: [3 4 5]\n"
          ]
        }
      ]
    },
    {
      "cell_type": "markdown",
      "source": [
        "## 5. Opérations mathématiques de base\n",
        "\n",
        "### Opérations élément par élément"
      ],
      "metadata": {
        "id": "GoHpen0lbCNJ"
      },
      "id": "GoHpen0lbCNJ"
    },
    {
      "cell_type": "code",
      "source": [
        "a = np.array([1, 2, 3])\n",
        "b = np.array([4, 5, 6])\n",
        "\n",
        "print(\"Addition:\", a + b)\n",
        "print(\"Soustraction:\", a - b)\n",
        "print(\"Multiplication:\", a * b)  # Élément par élément\n",
        "print(\"Division:\", b / a)\n",
        "print(\"Carré:\", a**2)"
      ],
      "metadata": {
        "colab": {
          "base_uri": "https://localhost:8080/"
        },
        "id": "nt7kke9sbElj",
        "outputId": "861fd15a-2a3a-4fd1-d72b-1c9fd99f6dd3"
      },
      "id": "nt7kke9sbElj",
      "execution_count": null,
      "outputs": [
        {
          "output_type": "stream",
          "name": "stdout",
          "text": [
            "Addition: [5 7 9]\n",
            "Soustraction: [-3 -3 -3]\n",
            "Multiplication: [ 4 10 18]\n",
            "Division: [4.  2.5 2. ]\n",
            "Carré: [1 4 9]\n"
          ]
        }
      ]
    },
    {
      "cell_type": "markdown",
      "source": [
        "### Fonctions mathématiques"
      ],
      "metadata": {
        "id": "Ax6snVcjbGcE"
      },
      "id": "Ax6snVcjbGcE"
    },
    {
      "cell_type": "code",
      "source": [
        "print(\"Racine carrée:\", np.sqrt(a))\n",
        "print(\"Exponentielle:\", np.exp(a))\n",
        "print(\"Logarithme naturel:\", np.log(a))\n",
        "print(\"Sinus:\", np.sin(a))"
      ],
      "metadata": {
        "colab": {
          "base_uri": "https://localhost:8080/"
        },
        "id": "aHvVx8XTbIj5",
        "outputId": "807ceb92-a464-40c8-ab2e-296b316038d9"
      },
      "id": "aHvVx8XTbIj5",
      "execution_count": null,
      "outputs": [
        {
          "output_type": "stream",
          "name": "stdout",
          "text": [
            "Racine carrée: [1.         1.41421356 1.73205081]\n",
            "Exponentielle: [ 2.71828183  7.3890561  20.08553692]\n",
            "Logarithme naturel: [0.         0.69314718 1.09861229]\n",
            "Sinus: [0.84147098 0.90929743 0.14112001]\n"
          ]
        }
      ]
    },
    {
      "cell_type": "markdown",
      "source": [
        "### Agrégations"
      ],
      "metadata": {
        "id": "L8dYVqFrbKoa"
      },
      "id": "L8dYVqFrbKoa"
    },
    {
      "cell_type": "code",
      "source": [
        "arr = np.array([[1, 2, 3], [4, 5, 6]])\n",
        "\n",
        "print(\"Somme totale:\", np.sum(arr))\n",
        "print(\"Moyenne:\", np.mean(arr))\n",
        "print(\"Écart-type:\", np.std(arr))\n",
        "print(\"Minimum:\", np.min(arr))\n",
        "print(\"Maximum:\", np.max(arr))\n",
        "print(\"Indice du maximum:\", np.argmax(arr))"
      ],
      "metadata": {
        "colab": {
          "base_uri": "https://localhost:8080/"
        },
        "id": "nfo85JDvbM8R",
        "outputId": "15cb12d2-47a5-4ad3-f4b4-fd2c3ad09219"
      },
      "id": "nfo85JDvbM8R",
      "execution_count": null,
      "outputs": [
        {
          "output_type": "stream",
          "name": "stdout",
          "text": [
            "Somme totale: 21\n",
            "Moyenne: 3.5\n",
            "Écart-type: 1.707825127659933\n",
            "Minimum: 1\n",
            "Maximum: 6\n",
            "Indice du maximum: 5\n"
          ]
        }
      ]
    },
    {
      "cell_type": "code",
      "source": [
        "# Avec l'argument axis\n",
        "print(\"\\nSomme des colonnes:\", np.sum(arr, axis=0))\n",
        "print(\"Moyenne des lignes:\", np.mean(arr, axis=1))"
      ],
      "metadata": {
        "colab": {
          "base_uri": "https://localhost:8080/"
        },
        "id": "6qEwyKV0MdlX",
        "outputId": "f2a899ff-e2d6-4609-f5a4-b3744c9a545b"
      },
      "id": "6qEwyKV0MdlX",
      "execution_count": null,
      "outputs": [
        {
          "output_type": "stream",
          "name": "stdout",
          "text": [
            "\n",
            "Somme des colonnes: [5 7 9]\n",
            "Moyenne des lignes: [2. 5.]\n"
          ]
        }
      ]
    },
    {
      "cell_type": "markdown",
      "source": [
        "\n",
        "## 6. Manipulation de tableaux\n",
        "\n",
        "### Redimensionnement"
      ],
      "metadata": {
        "id": "LTc88arNbQFw"
      },
      "id": "LTc88arNbQFw"
    },
    {
      "cell_type": "code",
      "source": [
        "arr = np.array([1, 2, 3, 4, 5, 6])\n",
        "\n",
        "# Redimensionner\n",
        "matrice = arr.reshape(2, 3)\n",
        "print(\"Redimensionné en 2x3:\\n\", matrice)"
      ],
      "metadata": {
        "colab": {
          "base_uri": "https://localhost:8080/"
        },
        "id": "8pO3EpzBbSi_",
        "outputId": "ec6c44e9-4b88-4825-8116-71c863e6f043"
      },
      "id": "8pO3EpzBbSi_",
      "execution_count": null,
      "outputs": [
        {
          "output_type": "stream",
          "name": "stdout",
          "text": [
            "Redimensionné en 2x3:\n",
            " [[1 2 3]\n",
            " [4 5 6]]\n"
          ]
        }
      ]
    },
    {
      "cell_type": "code",
      "source": [
        "# Aplatir\n",
        "aplati = matrice.flatten()\n",
        "print(\"Aplati:\", aplati)"
      ],
      "metadata": {
        "colab": {
          "base_uri": "https://localhost:8080/"
        },
        "id": "V1EG6FX-MjoR",
        "outputId": "bb720cf2-c92e-4021-f203-0c5229a56122"
      },
      "id": "V1EG6FX-MjoR",
      "execution_count": null,
      "outputs": [
        {
          "output_type": "stream",
          "name": "stdout",
          "text": [
            "Aplati: [1 2 3 4 5 6]\n"
          ]
        }
      ]
    },
    {
      "cell_type": "markdown",
      "source": [
        "### Empilement et découpage"
      ],
      "metadata": {
        "id": "aH00Gv9sbVjB"
      },
      "id": "aH00Gv9sbVjB"
    },
    {
      "cell_type": "code",
      "source": [
        "a = np.array([1, 2, 3])\n",
        "b = np.array([4, 5, 6])\n",
        "\n",
        "# Empilement vertical (lignes)\n",
        "print(\"Empilement vertical:\\n\", np.vstack((a, b)))"
      ],
      "metadata": {
        "colab": {
          "base_uri": "https://localhost:8080/"
        },
        "id": "D0pnoRhfbUgI",
        "outputId": "7105b637-fbae-4ff9-f0f5-de4bca533453"
      },
      "id": "D0pnoRhfbUgI",
      "execution_count": null,
      "outputs": [
        {
          "output_type": "stream",
          "name": "stdout",
          "text": [
            "Empilement vertical:\n",
            " [[1 2 3]\n",
            " [4 5 6]]\n"
          ]
        }
      ]
    },
    {
      "cell_type": "code",
      "source": [
        "# Empilement horizontal (colonnes)\n",
        "print(\"\\nEmpilement horizontal:\\n\", np.column_stack((a, b)))"
      ],
      "metadata": {
        "colab": {
          "base_uri": "https://localhost:8080/"
        },
        "id": "w7BJKce0MrIs",
        "outputId": "a83ea9b5-cd82-4b01-d435-46c104b45a5b"
      },
      "id": "w7BJKce0MrIs",
      "execution_count": null,
      "outputs": [
        {
          "output_type": "stream",
          "name": "stdout",
          "text": [
            "\n",
            "Empilement horizontal:\n",
            " [[1 4]\n",
            " [2 5]\n",
            " [3 6]]\n"
          ]
        }
      ]
    },
    {
      "cell_type": "markdown",
      "source": [
        "\n",
        "### Tri\n"
      ],
      "metadata": {
        "id": "pFd7J5BpbaHW"
      },
      "id": "pFd7J5BpbaHW"
    },
    {
      "cell_type": "code",
      "source": [
        "arr = np.array([3, 1, 4, 1, 5, 9, 2])\n",
        "arr"
      ],
      "metadata": {
        "colab": {
          "base_uri": "https://localhost:8080/"
        },
        "id": "CUDaVqbHbcYY",
        "outputId": "b14651ea-6e8b-41b1-cd76-82c7400a0662"
      },
      "id": "CUDaVqbHbcYY",
      "execution_count": null,
      "outputs": [
        {
          "output_type": "execute_result",
          "data": {
            "text/plain": [
              "array([3, 1, 4, 1, 5, 9, 2])"
            ]
          },
          "metadata": {},
          "execution_count": 168
        }
      ]
    },
    {
      "cell_type": "code",
      "source": [
        "print(\"Trié:\", np.sort(arr))"
      ],
      "metadata": {
        "colab": {
          "base_uri": "https://localhost:8080/"
        },
        "id": "FxFKygr5M873",
        "outputId": "78dd229f-8ead-4a71-ef41-ed28e4d93711"
      },
      "id": "FxFKygr5M873",
      "execution_count": null,
      "outputs": [
        {
          "output_type": "stream",
          "name": "stdout",
          "text": [
            "Trié: [1 1 2 3 4 5 9]\n"
          ]
        }
      ]
    },
    {
      "cell_type": "code",
      "source": [
        "print(\"Indices de tri:\", np.argsort(arr))"
      ],
      "metadata": {
        "colab": {
          "base_uri": "https://localhost:8080/"
        },
        "id": "6ChxClvIMzB3",
        "outputId": "c4903cee-4ca5-4fc3-ae77-72fc3207c19c"
      },
      "id": "6ChxClvIMzB3",
      "execution_count": null,
      "outputs": [
        {
          "output_type": "stream",
          "name": "stdout",
          "text": [
            "Indices de tri: [1 3 6 0 2 4 5]\n"
          ]
        }
      ]
    },
    {
      "cell_type": "markdown",
      "source": [
        "## 7. Algèbre linéaire avec NumPy\n",
        "\n",
        "### Produit scalaire et matriciel"
      ],
      "metadata": {
        "id": "YfR0d99-be9x"
      },
      "id": "YfR0d99-be9x"
    },
    {
      "cell_type": "code",
      "source": [
        "a = np.array([1, 2, 3])\n",
        "b = np.array([4, 5, 6])\n",
        "\n",
        "# Produit scalaire\n",
        "dot_product = np.dot(a, b)\n",
        "print(\"Produit scalaire:\", dot_product)\n"
      ],
      "metadata": {
        "colab": {
          "base_uri": "https://localhost:8080/"
        },
        "id": "AL7l9KFZbhpG",
        "outputId": "1093f06b-60fa-467a-efd0-cd47a659c8d0"
      },
      "id": "AL7l9KFZbhpG",
      "execution_count": null,
      "outputs": [
        {
          "output_type": "stream",
          "name": "stdout",
          "text": [
            "Produit scalaire: 32\n"
          ]
        }
      ]
    },
    {
      "cell_type": "code",
      "source": [
        "# Produit matriciel\n",
        "mat1 = np.array([[1, 2], [3, 4]])\n",
        "mat2 = np.array([[5, 6], [7, 8]])\n",
        "mat_product = np.matmul(mat1, mat2)\n",
        "print(\"\\nProduit matriciel:\\n\", mat_product)"
      ],
      "metadata": {
        "colab": {
          "base_uri": "https://localhost:8080/"
        },
        "id": "Kq0IjR0oNJWq",
        "outputId": "b0ba3c56-bdeb-4e8d-9734-9b3791824c94"
      },
      "id": "Kq0IjR0oNJWq",
      "execution_count": null,
      "outputs": [
        {
          "output_type": "stream",
          "name": "stdout",
          "text": [
            "\n",
            "Produit matriciel:\n",
            " [[19 22]\n",
            " [43 50]]\n"
          ]
        }
      ]
    },
    {
      "cell_type": "markdown",
      "source": [
        "### Déterminant et inverse"
      ],
      "metadata": {
        "id": "ohd5FQz8bkgp"
      },
      "id": "ohd5FQz8bkgp"
    },
    {
      "cell_type": "code",
      "source": [
        "mat = np.array([[1, 2], [3, 4]])\n",
        "mat"
      ],
      "metadata": {
        "colab": {
          "base_uri": "https://localhost:8080/"
        },
        "id": "PMwG07H-bmx1",
        "outputId": "72a23537-6d06-4007-fffb-bb90344d968f"
      },
      "id": "PMwG07H-bmx1",
      "execution_count": null,
      "outputs": [
        {
          "output_type": "execute_result",
          "data": {
            "text/plain": [
              "array([[1, 2],\n",
              "       [3, 4]])"
            ]
          },
          "metadata": {},
          "execution_count": 174
        }
      ]
    },
    {
      "cell_type": "code",
      "source": [
        "det = np.linalg.det(mat)\n",
        "print(\"Déterminant:\", det)"
      ],
      "metadata": {
        "colab": {
          "base_uri": "https://localhost:8080/"
        },
        "id": "JMQOgOjFNWfC",
        "outputId": "62b8159e-b480-41a7-9f73-396167efe4ef"
      },
      "id": "JMQOgOjFNWfC",
      "execution_count": null,
      "outputs": [
        {
          "output_type": "stream",
          "name": "stdout",
          "text": [
            "Déterminant: -2.0000000000000004\n"
          ]
        }
      ]
    },
    {
      "cell_type": "code",
      "source": [
        "inv = np.linalg.inv(mat)\n",
        "print(\"\\nInverse:\\n\", inv)"
      ],
      "metadata": {
        "colab": {
          "base_uri": "https://localhost:8080/"
        },
        "id": "KsZlkSkMNSMX",
        "outputId": "df67da80-add7-4575-8a78-4a67d1c5fda7"
      },
      "id": "KsZlkSkMNSMX",
      "execution_count": null,
      "outputs": [
        {
          "output_type": "stream",
          "name": "stdout",
          "text": [
            "\n",
            "Inverse:\n",
            " [[-2.   1. ]\n",
            " [ 1.5 -0.5]]\n"
          ]
        }
      ]
    },
    {
      "cell_type": "markdown",
      "source": [
        "## 8. Exercices pratiques\n",
        "\n",
        "### Exercice 1 : Manipulation de base\n",
        "\n",
        "1.  Créez un tableau 1D contenant les nombres pairs de 0 à 20\n",
        "2.  Créez une matrice 5x5 remplie de 1 avec une diagonale de 0\n",
        "3.  Multiplier cette matrice par 3 et soustrayez 1\n",
        "\n",
        "### Exercice 2 : Statistiques\n",
        "\n",
        "Étant donné le tableau suivant des températures moyennes mensuelles (en\n",
        "°C) :\n"
      ],
      "metadata": {
        "id": "AItepdcFbug8"
      },
      "id": "AItepdcFbug8"
    },
    {
      "cell_type": "code",
      "source": [
        "temperatures = np.array([8, 9, 12, 15, 18, 22, 24, 24, 21, 17, 12, 9])\n",
        "temperatures"
      ],
      "metadata": {
        "colab": {
          "base_uri": "https://localhost:8080/"
        },
        "id": "QHZLSCJnbwr-",
        "outputId": "9876bd78-4c4c-467e-c9d5-6915a8faa252"
      },
      "id": "QHZLSCJnbwr-",
      "execution_count": null,
      "outputs": [
        {
          "output_type": "execute_result",
          "data": {
            "text/plain": [
              "array([ 8,  9, 12, 15, 18, 22, 24, 24, 21, 17, 12,  9])"
            ]
          },
          "metadata": {},
          "execution_count": 42
        }
      ]
    },
    {
      "cell_type": "markdown",
      "source": [
        "\n",
        "1.  Calculez la température moyenne annuelle\n",
        "2.  Trouvez les mois où la température dépasse 20°C\n",
        "3.  Calculez l’écart-type des températures\n",
        "\n"
      ],
      "metadata": {
        "id": "c8Y3UG_LbzTx"
      },
      "id": "c8Y3UG_LbzTx"
    },
    {
      "cell_type": "markdown",
      "source": [
        "### Exercice 3: Analyse de données urbaines\n",
        "\n",
        "**Contexte :** Vous travaillez sur un projet d'analyse de l'évolution du prix du m² dans différents quartiers d'une ville sur plusieurs années.\n",
        "\n",
        "**Données :**"
      ],
      "metadata": {
        "id": "HySCscWLTUxg"
      },
      "id": "HySCscWLTUxg"
    },
    {
      "cell_type": "code",
      "source": [
        "# Prix moyen au m² (en euros) pour 3 quartiers sur 3 ans\n",
        "# Chaque sous-tableau représente une année (2021, 2022, 2023)\n",
        "# Chaque ligne représente un quartier (A, B, C)\n",
        "# Chaque colonne représente un trimestre (T1-T4)\n",
        "prix_par_an = [\n",
        "    np.array([  # 2021\n",
        "        [3500, 3550, 3600, 3650],  # Quartier A\n",
        "        [2800, 2850, 2900, 2950],  # Quartier B\n",
        "        [4200, 4250, 4300, 4350]   # Quartier C\n",
        "    ]),\n",
        "    np.array([  # 2022\n",
        "        [3700, 3750, 3800, 3850],\n",
        "        [3000, 3050, 3100, 3150],\n",
        "        [4400, 4450, 4500, 4550]\n",
        "    ]),\n",
        "    np.array([  # 2023\n",
        "        [3900, 3950, 4000, 4050],\n",
        "        [3200, 3250, 3300, 3350],\n",
        "        [4600, 4650, 4700, 4750]\n",
        "    ])\n",
        "]"
      ],
      "metadata": {
        "id": "hHZ4E5VSTdll"
      },
      "id": "hHZ4E5VSTdll",
      "execution_count": null,
      "outputs": []
    },
    {
      "cell_type": "markdown",
      "source": [
        "**Travail demandé :**\n",
        "\n",
        "Empilez les données des 3 années pour obtenir un seul tableau 3D de forme (années, quartiers, trimestres)\n",
        "1. Calculez le prix moyen annuel pour chaque quartier sur les 3 ans\n",
        "2. Créez un tableau 2D de forme (quartiers, années) contenant la croissance annuelle moyenne (en %)\n",
        "3. Aplatissez le tableau 3D en un tableau 2D où chaque ligne représente une observation (année × quartier × trimestre)"
      ],
      "metadata": {
        "id": "sR-A_VDcTg7n"
      },
      "id": "sR-A_VDcTg7n"
    },
    {
      "cell_type": "code",
      "source": [
        "# 1. Empilement des années\n",
        "prix_3d = np.stack(prix_par_an, axis=0)\n",
        "print(\"Forme du tableau 3D :\", prix_3d.shape)  # (3, 3, 4)"
      ],
      "metadata": {
        "colab": {
          "base_uri": "https://localhost:8080/"
        },
        "id": "WGfyasysTptV",
        "outputId": "1917d6ba-7d3f-4304-f09b-5e0b4e043910"
      },
      "id": "WGfyasysTptV",
      "execution_count": null,
      "outputs": [
        {
          "output_type": "stream",
          "name": "stdout",
          "text": [
            "Forme du tableau 3D : (3, 3, 4)\n"
          ]
        }
      ]
    },
    {
      "cell_type": "code",
      "source": [
        "# 2. Prix moyen annuel par quartier\n",
        "prix_moyen_annuel = np.mean(prix_3d, axis=2)  # Moyenne sur les trimestres\n",
        "print(\"\\nPrix moyen annuel par quartier :\\n\", prix_moyen_annuel)"
      ],
      "metadata": {
        "colab": {
          "base_uri": "https://localhost:8080/"
        },
        "id": "yWKj3dK5Tsrw",
        "outputId": "9e1d0284-c7c8-4dff-a5f1-247e86127554"
      },
      "id": "yWKj3dK5Tsrw",
      "execution_count": null,
      "outputs": [
        {
          "output_type": "stream",
          "name": "stdout",
          "text": [
            "\n",
            "Prix moyen annuel par quartier :\n",
            " [[3575. 2875. 4275.]\n",
            " [3775. 3075. 4475.]\n",
            " [3975. 3275. 4675.]]\n"
          ]
        }
      ]
    },
    {
      "cell_type": "code",
      "source": [
        "# 3. Croissance annuelle moyenne par quartier (en %)\n",
        "croissance_pct = np.diff(prix_moyen_annuel, axis=0) / prix_moyen_annuel[:-1] * 100\n",
        "croissance_moyenne = np.mean(croissance_pct, axis=0)\n",
        "print(\"\\nCroissance annuelle moyenne par quartier (%):\", np.round(croissance_moyenne, 2))"
      ],
      "metadata": {
        "colab": {
          "base_uri": "https://localhost:8080/"
        },
        "id": "AfDcPgf9TujP",
        "outputId": "d1bca865-3e52-4d2b-b290-e8fb87fea36a"
      },
      "id": "AfDcPgf9TujP",
      "execution_count": null,
      "outputs": [
        {
          "output_type": "stream",
          "name": "stdout",
          "text": [
            "\n",
            "Croissance annuelle moyenne par quartier (%): [5.45 6.73 4.57]\n"
          ]
        }
      ]
    },
    {
      "cell_type": "code",
      "source": [
        "# 4. Aplatissement du tableau\n",
        "prix_2d = prix_3d.reshape(-1, prix_3d.shape[-1])  # Aplatir les deux premières dimensions\n",
        "print(\"\\nForme du tableau aplati :\", prix_2d.shape)  # (9, 4)"
      ],
      "metadata": {
        "colab": {
          "base_uri": "https://localhost:8080/"
        },
        "id": "FJvycXf0Twt_",
        "outputId": "b1a77c65-1994-45e2-b3e4-24ce8aca4eba"
      },
      "id": "FJvycXf0Twt_",
      "execution_count": null,
      "outputs": [
        {
          "output_type": "stream",
          "name": "stdout",
          "text": [
            "\n",
            "Forme du tableau aplati : (9, 4)\n"
          ]
        }
      ]
    },
    {
      "cell_type": "code",
      "source": [
        "# Pour un aplatissement complet (vecteur 1D)\n",
        "prix_1d = prix_3d.flatten()    # prix_3d.ravel()\n",
        "print(\"Nombre total de valeurs :\", len(prix_1d))"
      ],
      "metadata": {
        "colab": {
          "base_uri": "https://localhost:8080/"
        },
        "id": "ehGdL4IdTyej",
        "outputId": "fc4901d3-822d-4bed-9538-841a654c3263"
      },
      "id": "ehGdL4IdTyej",
      "execution_count": null,
      "outputs": [
        {
          "output_type": "stream",
          "name": "stdout",
          "text": [
            "Nombre total de valeurs : 36\n"
          ]
        }
      ]
    },
    {
      "cell_type": "markdown",
      "source": [
        "### Exercice 4 : Analyse des inégalités urbaines\n",
        "**Contexte :** Vous analysez les données de revenus mensuels médians (en Dhs) pour différents quartiers d'une ville.\n",
        "\n",
        "**Données :**"
      ],
      "metadata": {
        "id": "PgT4gP8TTStx"
      },
      "id": "PgT4gP8TTStx"
    },
    {
      "cell_type": "code",
      "source": [
        "# Revenus mensuels médians par quartier (en Dhs)\n",
        "revenus = np.array([\n",
        "    [18500, 19000, 19200, 19500, 19800],  # Quartier résidentiel aisé\n",
        "    [12000, 12200, 12500, 12400, 12600],  # Quartier mixte\n",
        "    [9500,  9700,  9800,  9900, 10000],   # Quartier populaire\n",
        "    [7800,  7900,  8000,  8100,  8200]    # Quartier prioritaire\n",
        "])\n"
      ],
      "metadata": {
        "id": "x78Gt3aJOw4f"
      },
      "id": "x78Gt3aJOw4f",
      "execution_count": null,
      "outputs": []
    },
    {
      "cell_type": "markdown",
      "source": [
        "**Travail demandé** :\n",
        "\n",
        "1. Calculez l'évolution moyenne des revenus pour chaque quartier sur la période. {np.diff}\n",
        "\n",
        "2. Calculez l'indice de Gini pour chaque année (mesure des inégalités) {np.subtract.outer}\n",
        "\n",
        "```Formule simplifiée : G = (ΣΣ |x_i - x_j|) / (2 * n² * μ)``` où x_i, x_j sont les revenus, n est le nombre d'observations, μ est le revenu moyen\n",
        "\n",
        "3. Créez un tableau montrant l'écart de revenu entre le quartier le plus riche et le plus pauvre pour chaque année"
      ],
      "metadata": {
        "id": "-l7yW8yJOzdm"
      },
      "id": "-l7yW8yJOzdm"
    },
    {
      "cell_type": "code",
      "source": [
        "revenus"
      ],
      "metadata": {
        "colab": {
          "base_uri": "https://localhost:8080/"
        },
        "id": "IDLQZ8H7R9e9",
        "outputId": "c801d4a6-4781-4727-8c07-78d33606f0a0"
      },
      "id": "IDLQZ8H7R9e9",
      "execution_count": null,
      "outputs": [
        {
          "output_type": "execute_result",
          "data": {
            "text/plain": [
              "array([[18500, 19000, 19200, 19500, 19800],\n",
              "       [12000, 12200, 12500, 12400, 12600],\n",
              "       [ 9500,  9700,  9800,  9900, 10000],\n",
              "       [ 7800,  7900,  8000,  8100,  8200]])"
            ]
          },
          "metadata": {},
          "execution_count": 194
        }
      ]
    },
    {
      "cell_type": "code",
      "source": [
        "diff = np.diff(revenus, axis=1)\n",
        "diff"
      ],
      "metadata": {
        "colab": {
          "base_uri": "https://localhost:8080/"
        },
        "id": "fggePb3dQYD8",
        "outputId": "6720df01-80c5-4148-caec-b752633b044a"
      },
      "id": "fggePb3dQYD8",
      "execution_count": null,
      "outputs": [
        {
          "output_type": "execute_result",
          "data": {
            "text/plain": [
              "array([[ 500,  200,  300,  300],\n",
              "       [ 200,  300, -100,  200],\n",
              "       [ 200,  100,  100,  100],\n",
              "       [ 100,  100,  100,  100]])"
            ]
          },
          "metadata": {},
          "execution_count": 195
        }
      ]
    },
    {
      "cell_type": "code",
      "source": [
        "# 1. Évolution moyenne des revenus par quartier\n",
        "diff = np.diff(revenus, axis=1)\n",
        "evolution_moyenne = np.mean(diff , axis=1)\n",
        "print(\"Évolution moyenne annuelle par quartier :\", np.round(evolution_moyenne, 2), \"Dhs/an\")\n"
      ],
      "metadata": {
        "colab": {
          "base_uri": "https://localhost:8080/"
        },
        "id": "3ubyR7D-PKia",
        "outputId": "bf119356-c42d-4ba6-c01b-fbdcd6ad0a73"
      },
      "id": "3ubyR7D-PKia",
      "execution_count": null,
      "outputs": [
        {
          "output_type": "stream",
          "name": "stdout",
          "text": [
            "Évolution moyenne annuelle par quartier : [32.5 15.  12.5 10. ] Dhs/an\n"
          ]
        }
      ]
    },
    {
      "cell_type": "code",
      "source": [
        "# 2. Calcul de l'indice de Gini pour chaque année\n",
        "def gini_coefficient(x):\n",
        "    \"\"\"Calcule l'indice de Gini pour un tableau de valeurs.\"\"\"\n",
        "    # Les différences entre toutes les paires\n",
        "    diff = np.abs(np.subtract.outer(x, x))\n",
        "    # Moyenne des différences absolues\n",
        "    mean_diff = np.mean(diff)\n",
        "    # Moyenne des valeurs\n",
        "    mean_val = np.mean(x)\n",
        "    # Indice de Gini\n",
        "    return mean_diff / (2 * mean_val)\n",
        "\n",
        "# Application à chaque année\n",
        "indices_gini = np.array([gini_coefficient(revenus[:, annee])\n",
        "                        for annee in range(revenus.shape[1])])\n",
        "print(\"\\nIndice de Gini par année :\", np.round(indices_gini, 3))"
      ],
      "metadata": {
        "colab": {
          "base_uri": "https://localhost:8080/"
        },
        "id": "-WBhf8nbPewD",
        "outputId": "55f8d66b-11d9-4213-bf2b-01df1f089e92"
      },
      "id": "-WBhf8nbPewD",
      "execution_count": null,
      "outputs": [
        {
          "output_type": "stream",
          "name": "stdout",
          "text": [
            "\n",
            "Indice de Gini par année : [0.181 0.183 0.183 0.184 0.185]\n"
          ]
        }
      ]
    },
    {
      "cell_type": "code",
      "source": [
        "# 3. Écart riches-pauvres par année\n",
        "ecart_riches_pauvres = np.max(revenus, axis=0) - np.min(revenus, axis=0)\n",
        "print(\"\\nÉcart riches-pauvres par année :\", ecart_riches_pauvres, \"€\")"
      ],
      "metadata": {
        "colab": {
          "base_uri": "https://localhost:8080/"
        },
        "id": "mZHHUCJCPhOr",
        "outputId": "d3224a85-6946-4eba-c5cc-a9191287566a"
      },
      "id": "mZHHUCJCPhOr",
      "execution_count": null,
      "outputs": [
        {
          "output_type": "stream",
          "name": "stdout",
          "text": [
            "\n",
            "Écart riches-pauvres par année : [1070 1110 1120 1140 1160] €\n"
          ]
        }
      ]
    },
    {
      "cell_type": "code",
      "source": [
        "# Visualisation des inégalités\n",
        "import matplotlib.pyplot as plt\n",
        "\n",
        "plt.figure(figsize=(10, 5))\n",
        "for i in range(revenus.shape[0]):\n",
        "    plt.plot(range(2018, 2023), revenus[i], marker='o', label=f'Quartier {i+1}')\n",
        "\n",
        "plt.title('Évolution des revenus médians par quartier')\n",
        "plt.xlabel('Année')\n",
        "plt.ylabel('Revenu mensuel médian (€)')\n",
        "plt.legend()\n",
        "plt.grid(True)\n",
        "plt.show()"
      ],
      "metadata": {
        "colab": {
          "base_uri": "https://localhost:8080/",
          "height": 490
        },
        "id": "Sm9ECjbJPSPy",
        "outputId": "59feb552-bfd4-480d-c1db-3f9362bdf72c"
      },
      "id": "Sm9ECjbJPSPy",
      "execution_count": null,
      "outputs": [
        {
          "output_type": "display_data",
          "data": {
            "text/plain": [
              "<Figure size 1000x500 with 1 Axes>"
            ],
            "image/png": "[encoded data removed]"
          },
          "metadata": {}
        }
      ]
    },
    {
      "cell_type": "markdown",
      "source": [
        "### Exercice 5 : Calcul d’un Indice de Qualité de Vie Urbaine (IQV)\n",
        "\n",
        "**Contexte**\n",
        "Vous êtes urbaniste dans une ville moyenne. Vous devez proposer un classement des quartiers selon leur qualité de vie perçue.  \n",
        "Pour cela, vous combinez plusieurs données objectives selon un **modèle pondéré**.\n",
        "\n",
        "---\n",
        "\n",
        "**Données :**"
      ],
      "metadata": {
        "id": "FMwjihl8VETI"
      },
      "id": "FMwjihl8VETI"
    },
    {
      "cell_type": "code",
      "source": [
        "import numpy as np\n",
        "\n",
        "# Noms des quartiers\n",
        "noms_quartiers = np.array(['Centre', 'Résidentiel', 'Périphérie', 'Commercial', 'Mixte'])\n",
        "\n",
        "# Indicateurs (échelle de 0 à 10, sauf distance)\n",
        "accès_transports = np.array([9.5, 7.0, 4.0, 8.0, 6.5])\n",
        "qualité_air = np.array([6.0, 8.5, 7.0, 5.5, 7.0])\n",
        "équipements = np.array([9.0, 7.5, 5.0, 6.5, 8.0])\n",
        "bruit = 10 - np.array([8.0, 4.0, 3.0, 9.0, 6.0])  # moins de bruit = meilleure note\n",
        "distance_centre = np.array([0.5, 2.0, 5.0, 3.0, 4.0])  # en km\n",
        "\n",
        "# Poids pour chaque indicateur (somme = 1)\n",
        "poids = np.array([0.3, 0.2, 0.2, 0.15, 0.15])"
      ],
      "metadata": {
        "id": "ReP5tlWdVd_7"
      },
      "id": "ReP5tlWdVd_7",
      "execution_count": null,
      "outputs": []
    },
    {
      "cell_type": "markdown",
      "source": [
        "**Travail demandé :**\n",
        "\n",
        "1. Normalisez la distance au centre-ville pour qu'elle soit sur une échelle de 0 à 10 (10 = meilleure note)\n",
        "2. Calculez l'IQV comme une moyenne pondérée des indicateurs\n",
        "3. Classez les quartiers selon leur IQV (A: ≥8, B: 6-8, C: <6)\n",
        "4. Identifiez le meilleur et le pire quartier pour chaque indicateur"
      ],
      "metadata": {
        "id": "K-Ut_dPdWRwK"
      },
      "id": "K-Ut_dPdWRwK"
    },
    {
      "cell_type": "code",
      "source": [
        "# --- Étape 1 : Normalisation de la distance (0 à 10, où 10 = proche centre) ---\n",
        "min_dist = distance_centre.min()\n",
        "max_dist = distance_centre.max()\n",
        "distance_norm = 10 * (1 - (distance_centre - min_dist) / (max_dist - min_dist))"
      ],
      "metadata": {
        "id": "ZyerL1qlWisu"
      },
      "id": "ZyerL1qlWisu",
      "execution_count": null,
      "outputs": []
    },
    {
      "cell_type": "code",
      "source": [
        "# --- Étape 2 : Calcul de l’IQV (indice de qualité de vie) ---\n",
        "indicateurs = np.stack([\n",
        "    accès_transports,\n",
        "    qualité_air,\n",
        "    équipements,\n",
        "    bruit,\n",
        "    distance_norm\n",
        "], axis=1)\n",
        "\n",
        "iqv = np.average(indicateurs, axis=1, weights=poids)"
      ],
      "metadata": {
        "id": "olWY8RGuW16s"
      },
      "id": "olWY8RGuW16s",
      "execution_count": null,
      "outputs": []
    },
    {
      "cell_type": "code",
      "source": [
        "# --- Étape 3 : Classification des quartiers (A, B, C) ---\n",
        "categories = np.where(iqv >= 8, 'A', np.where(iqv >= 6, 'B', 'C'))"
      ],
      "metadata": {
        "id": "Os1iFFL6W4Fo"
      },
      "id": "Os1iFFL6W4Fo",
      "execution_count": null,
      "outputs": []
    },
    {
      "cell_type": "code",
      "source": [
        "# --- Étape 4 : Meilleurs et pires quartiers pour chaque indicateur ---\n",
        "indicateurs_noms = ['Transports', 'Qualité de l’air', 'Équipements', 'Bruit (inversé)', 'Proximité centre (norm.)']\n",
        "indicateurs_liste = [accès_transports, qualité_air, équipements, bruit, distance_norm]"
      ],
      "metadata": {
        "id": "nl6SF74RW6ry"
      },
      "id": "nl6SF74RW6ry",
      "execution_count": null,
      "outputs": []
    },
    {
      "cell_type": "code",
      "source": [
        "# --- Affichage des résultats ---\n",
        "print(\"Résultat final : IQV par quartier\\n\")\n",
        "for i in range(len(noms_quartiers)):\n",
        "    print(f\"{noms_quartiers[i]} → IQV = {iqv[i]:.2f} → Catégorie {categories[i]}\")\n",
        "\n",
        "print(\"\\n Meilleur et moins bon quartier par critère :\\n\")\n",
        "for nom, data in zip(indicateurs_noms, indicateurs_liste):\n",
        "    meilleur = noms_quartiers[np.argmax(data)]\n",
        "    pire = noms_quartiers[np.argmin(data)]\n",
        "    print(f\"{nom:<25} : Meilleur = {meilleur} |  Pire = {pire}\")"
      ],
      "metadata": {
        "colab": {
          "base_uri": "https://localhost:8080/"
        },
        "id": "QWbeUfxDW9Uc",
        "outputId": "381c828d-335f-4ebf-b97c-da9dcee79cb8"
      },
      "id": "QWbeUfxDW9Uc",
      "execution_count": null,
      "outputs": [
        {
          "output_type": "stream",
          "name": "stdout",
          "text": [
            "Résultat final : IQV par quartier\n",
            "\n",
            "Centre → IQV = 7.65 → Catégorie B\n",
            "Résidentiel → IQV = 7.20 → Catégorie B\n",
            "Périphérie → IQV = 4.65 → Catégorie C\n",
            "Commercial → IQV = 5.62 → Catégorie C\n",
            "Mixte → IQV = 5.88 → Catégorie C\n",
            "\n",
            " Meilleur et moins bon quartier par critère :\n",
            "\n",
            "Transports                : Meilleur = Centre |  Pire = Périphérie\n",
            "Qualité de l’air          : Meilleur = Résidentiel |  Pire = Commercial\n",
            "Équipements               : Meilleur = Centre |  Pire = Périphérie\n",
            "Bruit (inversé)           : Meilleur = Périphérie |  Pire = Commercial\n",
            "Proximité centre (norm.)  : Meilleur = Centre |  Pire = Périphérie\n"
          ]
        }
      ]
    },
    {
      "cell_type": "markdown",
      "source": [
        "### Exercice 6 : Grille 2D (1 km × 1 km) et distance au centre\n",
        "\n",
        "**Contexte**  \n",
        "Vous réalisez une étude spatiale sur un domaine carré de 1 000 m × 1 000 m. Pour modéliser l’influence ou l’accessibilité d’un point central (place, parc, pôle de transport…), vous devez calculer la distance de chaque point de la grille à ce centre.\n",
        "\n",
        "---\n",
        "\n",
        "**Données :**  \n",
        "- `taille = 1000` (longueur du côté en mètres)  \n",
        "- `resolution = 10` (espacement entre deux points, en mètres)  \n",
        "- `nb_points = taille // resolution` (nombre de points par dimension)  \n",
        "- Vecteurs :`x = np.linspace(0, taille, nb_points)`  \n",
        "- Vecteurs :`y = np.linspace(0, taille, nb_points)`  \n",
        "- Grille :`X, Y = np.meshgrid(x, y)`\n",
        "\n",
        "---\n",
        "\n",
        "**Tâches à réaliser :**  \n",
        "1. **Centre de la grille**  \n",
        "   - Définir  \n",
        "     ```python\n",
        "     centre_x = taille / 2\n",
        "     centre_y = taille / 2\n",
        "     ```\n",
        "2. **Distance euclidienne**  \n",
        "   - Calculer pour chaque cellule  \n",
        "     ```python\n",
        "     distances = np.sqrt((X - centre_x)**2 + (Y - centre_y)**2)\n",
        "     ```\n",
        "3. **Affichage**  \n",
        "   - Proposer une représentation graphique en niveaux de gris ou en couleurs de la matrice `distances`.  "
      ],
      "metadata": {
        "id": "YoYBJWUa8FJb"
      },
      "id": "YoYBJWUa8FJb"
    },
    {
      "cell_type": "code",
      "source": [
        "# Exercice 6 : Grille 2D (1 km × 1 km) et distance au centre\n",
        "import numpy as np\n",
        "\n",
        "# Dimensions\n",
        "taille = 1000  # en mètres\n",
        "resolution = 10  # en mètres\n",
        "nb_points = taille // resolution\n",
        "\n",
        "# Création de la grille 2D\n",
        "x = np.linspace(0, taille, nb_points)\n",
        "y = np.linspace(0, taille, nb_points)\n",
        "X, Y = np.meshgrid(x, y)\n",
        "\n",
        "# Centre\n",
        "centre_x = taille / 2\n",
        "centre_y = taille / 2\n",
        "\n",
        "# Calcul de la distance euclidienne à chaque point\n",
        "distances = np.sqrt((X - centre_x)**2 + (Y - centre_y)**2)\n",
        "\n",
        "print(\"Grille 2D créée avec distances au centre.\")\n",
        "distances"
      ],
      "metadata": {
        "colab": {
          "base_uri": "https://localhost:8080/"
        },
        "id": "Hyg8vFxWxI5L",
        "outputId": "ca2a83c2-ecc5-4174-874a-95a93c34b787"
      },
      "execution_count": null,
      "outputs": [
        {
          "output_type": "stream",
          "name": "stdout",
          "text": [
            "Grille 2D créée avec distances au centre.\n"
          ]
        },
        {
          "output_type": "execute_result",
          "data": {
            "text/plain": [
              "array([[707.10678119, 700.00072879, 692.96904795, ..., 692.96904795,\n",
              "        700.00072879, 707.10678119],\n",
              "       [700.00072879, 692.82179571, 685.71650244, ..., 685.71650244,\n",
              "        692.82179571, 700.00072879],\n",
              "       [692.96904795, 685.71650244, 678.53681023, ..., 678.53681023,\n",
              "        685.71650244, 692.96904795],\n",
              "       ...,\n",
              "       [692.96904795, 685.71650244, 678.53681023, ..., 678.53681023,\n",
              "        685.71650244, 692.96904795],\n",
              "       [700.00072879, 692.82179571, 685.71650244, ..., 685.71650244,\n",
              "        692.82179571, 700.00072879],\n",
              "       [707.10678119, 700.00072879, 692.96904795, ..., 692.96904795,\n",
              "        700.00072879, 707.10678119]])"
            ]
          },
          "metadata": {},
          "execution_count": 131
        }
      ],
      "id": "Hyg8vFxWxI5L"
    },
    {
      "cell_type": "markdown",
      "source": [
        "### Exercice 7 : Grille 3D (100 m × 100 m × 50 m) et distance à l’origine\n",
        "\n",
        "**Contexte**  \n",
        "Vous modélisez un volume discret (boîte 3D) pour étudier l’éloignement des points par rapport à l’origine d’un repère (0,0,0). Cela peut servir, par exemple, à calculer une influence radiale dans un espace tridimensionnel (pollution, champ de potentiel…).\n",
        "\n",
        "---\n",
        "\n",
        "**Données :**  \n",
        "- Axes :  \n",
        "  ```python\n",
        "  x = np.arange(0, 100 + 1, 5)   # de 0 à 100 m, pas 5 m  \n",
        "  y = np.arange(0, 100 + 1, 5)   # de 0 à 100 m, pas 5 m  \n",
        "  z = np.arange(0,  50 + 1, 5)   # de 0 à  50 m, pas 5 m  \n",
        "  ```\n",
        "\n",
        "  Tâches à réaliser :\n",
        "\n",
        " 1. Calcul de la distance euclidienne\n",
        "\n",
        ">Pour chaque triplet (i,j,k), calculer\n",
        "\n",
        "> ```python\n",
        "distances_3d[i,j,k] = sqrt( X[i,j,k]**2 + Y[i,j,k]**2 + Z[i,j,k]**2 )\n",
        "Utiliser la vectorisation NumPy pour obtenir directement la matrice distances_3d = np.sqrt(X**2 + Y**2 + Z**2).\n",
        "```\n",
        " 2. Vérification\n",
        "\n",
        ">Afficher la forme de distances_3d et quelques valeurs extrêmes (min, max) pour vérifier la cohérence.\n",
        "\n",
        "3. Visualisation\n",
        "\n",
        ">Proposez au moins une coupe à plan constant (ex. z = 0 m ou z = 50 m) visualisée en 2D (plt.imshow ou plt.contour)."
      ],
      "metadata": {
        "id": "LuT39ghk9-oZ"
      },
      "id": "LuT39ghk9-oZ"
    },
    {
      "cell_type": "code",
      "source": [
        "# Exercice 7 : Grille 3D (100m × 100m × 50m) et distance à l’origine\n",
        "# Dimensions\n",
        "x = np.arange(0, 100 + 1, 5)\n",
        "y = np.arange(0, 100 + 1, 5)\n",
        "z = np.arange(0, 50 + 1, 5)\n",
        "\n",
        "X, Y, Z = np.meshgrid(x, y, z, indexing='ij')  # indexation ij → X: x, Y: y, Z: z\n",
        "\n",
        "# Distance euclidienne à l'origine\n",
        "distances_3d = np.sqrt(X**2 + Y**2 + Z**2)\n",
        "\n",
        "print(\"Grille 3D créée avec distances à l'origine.\")\n",
        "distances_3d"
      ],
      "metadata": {
        "colab": {
          "base_uri": "https://localhost:8080/"
        },
        "id": "DdaWMdgKxQ_O",
        "outputId": "5279e6f4-3a90-4593-e33c-72a20a5cef68"
      },
      "execution_count": null,
      "outputs": [
        {
          "output_type": "stream",
          "name": "stdout",
          "text": [
            "Grille 3D créée avec distances à l'origine.\n"
          ]
        },
        {
          "output_type": "execute_result",
          "data": {
            "text/plain": [
              "array([[[  0.        ,   5.        ,  10.        , ...,  40.        ,\n",
              "          45.        ,  50.        ],\n",
              "        [  5.        ,   7.07106781,  11.18033989, ...,  40.31128874,\n",
              "          45.27692569,  50.24937811],\n",
              "        [ 10.        ,  11.18033989,  14.14213562, ...,  41.23105626,\n",
              "          46.09772229,  50.99019514],\n",
              "        ...,\n",
              "        [ 90.        ,  90.13878189,  90.55385138, ...,  98.48857802,\n",
              "         100.62305899, 102.95630141],\n",
              "        [ 95.        ,  95.13148795,  95.52486587, ..., 103.07764064,\n",
              "         105.11898021, 107.35455277],\n",
              "        [100.        , 100.12492197, 100.49875621, ..., 107.70329614,\n",
              "         109.658561  , 111.80339887]],\n",
              "\n",
              "       [[  5.        ,   7.07106781,  11.18033989, ...,  40.31128874,\n",
              "          45.27692569,  50.24937811],\n",
              "        [  7.07106781,   8.66025404,  12.24744871, ...,  40.62019202,\n",
              "          45.5521679 ,  50.49752469],\n",
              "        [ 11.18033989,  12.24744871,  15.        , ...,  41.53311931,\n",
              "          46.36809248,  51.23475383],\n",
              "        ...,\n",
              "        [ 90.13878189,  90.27735043,  90.69178574, ...,  98.61541462,\n",
              "         100.7472084 , 103.07764064],\n",
              "        [ 95.13148795,  95.26279442,  95.65563235, ..., 103.1988372 ,\n",
              "         105.2378259 , 107.4709263 ],\n",
              "        [100.12492197, 100.24968828, 100.62305899, ..., 107.81929326,\n",
              "         109.772492  , 111.91514643]],\n",
              "\n",
              "       [[ 10.        ,  11.18033989,  14.14213562, ...,  41.23105626,\n",
              "          46.09772229,  50.99019514],\n",
              "        [ 11.18033989,  12.24744871,  15.        , ...,  41.53311931,\n",
              "          46.36809248,  51.23475383],\n",
              "        [ 14.14213562,  15.        ,  17.32050808, ...,  42.42640687,\n",
              "          47.16990566,  51.96152423],\n",
              "        ...,\n",
              "        [ 90.55385138,  90.69178574,  91.10433579, ...,  98.99494937,\n",
              "         101.11874208, 103.44080433],\n",
              "        [ 95.52486587,  95.65563235,  96.04686356, ..., 103.56157589,\n",
              "         105.59356041, 107.81929326],\n",
              "        [100.49875621, 100.62305899, 100.99504938, ..., 108.16653826,\n",
              "         110.11357773, 112.2497216 ]],\n",
              "\n",
              "       ...,\n",
              "\n",
              "       [[ 90.        ,  90.13878189,  90.55385138, ...,  98.48857802,\n",
              "         100.62305899, 102.95630141],\n",
              "        [ 90.13878189,  90.27735043,  90.69178574, ...,  98.61541462,\n",
              "         100.7472084 , 103.07764064],\n",
              "        [ 90.55385138,  90.69178574,  91.10433579, ...,  98.99494937,\n",
              "         101.11874208, 103.44080433],\n",
              "        ...,\n",
              "        [127.27922061, 127.37739203, 127.67145335, ..., 133.41664064,\n",
              "         135.        , 136.74794331],\n",
              "        [130.86252328, 130.95800854, 131.24404748, ..., 136.83932183,\n",
              "         138.38352503, 140.08925726],\n",
              "        [134.53624047, 134.62912018, 134.90737563, ..., 140.35668848,\n",
              "         141.86260959, 143.52700094]],\n",
              "\n",
              "       [[ 95.        ,  95.13148795,  95.52486587, ..., 103.07764064,\n",
              "         105.11898021, 107.35455277],\n",
              "        [ 95.13148795,  95.26279442,  95.65563235, ..., 103.1988372 ,\n",
              "         105.2378259 , 107.4709263 ],\n",
              "        [ 95.52486587,  95.65563235,  96.04686356, ..., 103.56157589,\n",
              "         105.59356041, 107.81929326],\n",
              "        ...,\n",
              "        [130.86252328, 130.95800854, 131.24404748, ..., 136.83932183,\n",
              "         138.38352503, 140.08925726],\n",
              "        [134.35028843, 134.4432966 , 134.72193585, ..., 140.17845769,\n",
              "         141.68627315, 143.35271187],\n",
              "        [137.93114224, 138.02173742, 138.29316686, ..., 143.61406616,\n",
              "         145.08618129, 146.71400751]],\n",
              "\n",
              "       [[100.        , 100.12492197, 100.49875621, ..., 107.70329614,\n",
              "         109.658561  , 111.80339887],\n",
              "        [100.12492197, 100.24968828, 100.62305899, ..., 107.81929326,\n",
              "         109.772492  , 111.91514643],\n",
              "        [100.49875621, 100.62305899, 100.99504938, ..., 108.16653826,\n",
              "         110.11357773, 112.2497216 ],\n",
              "        ...,\n",
              "        [134.53624047, 134.62912018, 134.90737563, ..., 140.35668848,\n",
              "         141.86260959, 143.52700094],\n",
              "        [137.93114224, 138.02173742, 138.29316686, ..., 143.61406616,\n",
              "         145.08618129, 146.71400751],\n",
              "        [141.42135624, 141.50971698, 141.77446879, ..., 146.96938457,\n",
              "         148.4082208 , 150.        ]]])"
            ]
          },
          "metadata": {},
          "execution_count": 132
        }
      ],
      "id": "DdaWMdgKxQ_O"
    },
    {
      "cell_type": "code",
      "source": [
        "# Exercice 3 : Visualisation 3D d’une colline gaussienne\n",
        "import matplotlib.pyplot as plt\n",
        "from mpl_toolkits.mplot3d import Axes3D\n",
        "\n",
        "# Grille carrée\n",
        "taille = 100  # mètres\n",
        "res = 1\n",
        "x = np.linspace(-taille/2, taille/2, taille // res)\n",
        "y = np.linspace(-taille/2, taille/2, taille // res)\n",
        "X, Y = np.meshgrid(x, y)\n",
        "\n",
        "# Colline gaussienne (fonction 2D)\n",
        "sigma = 15\n",
        "Z = np.exp(-(X**2 + Y**2) / (2 * sigma**2))\n",
        "\n",
        "# Visualisation 3D\n",
        "fig = plt.figure(figsize=(8,6))\n",
        "ax = fig.add_subplot(111, projection='3d')\n",
        "ax.plot_surface(X, Y, Z, cmap='terrain')\n",
        "ax.set_title(\"Colline gaussienne\")\n",
        "plt.show()\n"
      ],
      "metadata": {
        "colab": {
          "base_uri": "https://localhost:8080/",
          "height": 521
        },
        "id": "2pDvlWjwxcr3",
        "outputId": "1a495e4c-6716-472e-8e59-7dd815159264"
      },
      "execution_count": null,
      "outputs": [
        {
          "output_type": "display_data",
          "data": {
            "text/plain": [
              "<Figure size 800x600 with 1 Axes>"
            ],
            "image/png": "[encoded data removed]"
          },
          "metadata": {}
        }
      ],
      "id": "2pDvlWjwxcr3"
    },
    {
      "cell_type": "code",
      "source": [
        "# Exercice 4 : Ombrage d’un terrain (hillshading)\n",
        "def calcul_ombrage(elevation, azimut_deg=315, altitude_deg=45):\n",
        "    # Calcul des gradients\n",
        "    dx, dy = np.gradient(elevation)\n",
        "\n",
        "    # Convertir les angles en radians\n",
        "    azimut_rad = np.radians(azimut_deg)\n",
        "    altitude_rad = np.radians(altitude_deg)\n",
        "\n",
        "    # Normale au terrain\n",
        "    slope = np.pi / 2 - np.arctan(np.sqrt(dx**2 + dy**2))\n",
        "    aspect = np.arctan2(-dy, dx)\n",
        "\n",
        "    # Calcul de l'ombrage (hillshade)\n",
        "    ombrage = np.sin(altitude_rad) * np.sin(slope) + \\\n",
        "              np.cos(altitude_rad) * np.cos(slope) * \\\n",
        "              np.cos(azimut_rad - aspect)\n",
        "\n",
        "    return (ombrage - ombrage.min()) / (ombrage.max() - ombrage.min())  # normalisé entre 0 et 1\n",
        "\n",
        "# Exemple : terrain artificiel\n",
        "taille = 100\n",
        "x = np.linspace(-taille/2, taille/2, taille)\n",
        "y = np.linspace(-taille/2, taille/2, taille)\n",
        "X, Y = np.meshgrid(x, y)\n",
        "Z = np.exp(-(X**2 + Y**2) / (2 * 15**2))  # colline\n",
        "\n",
        "# Calcul de l’ombrage\n",
        "hillshade = calcul_ombrage(Z)\n",
        "\n",
        "# Affichage\n",
        "plt.imshow(hillshade, cmap='gray', origin='lower')\n",
        "plt.title(\"Ombrage du terrain\")\n",
        "plt.colorbar(label=\"Intensité lumineuse\")\n",
        "plt.show()\n"
      ],
      "metadata": {
        "colab": {
          "base_uri": "https://localhost:8080/",
          "height": 452
        },
        "id": "KA461D1sxhNH",
        "outputId": "93389f6c-2f46-4a92-e291-d748cb2ab16d"
      },
      "execution_count": null,
      "outputs": [
        {
          "output_type": "display_data",
          "data": {
            "text/plain": [
              "<Figure size 640x480 with 2 Axes>"
            ],
            "image/png": "[encoded data removed]"
          },
          "metadata": {}
        }
      ],
      "id": "KA461D1sxhNH"
    }
  ],
  "nbformat": 4,
  "nbformat_minor": 5,
  "metadata": {
    "colab": {
      "provenance": []
    },
    "language_info": {
      "name": "python"
    },
    "kernelspec": {
      "name": "python3",
      "display_name": "Python 3"
    }
  }
}